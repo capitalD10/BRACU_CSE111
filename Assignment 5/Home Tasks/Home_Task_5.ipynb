{
  "nbformat": 4,
  "nbformat_minor": 0,
  "metadata": {
    "colab": {
      "provenance": []
    },
    "kernelspec": {
      "name": "python3",
      "display_name": "Python 3"
    },
    "language_info": {
      "name": "python"
    }
  },
  "cells": [
    {
      "cell_type": "code",
      "execution_count": 55,
      "metadata": {
        "colab": {
          "base_uri": "https://localhost:8080/"
        },
        "id": "oFLl3M4qK2Ab",
        "outputId": "53668790-96bf-489e-9b12-7ea87c2c1515"
      },
      "outputs": [
        {
          "output_type": "stream",
          "name": "stdout",
          "text": [
            "=================================\n",
            "A book can not be added without author name\n",
            "=================================\n",
            "Number of Book(s): 1\n",
            "Author Name: Anna Kavan\n",
            "Science Fiction: Ice\n",
            "=================================\n",
            "=================================\n",
            "Number of Book(s): 2\n",
            "Author Name: Humayun Ahmed\n",
            "Science Fiction: Onnobhubon\n",
            "Horror: Megher Upor Bari\n",
            "=================================\n",
            "Number of Book(s): 3\n",
            "Author Name: Humayun Ahmed\n",
            "Science Fiction: Onnobhubon, Ireena\n",
            "Horror: Megher Upor Bari\n",
            "=================================\n"
          ]
        }
      ],
      "source": [
        "class Author:\n",
        "  def __init__(self, author = None):\n",
        "    self.author = author\n",
        "    self.books = {}\n",
        "    self.count_books = 0\n",
        "    self.book = []\n",
        "  def setName(self, name):\n",
        "    self.author = name\n",
        "  def addBook(self, book, genre):\n",
        "    if self.author == None:\n",
        "      print(\"A book can not be added without author name\")\n",
        "    else:\n",
        "      self.count_books += 1\n",
        "      if genre in self.books:\n",
        "        for key in self.books:\n",
        "          if key == genre:\n",
        "            self.books[key] += [book]\n",
        "          else:\n",
        "            continue\n",
        "      else:\n",
        "        self.book = []\n",
        "        self.book.append(book)\n",
        "        self.books[genre] = self.book\n",
        "  def printDetail(self):\n",
        "    print(f\"Number of Book(s): {self.count_books}\")\n",
        "    print(f\"Author Name: {self.author}\")\n",
        "    for key in self.books:\n",
        "      genre = f\"{key}: {', '.join(self.books[key])}\"\n",
        "      print(genre)\n",
        "\n",
        "a1 = Author()\n",
        "print(\"=================================\")\n",
        "a1.addBook(\"Ice\", \"Science Fiction\")\n",
        "print(\"=================================\")\n",
        "a1.setName(\"Anna Kavan\")\n",
        "a1.addBook(\"Ice\", \"Science Fiction\")\n",
        "a1.printDetail()\n",
        "print(\"=================================\")\n",
        "a2 = Author(\"Humayun Ahmed\")\n",
        "a2.addBook(\"Onnobhubon\", \"Science Fiction\")\n",
        "a2.addBook(\"Megher Upor Bari\", \"Horror\")\n",
        "print(\"=================================\")\n",
        "a2.printDetail()\n",
        "a2.addBook(\"Ireena\", \"Science Fiction\")\n",
        "print(\"=================================\")\n",
        "a2.printDetail()\n",
        "print(\"=================================\")"
      ]
    }
  ]
}