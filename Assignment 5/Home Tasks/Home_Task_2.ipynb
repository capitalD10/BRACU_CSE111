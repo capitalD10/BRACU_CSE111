{
  "nbformat": 4,
  "nbformat_minor": 0,
  "metadata": {
    "colab": {
      "provenance": []
    },
    "kernelspec": {
      "name": "python3",
      "display_name": "Python 3"
    },
    "language_info": {
      "name": "python"
    }
  },
  "cells": [
    {
      "cell_type": "code",
      "execution_count": 52,
      "metadata": {
        "colab": {
          "base_uri": "https://localhost:8080/"
        },
        "id": "oFLl3M4qK2Ab",
        "outputId": "c33af920-cae0-43f2-f82f-5c2a3c9ce388"
      },
      "outputs": [
        {
          "output_type": "stream",
          "name": "stdout",
          "text": [
            "Frodo has 0 item(s) in the cart.\n",
            "Items: []\n",
            "Total spent: 0.\n",
            "1----------------------\n",
            "Ordered - Chicken Lollipop, quantity - 3, price (per Unit) - 15.\n",
            "Total price - 45\n",
            "Ordered - Beef Nugget, quantity - 6, price (per Unit) - 20.\n",
            "Total price - 120\n",
            "Ordered - Americano, quantity - 1, price (per Unit) - 180.\n",
            "Total price - 180\n",
            "2----------------------\n",
            "Frodo has 3 item(s) in the cart.\n",
            "Items: ['Chicken Lollipop', 'Beef Nugget', 'Americano']\n",
            "Total spent: 345.\n",
            "3----------------------\n",
            "Ordered - Red Velvet, quantity - 1, price (per Unit) - 150.\n",
            "Total price - 150\n",
            "4----------------------\n",
            "Gives 20/- tips to the waiter.\n",
            "5----------------------\n",
            "Frodo has 4 item(s) in the cart.\n",
            "Items: ['Chicken Lollipop', 'Beef Nugget', 'Americano', 'Red Velvet']\n",
            "Total spent: 515.\n",
            "6----------------------\n",
            "Ordered - Prawn Tempura, quantity - 6, price (per Unit) - 80.\n",
            "Total price - 480\n",
            "Ordered - Saute Veg, quantity - 1, price (per Unit) - 200.\n",
            "Total price - 200\n",
            "7----------------------\n",
            "No tips to the waiter.\n",
            "8----------------------\n",
            "Bilbo has 2 item(s) in the cart.\n",
            "Items: ['Prawn Tempura', 'Saute Veg']\n",
            "Total spent: 680.\n"
          ]
        }
      ],
      "source": [
        "class Foodie:\n",
        "  def __init__(self, name):\n",
        "    self.name = name\n",
        "    self.total_price = 0\n",
        "    self.price = 0\n",
        "    self.orders = []\n",
        "  def order(self, *orders):\n",
        "    for food in orders:\n",
        "      food = food.split(\"-\")\n",
        "      self.orders.append(food[0])\n",
        "      for key in menu:\n",
        "        if food[0] == key:\n",
        "          self.price = menu[key] * int(food[1])\n",
        "          print(f\"Ordered - {food[0]}, quantity - {food[1]}, price (per Unit) - {menu[key]}.\")\n",
        "          print(f\"Total price - {self.price}\")\n",
        "          self.total_price += self.price\n",
        "        else:\n",
        "          continue\n",
        "  def pay_tips(self, tip = 0):\n",
        "    self.total_price += tip\n",
        "    if tip == 0:\n",
        "      print(\"No tips to the waiter.\")\n",
        "    else:\n",
        "      print(f\"Gives {tip}/- tips to the waiter.\")\n",
        "  def show_orders(self):\n",
        "    return f\"{self.name} has {len(self.orders)} item(s) in the cart.\\nItems: {self.orders}\\nTotal spent: {self.total_price}.\"\n",
        "\n",
        "menu = {'Chicken Lollipop':15,'Beef Nugget':20,'Americano':180,'Red Velvet':150,'Prawn Tempura':80,'Saute Veg':200}\n",
        "\n",
        "\n",
        "f1 = Foodie('Frodo')\n",
        "print(f1.show_orders())\n",
        "print('1----------------------')\n",
        "f1.order('Chicken Lollipop-3','Beef Nugget-6','Americano-1')\n",
        "print('2----------------------')\n",
        "print(f1.show_orders())\n",
        "print('3----------------------')\n",
        "f1.order('Red Velvet-1')\n",
        "print('4----------------------')\n",
        "f1.pay_tips(20)\n",
        "print('5----------------------')\n",
        "print(f1.show_orders())\n",
        "f2 = Foodie('Bilbo')\n",
        "print('6----------------------')\n",
        "f2.order('Prawn Tempura-6','Saute Veg-1')\n",
        "print('7----------------------')\n",
        "f2.pay_tips()\n",
        "print('8----------------------')\n",
        "print(f2.show_orders())"
      ]
    }
  ]
}
