{
  "nbformat": 4,
  "nbformat_minor": 0,
  "metadata": {
    "colab": {
      "provenance": []
    },
    "kernelspec": {
      "name": "python3",
      "display_name": "Python 3"
    },
    "language_info": {
      "name": "python"
    }
  },
  "cells": [
    {
      "cell_type": "code",
      "execution_count": 51,
      "metadata": {
        "colab": {
          "base_uri": "https://localhost:8080/"
        },
        "id": "oFLl3M4qK2Ab",
        "outputId": "2ab28fe5-2c78-4d71-cbdc-99e727cc436c"
      },
      "outputs": [
        {
          "output_type": "stream",
          "name": "stdout",
          "text": [
            "--------------------------\n",
            "--------------------------\n",
            "Alif is eligible for Merit-based scholarship.\n",
            "--------------------------\n",
            "Name: Alif\n",
            "Department: CSE\n",
            "CGPA: 3.99\n",
            "Number of Credits: 12\n",
            "Scholarship status: Merit-based scholarship\n",
            "--------------------------\n",
            "--------------------------\n",
            "Mim is not eligible for scholarship.\n",
            "--------------------------\n",
            "Henry is eligible for Need-based scholarship.\n",
            "--------------------------\n",
            "Name: Mim\n",
            "Department: CSE\n",
            "CGPA: 3.4\n",
            "Number of Credits: 9\n",
            "Scholarship status: No scholarsip\n",
            "--------------------------\n",
            "Name: Henry\n",
            "Department: BBA\n",
            "CGPA: 3.5\n",
            "Number of Credits: 15\n",
            "Scholarship status: Need-based scholarship\n",
            "--------------------------\n",
            "--------------------------\n",
            "Bob is not eligible for scholarship.\n",
            "--------------------------\n",
            "Name: Bob\n",
            "Department: CSE\n",
            "CGPA: 4.0\n",
            "Number of Credits: 6\n",
            "Scholarship status: No scholarsip\n"
          ]
        }
      ],
      "source": [
        "class Student:\n",
        "  def __init__(self, name, cgpa, credits = 9, department = \"CSE\"):\n",
        "    self.name = name\n",
        "    self.cgpa = cgpa\n",
        "    self.credits = credits\n",
        "    self.department = department\n",
        "    self.scholarship = \"No scholarsip\"\n",
        "  def checkScholarshipEligibility(self):\n",
        "    if (self.cgpa >= 3.5) and (self.credits > 10):\n",
        "      if self.cgpa >= 3.7:\n",
        "        self.scholarship = \"Merit-based scholarship\"\n",
        "      elif 3.7 > self.cgpa >= 3.5:\n",
        "        self.scholarship = \"Need-based scholarship\"\n",
        "      print(f\"{self.name} is eligible for {self.scholarship}.\")\n",
        "    else:\n",
        "      print(f\"{self.name} is not eligible for scholarship.\")\n",
        "  def showDetails(self):\n",
        "    print(f\"Name: {self.name}\")\n",
        "    print(f\"Department: {self.department}\")\n",
        "    print(f\"CGPA: {self.cgpa}\")\n",
        "    print(f\"Number of Credits: {self.credits}\")\n",
        "    print(f\"Scholarship status: {self.scholarship}\")\n",
        "\n",
        "print('--------------------------')\n",
        "std1 = Student(\"Alif\", 3.99, 12)\n",
        "print('--------------------------')\n",
        "std1.checkScholarshipEligibility()\n",
        "print('--------------------------')\n",
        "std1.showDetails()\n",
        "print('--------------------------')\n",
        "std2 = Student(\"Mim\", 3.4)\n",
        "std3 = Student(\"Henry\", 3.5, 15,\"BBA\")\n",
        "print('--------------------------')\n",
        "std2.checkScholarshipEligibility()\n",
        "print('--------------------------')\n",
        "std3.checkScholarshipEligibility()\n",
        "print('--------------------------')\n",
        "std2.showDetails()\n",
        "print('--------------------------')\n",
        "std3.showDetails()\n",
        "print('--------------------------')\n",
        "std4 = Student(\"Bob\", 4.0, 6, \"CSE\")\n",
        "print('--------------------------')\n",
        "std4.checkScholarshipEligibility()\n",
        "print('--------------------------')\n",
        "std4.showDetails()"
      ]
    }
  ]
}