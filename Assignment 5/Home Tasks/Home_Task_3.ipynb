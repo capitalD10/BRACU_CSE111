{
  "nbformat": 4,
  "nbformat_minor": 0,
  "metadata": {
    "colab": {
      "provenance": []
    },
    "kernelspec": {
      "name": "python3",
      "display_name": "Python 3"
    },
    "language_info": {
      "name": "python"
    }
  },
  "cells": [
    {
      "cell_type": "code",
      "execution_count": 53,
      "metadata": {
        "colab": {
          "base_uri": "https://localhost:8080/"
        },
        "id": "oFLl3M4qK2Ab",
        "outputId": "9159d26b-f0e9-4cc4-e11d-51210020bcb3"
      },
      "outputs": [
        {
          "output_type": "stream",
          "name": "stdout",
          "text": [
            "The ChE Department has 5 sections.\n",
            "1-----------------------------\n",
            "The MME Department has 5 sections.\n",
            "2-----------------------------\n",
            "The NCE Department has 8 sections.\n",
            "3-----------------------------\n",
            "The ChE Department has an average of 20.4 students in each section.\n",
            "4-----------------------------\n",
            "The MME Department doesn't have 3 sections.\n",
            "5-----------------------------\n",
            "The NCE Department has an average of 29.88 students in each section.\n",
            "6-----------------------------\n",
            "The Engineering Department has 10 sections.\n",
            "7-----------------------------\n",
            "The Engineering Department has an average of 30.7 students in each section.\n",
            "8-----------------------------\n",
            "ChE Department is merged to Engineering Department.\n",
            "MME Department is merged to Engineering Department.\n",
            "Now the Engineering Department has an average of 40.9 students in each section.\n",
            "9-----------------------------\n",
            "NCE Department is merged to Engineering Department.\n",
            "Now the Engineering Department has an average of 64.8 students in each section.\n"
          ]
        }
      ],
      "source": [
        "class Department:\n",
        "  def __init__(self, department = \"ChE Department\", sections = 5):\n",
        "    self.department = department\n",
        "    self.sections = sections\n",
        "    self.merge = 0\n",
        "    print(f\"The {self.department} has {self.sections} sections.\")\n",
        "  def add_students(self, *students):\n",
        "    self.average = 0\n",
        "    if len(students) == self.sections:\n",
        "      for each in students:\n",
        "        self.average += each\n",
        "      self.average /= self.sections\n",
        "      print(f\"The {self.department} has an average of {round(self.average, 2)} students in each section.\")\n",
        "    else:\n",
        "      print(f\"The {self.department} doesn't have {len(students)} sections.\")\n",
        "    self.merge += (self.average * self.sections)\n",
        "  def merge_Department(self, *dept):\n",
        "    for item in dept:\n",
        "      self.merge += (item.average * item.sections)\n",
        "      print(f\"{item.department} is merged to {self.department}.\")\n",
        "    self.avg = self.merge / self.sections\n",
        "    return f\"Now the {self.department} has an average of {self.avg} students in each section.\"\n",
        "\n",
        "d1 = Department()\n",
        "print('1-----------------------------')\n",
        "d2 = Department('MME Department')\n",
        "print('2-----------------------------')\n",
        "d3 = Department('NCE Department', 8)\n",
        "print('3-----------------------------')\n",
        "d1.add_students(12, 23, 12, 34, 21)\n",
        "print('4-----------------------------')\n",
        "d2.add_students(40, 30, 21)\n",
        "print('5-----------------------------')\n",
        "d3.add_students(12, 34, 41, 17, 30, 22, 32, 51)\n",
        "print('6-----------------------------')\n",
        "mega = Department('Engineering Department', 10)\n",
        "print('7-----------------------------')\n",
        "mega.add_students(21,30,40,36,10,32,27,51,45,15)\n",
        "print('8-----------------------------')\n",
        "print(mega.merge_Department(d1, d2))\n",
        "print('9-----------------------------')\n",
        "print(mega.merge_Department(d3))"
      ]
    }
  ]
}