{
  "nbformat": 4,
  "nbformat_minor": 0,
  "metadata": {
    "colab": {
      "provenance": []
    },
    "kernelspec": {
      "name": "python3",
      "display_name": "Python 3"
    },
    "language_info": {
      "name": "python"
    }
  },
  "cells": [
    {
      "cell_type": "code",
      "execution_count": 54,
      "metadata": {
        "colab": {
          "base_uri": "https://localhost:8080/"
        },
        "id": "oFLl3M4qK2Ab",
        "outputId": "2ad0f7ad-f355-4d0d-f2a1-07eabab6be98"
      },
      "outputs": [
        {
          "output_type": "stream",
          "name": "stdout",
          "text": [
            "Welcome to Shopidify\n",
            "1xxxxxxxxxxxxxxxxxxxxxxxxxxxxxxxxx\n",
            "Welcome John to Shopidify\n",
            "2xxxxxxxxxxxxxxxxxxxxxxxxxxxxxxxxx\n",
            "Items in the cart for Guest:\n",
            "- Air Jordan: 2x\n",
            "- Luffy Action Figure: 1x\n",
            "3xxxxxxxxxxxxxxxxxxxxxxxxxxxxxxxxx\n",
            "Items in the cart for John:\n",
            "- Chocolate Chip Cookies: 3x\n",
            "- Goku Action Figure: 2x\n",
            "- Dumbbells-5kg: 2x\n",
            "4xxxxxxxxxxxxxxxxxxxxxxxxxxxxxxxxx\n",
            "Items in the cart for Guest:\n",
            "- Air Jordan: 3x\n",
            "- Luffy Action Figure: 1x\n",
            "5xxxxxxxxxxxxxxxxxxxxxxxxxxxxxxxxx\n",
            "Checkout complete for Guest\n",
            "6xxxxxxxxxxxxxxxxxxxxxxxxxxxxxxxxx\n",
            "Purchase history for Guest:\n",
            "Transaction 1:\n",
            "- Air Jordan: 3x\n",
            "- Luffy Action Figure: 1x\n",
            "7xxxxxxxxxxxxxxxxxxxxxxxxxxxxxxxxx\n",
            "Checkout complete for John\n",
            "8xxxxxxxxxxxxxxxxxxxxxxxxxxxxxxxxx\n",
            "Purchase history for John:\n",
            "Transaction 1:\n",
            "- Chocolate Chip Cookies: 3x\n",
            "- Goku Action Figure: 2x\n",
            "- Dumbbells-5kg: 2x\n",
            "9xxxxxxxxxxxxxxxxxxxxxxxxxxxxxxxx\n"
          ]
        }
      ],
      "source": [
        "class Shopidify:\n",
        "  def __init__(self, name = \"Guest\"):\n",
        "    self.name = name\n",
        "    self.items = {}\n",
        "    if self.name != \"Guest\":\n",
        "      print(f\"Welcome {self.name} to Shopidify\")\n",
        "    else:\n",
        "      print(\"Welcome to Shopidify\")\n",
        "  def add_to_cart(self, item, quantity = 1):\n",
        "    if type(item) == str:\n",
        "      if item in self.items:\n",
        "        self.items[item] += 1\n",
        "      else:\n",
        "        self.items[item] = quantity\n",
        "    else:\n",
        "      for each in range(len(item)):\n",
        "        if type(item[each]) == str:\n",
        "          self.items[item[each]] = item[each + 1]\n",
        "        else:\n",
        "          continue\n",
        "  def display_cart(self):\n",
        "    print(f\"Items in the cart for {self.name}:\")\n",
        "    for key in self.items:\n",
        "      print(f\"- {key}: {self.items[key]}x\")\n",
        "  def checkout(self):\n",
        "    print(f\"Checkout complete for {self.name}\")\n",
        "  def display_history(self):\n",
        "    print(f\"Purchase history for {self.name}:\")\n",
        "    print(\"Transaction 1:\")\n",
        "    for key in self.items:\n",
        "      print(f\"- {key}: {self.items[key]}x\")\n",
        "\n",
        "guest_account = Shopidify()\n",
        "print(\"1xxxxxxxxxxxxxxxxxxxxxxxxxxxxxxxxx\")\n",
        "john_account = Shopidify(\"John\")\n",
        "print(\"2xxxxxxxxxxxxxxxxxxxxxxxxxxxxxxxxx\")\n",
        "guest_account.add_to_cart(\"Air Jordan\", 2)\n",
        "guest_account.add_to_cart(\"Luffy Action Figure\")\n",
        "guest_account.display_cart()\n",
        "print(\"3xxxxxxxxxxxxxxxxxxxxxxxxxxxxxxxxx\")\n",
        "john_account.add_to_cart([\"Chocolate Chip Cookies\", 3,\"Goku Action Figure\",2,\"Dumbbells-5kg\",2])\n",
        "john_account.display_cart()\n",
        "print(\"4xxxxxxxxxxxxxxxxxxxxxxxxxxxxxxxxx\")\n",
        "guest_account.add_to_cart(\"Air Jordan\")\n",
        "guest_account.display_cart()\n",
        "print(\"5xxxxxxxxxxxxxxxxxxxxxxxxxxxxxxxxx\")\n",
        "guest_account.checkout()\n",
        "print(\"6xxxxxxxxxxxxxxxxxxxxxxxxxxxxxxxxx\")\n",
        "guest_account.display_history()\n",
        "print(\"7xxxxxxxxxxxxxxxxxxxxxxxxxxxxxxxxx\")\n",
        "john_account.checkout()\n",
        "print(\"8xxxxxxxxxxxxxxxxxxxxxxxxxxxxxxxxx\")\n",
        "john_account.display_history()\n",
        "print(\"9xxxxxxxxxxxxxxxxxxxxxxxxxxxxxxxx\")"
      ]
    }
  ]
}