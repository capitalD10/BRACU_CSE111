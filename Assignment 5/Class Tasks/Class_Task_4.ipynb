{
  "nbformat": 4,
  "nbformat_minor": 0,
  "metadata": {
    "colab": {
      "provenance": []
    },
    "kernelspec": {
      "name": "python3",
      "display_name": "Python 3"
    },
    "language_info": {
      "name": "python"
    }
  },
  "cells": [
    {
      "cell_type": "code",
      "execution_count": 50,
      "metadata": {
        "colab": {
          "base_uri": "https://localhost:8080/"
        },
        "id": "oFLl3M4qK2Ab",
        "outputId": "56f1fdd4-48b7-414b-9836-e1fa92c1bf80"
      },
      "outputs": [
        {
          "output_type": "stream",
          "name": "stdout",
          "text": [
            "1***************\n",
            "Sphere ID: Sphere 1\n",
            "Color: White\n",
            "Volume: 4.1888\n",
            "2***************\n",
            "3***************\n",
            "Sphere ID: Sphere 2\n",
            "Color: White\n",
            "Volume: 113.09759999999999\n",
            "4***************\n",
            "5***************\n",
            "Sphere ID: Sphere 3\n",
            "Color: White\n",
            "Volume: 33.5104\n",
            "6***************\n",
            "Spheres are being merged\n",
            "7***************\n",
            "Sphere ID: Sphere 3\n",
            "Color: White\n",
            "Volume: 150.7968\n",
            "8***************\n",
            "9***************\n",
            "Spheres are being merged\n",
            "10***************\n",
            "Sphere ID: Sphere 4\n",
            "Color: Mixed Color\n",
            "Volume: 674.3967999999999\n"
          ]
        }
      ],
      "source": [
        "class Sphere:\n",
        "  def __init__(self, sphere, radius = 1, color = \"White\"):\n",
        "    self.sphere = sphere\n",
        "    self.radius = radius\n",
        "    self.color = color\n",
        "    self.vol = (4/3) * 3.1416 * ((self.radius) ** 3)\n",
        "  def merge_sphere(self, *spheres):\n",
        "    self.volume = 0\n",
        "    print(\"Spheres are being merged\")\n",
        "    for sphere in spheres:\n",
        "      self.volume += sphere.vol\n",
        "      if self.color != sphere.color:\n",
        "        self.color = \"Mixed Color\"\n",
        "      else:\n",
        "        pass\n",
        "    self.vol += self.volume\n",
        "  def printDetails(self):\n",
        "    print(f\"Sphere ID: {self.sphere}\")\n",
        "    print(f\"Color: {self.color}\")\n",
        "    print(f\"Volume: {self.vol}\")\n",
        "\n",
        "sphere1 = Sphere(\"Sphere 1\")\n",
        "print(\"1***************\")\n",
        "sphere1.printDetails()\n",
        "print(\"2***************\")\n",
        "sphere2 = Sphere(\"Sphere 2\", 3)\n",
        "print(\"3***************\")\n",
        "sphere2.printDetails()\n",
        "print(\"4***************\")\n",
        "sphere3 = Sphere(\"Sphere 3\", 2)\n",
        "print(\"5***************\")\n",
        "sphere3.printDetails()\n",
        "print(\"6***************\")\n",
        "sphere3.merge_sphere(sphere1,sphere2)\n",
        "print(\"7***************\")\n",
        "sphere3.printDetails()\n",
        "print(\"8***************\")\n",
        "sphere4 = Sphere(\"Sphere 4\", 5, \"Purple\")\n",
        "print(\"9***************\")\n",
        "sphere4.merge_sphere(sphere3)\n",
        "print(\"10***************\")\n",
        "sphere4.printDetails()"
      ]
    }
  ]
}