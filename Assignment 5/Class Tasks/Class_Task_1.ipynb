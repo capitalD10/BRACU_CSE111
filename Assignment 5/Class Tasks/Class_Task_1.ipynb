{
  "nbformat": 4,
  "nbformat_minor": 0,
  "metadata": {
    "colab": {
      "provenance": []
    },
    "kernelspec": {
      "name": "python3",
      "display_name": "Python 3"
    },
    "language_info": {
      "name": "python"
    }
  },
  "cells": [
    {
      "cell_type": "code",
      "execution_count": 47,
      "metadata": {
        "colab": {
          "base_uri": "https://localhost:8080/"
        },
        "id": "oFLl3M4qK2Ab",
        "outputId": "18e79d7b-24e2-4d79-ac8f-42d3a2f4945e"
      },
      "outputs": [
        {
          "output_type": "stream",
          "name": "stdout",
          "text": [
            "Name: Harry Potter\n",
            "ID: 123\n",
            "Department: CSE\n",
            "Daily Effort: 3 hour(s)\n",
            "Suggestion: Keep up the good work!\n",
            "========================\n",
            "Name: John Wick\n",
            "ID: 456\n",
            "Department: BBA\n",
            "Daily Effort: 2 hour(s)\n",
            "Suggestion: Should give more effort!\n",
            "========================\n",
            "Name: Naruto Uzumaki\n",
            "ID: 777\n",
            "Department: Ninja\n",
            "Daily Effort: 6 hour(s)\n",
            "Suggestion: Excellent! Now motivate others.\n"
          ]
        }
      ],
      "source": [
        "class Student:\n",
        "  def __init__(self, name, id, department = \"CSE\"):\n",
        "    self.name = name\n",
        "    self.id = id\n",
        "    self.department = department\n",
        "    self.effort = 0\n",
        "  def dailyEffort(self, hour):\n",
        "    self.hour = hour\n",
        "    self.effort += hour\n",
        "    if self.hour <= 2:\n",
        "      self.suggestion = \"Suggestion: Should give more effort!\"\n",
        "    elif self.hour <= 4:\n",
        "      self.suggestion = \"Suggestion: Keep up the good work!\"\n",
        "    else:\n",
        "      self.suggestion = \"Suggestion: Excellent! Now motivate others.\"\n",
        "  def printDetails(self):\n",
        "    print(f\"Name: {self.name}\")\n",
        "    print(f\"ID: {self.id}\")\n",
        "    print(f\"Department: {self.department}\")\n",
        "    print(f\"Daily Effort: {self.effort} hour(s)\")\n",
        "    print(f\"{self.suggestion}\")\n",
        "\n",
        "harry = Student('Harry Potter', 123)\n",
        "harry.dailyEffort(3)\n",
        "harry.printDetails()\n",
        "print('========================')\n",
        "john = Student(\"John Wick\", 456, \"BBA\")\n",
        "john.dailyEffort(2)\n",
        "john.printDetails()\n",
        "print('========================')\n",
        "naruto = Student(\"Naruto Uzumaki\", 777, \"Ninja\")\n",
        "naruto.dailyEffort(6)\n",
        "naruto.printDetails()"
      ]
    }
  ]
}