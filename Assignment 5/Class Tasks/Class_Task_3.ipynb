{
  "nbformat": 4,
  "nbformat_minor": 0,
  "metadata": {
    "colab": {
      "provenance": []
    },
    "kernelspec": {
      "name": "python3",
      "display_name": "Python 3"
    },
    "language_info": {
      "name": "python"
    }
  },
  "cells": [
    {
      "cell_type": "code",
      "execution_count": 49,
      "metadata": {
        "colab": {
          "base_uri": "https://localhost:8080/"
        },
        "id": "oFLl3M4qK2Ab",
        "outputId": "3e46ba76-3c6b-4f80-cd8e-dac6b43aa186"
      },
      "outputs": [
        {
          "output_type": "stream",
          "name": "stdout",
          "text": [
            "-------------------------------\n",
            "Dear Walker! Welcome to TaxiLagbe.\n",
            "Dear Wood! Welcome to TaxiLagbe.\n",
            "Dear Matt! Welcome to TaxiLagbe.\n",
            "Dear Wilson! Welcome to TaxiLagbe.\n",
            "-------------------------------\n",
            "Trip info for Taxi number: 1010-01\n",
            "This taxi can only cover the Dhaka area.\n",
            "Total passengers: 4\n",
            "Passengers lists:\n",
            "Walker, Wood, Matt, Wilson\n",
            "Total collected fare: 505 Taka\n",
            "-------------------------------\n",
            "Taxi Full! No more passengers can be added.\n",
            "-------------------------------\n",
            "Trip info for Taxi number: 1010-01\n",
            "This taxi can only cover the Dhaka area.\n",
            "Total passengers: 4\n",
            "Passengers lists:\n",
            "Walker, Wood, Matt, Wilson\n",
            "Total collected fare: 505 Taka\n",
            "-------------------------------\n",
            "Dear Ronald! Welcome to TaxiLagbe.\n",
            "Dear Parker! Welcome to TaxiLagbe.\n",
            "-------------------------------\n",
            "Trip info for Taxi number: 1010-02\n",
            "This taxi can only cover the Khulna area.\n",
            "Total passengers: 2\n",
            "Passengers lists:\n",
            "Ronald, Parker\n",
            "Total collected fare: 330 Taka\n"
          ]
        }
      ],
      "source": [
        "class TaxiLagbe:\n",
        "  def __init__(self, taxi_no, area):\n",
        "    self.taxi_no = taxi_no\n",
        "    self.area = area\n",
        "    self.fare = 0\n",
        "    self.passengers = 0\n",
        "    self.passenger_list = []\n",
        "  def addPassenger(self, *person):\n",
        "    if len(self.passenger_list) >= 4:\n",
        "      print(\"Taxi Full! No more passengers can be added.\")\n",
        "    else:\n",
        "      for every in person:\n",
        "        every = every.split(\"_\")\n",
        "        self.passenger_list.append(every[0])\n",
        "        self.fare += int(every[1])\n",
        "        self.passengers += 1\n",
        "        print(f\"Dear {every[0]}! Welcome to TaxiLagbe.\")\n",
        "  def printDetails(self):\n",
        "    print(f\"Trip info for Taxi number: {self.taxi_no}\")\n",
        "    print(f\"This taxi can only cover the {self.area} area.\")\n",
        "    print(f\"Total passengers: {self.passengers}\")\n",
        "    print(\"Passengers lists:\")\n",
        "    people = \"\"\n",
        "    for person in range(len(self.passenger_list)):\n",
        "      if person == len(self.passenger_list) - 1:\n",
        "        people += self.passenger_list[person]\n",
        "      else:\n",
        "        people += self.passenger_list[person] + \", \"\n",
        "    print(people)\n",
        "    print(f\"Total collected fare: {self.fare} Taka\")\n",
        "\n",
        "taxi1 = TaxiLagbe('1010-01', 'Dhaka')\n",
        "print('-------------------------------')\n",
        "taxi1.addPassenger('Walker_100', 'Wood_200','Matt_100')\n",
        "taxi1.addPassenger('Wilson_105')\n",
        "print('-------------------------------')\n",
        "taxi1.printDetails()\n",
        "print('-------------------------------')\n",
        "taxi1.addPassenger('Karen_200')\n",
        "print('-------------------------------')\n",
        "taxi1.printDetails()\n",
        "print('-------------------------------')\n",
        "taxi2 = TaxiLagbe('1010-02', 'Khulna')\n",
        "taxi2.addPassenger('Ronald_115', 'Parker_215')\n",
        "print('-------------------------------')\n",
        "taxi2.printDetails()"
      ]
    }
  ]
}
