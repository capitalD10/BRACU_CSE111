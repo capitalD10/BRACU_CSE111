{
  "nbformat": 4,
  "nbformat_minor": 0,
  "metadata": {
    "colab": {
      "provenance": []
    },
    "kernelspec": {
      "name": "python3",
      "display_name": "Python 3"
    },
    "language_info": {
      "name": "python"
    }
  },
  "cells": [
    {
      "cell_type": "code",
      "execution_count": 43,
      "metadata": {
        "colab": {
          "base_uri": "https://localhost:8080/"
        },
        "id": "oFLl3M4qK2Ab",
        "outputId": "5470632e-c7be-4486-8695-8aa0cc54bb69"
      },
      "outputs": [
        {
          "output_type": "stream",
          "name": "stdout",
          "text": [
            "1-------------------------\n",
            "Welcome to ABC Memorial Park\n",
            "2-------------------------\n",
            "Successfully purchased a ticket for Bob!\n",
            "Successfully purchased a ticket for Henry!\n",
            "Successfully purchased a ticket for Alexa!\n",
            "You can't buy more than 3 tickets\n",
            "3-------------------------\n",
            "Amount of tickets: 3\n",
            "Total price: 250 Taka\n",
            "4-------------------------\n",
            "Welcome to ABC Memorial Park\n",
            "5-------------------------\n",
            "Successfully purchased a ticket for Harry!\n",
            "Successfully purchased a ticket for Tomas!\n",
            "6-------------------------\n",
            "Amount of tickets: 2\n",
            "Total price: 200 Taka\n"
          ]
        }
      ],
      "source": [
        "class Customer:\n",
        "  def __init__(self):\n",
        "    self.tickets = 0\n",
        "    self.total_tickets = 0\n",
        "    self.total_price = 0\n",
        "    print(\"Welcome to ABC Memorial Park\")\n",
        "  def buyTicket(self, name, age):\n",
        "    self.tickets += 1\n",
        "    self.name = name\n",
        "    self.age = age\n",
        "    if self.tickets <= 3:\n",
        "      if self.age > 10:\n",
        "        self.total_price += 100\n",
        "      else:\n",
        "        self.total_price += 50\n",
        "      self.total_tickets += 1\n",
        "      print(f\"Successfully purchased a ticket for {self.name}!\")\n",
        "    else:\n",
        "      print(\"You can't buy more than 3 tickets\")\n",
        "  def showDetails(self):\n",
        "    print(f\"Amount of tickets: {self.total_tickets}\")\n",
        "    print(f\"Total price: {self.total_price} Taka\")\n",
        "\n",
        "print('1-------------------------')\n",
        "customer1 = Customer()\n",
        "print('2-------------------------')\n",
        "customer1.buyTicket('Bob', 23)\n",
        "customer1.buyTicket('Henry', 7)\n",
        "customer1.buyTicket('Alexa', 30)\n",
        "customer1.buyTicket('Jonas', 43)\n",
        "print('3-------------------------')\n",
        "customer1.showDetails()\n",
        "print('4-------------------------')\n",
        "customer2 = Customer()\n",
        "print('5-------------------------')\n",
        "customer2.buyTicket('Harry', 60)\n",
        "customer2.buyTicket('Tomas', 28)\n",
        "print('6-------------------------')\n",
        "customer2.showDetails()"
      ]
    }
  ]
}