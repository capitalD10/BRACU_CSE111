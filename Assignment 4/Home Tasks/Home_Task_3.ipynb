{
  "nbformat": 4,
  "nbformat_minor": 0,
  "metadata": {
    "colab": {
      "provenance": []
    },
    "kernelspec": {
      "name": "python3",
      "display_name": "Python 3"
    },
    "language_info": {
      "name": "python"
    }
  },
  "cells": [
    {
      "cell_type": "code",
      "execution_count": 45,
      "metadata": {
        "colab": {
          "base_uri": "https://localhost:8080/"
        },
        "id": "oFLl3M4qK2Ab",
        "outputId": "9eeef306-3328-4350-8fd6-b8a4e153cc52"
      },
      "outputs": [
        {
          "output_type": "stream",
          "name": "stdout",
          "text": [
            "1=======================\n",
            "Phone Company: GreenPhone\n",
            "Model Name: A1\n",
            "Android Version: 12\n",
            "Number of Cameras: 3\n",
            "2=======================\n",
            "Phone Company: GreenPhone\n",
            "Model Name: M11\n",
            "Android Version: 12\n",
            "Number of Cameras: 4\n",
            "3=======================\n",
            "Your phone Greenphone A1 is upgraded to Android Version: 13.\n",
            "4=======================\n",
            "Your phone Greenphone A1 is upgraded to Android Version: 14.\n",
            "Your phone Greenphone M11 is upgraded to Android Version: 13.\n",
            "Your phone Greenphone U20 is upgraded to Android Version: 13.\n",
            "5=======================\n",
            "Your phone Greenphone A1 is already up to date.\n",
            "Your phone Greenphone M11 is upgraded to Android Version: 14.\n",
            "Your phone Greenphone U20 is upgraded to Android Version: 14.\n",
            "6=======================\n",
            "Your phone Greenphone M11 is upgraded to Android Version: 15.\n",
            "Your phone Greenphone U20 is upgraded to Android Version: 15.\n",
            "7=======================\n",
            "Phone Company: GreenPhone\n",
            "Model Name: A1\n",
            "Android Version: 14\n",
            "Number of Cameras: 3\n",
            "Phone Company: GreenPhone\n",
            "Model Name: U20\n",
            "Android Version: 15\n",
            "Number of Cameras: 5\n"
          ]
        }
      ],
      "source": [
        "class GreenPhone:\n",
        "  def __init__(self, model, version, camera):\n",
        "    self.model = model\n",
        "    self.version = version\n",
        "    self.camera = camera\n",
        "    self.update = version\n",
        "  def showSpecification(self):\n",
        "    print(\"Phone Company: GreenPhone\")\n",
        "    print(f\"Model Name: {self.model}\")\n",
        "    print(f\"Android Version: {self.update}\")\n",
        "    print(f\"Number of Cameras: {self.camera}\")\n",
        "  def updatePhone(self):\n",
        "    self.update += 1\n",
        "    if self.model[0] == \"A\":\n",
        "      if (self.update - self.version) <= 2:\n",
        "        print(f\"Your phone Greenphone {self.model} is upgraded to Android Version: {self.update}.\")\n",
        "      else:\n",
        "        print(f\"Your phone Greenphone {self.model} is already up to date.\")\n",
        "        self.update -= 1\n",
        "    elif self.model[0] == \"M\":\n",
        "      if (self.update - self.version) <= 3:\n",
        "        print(f\"Your phone Greenphone {self.model} is upgraded to Android Version: {self.update}.\")\n",
        "      else:\n",
        "        print(f\"Your phone Greenphone {self.model} is already up to date.\")\n",
        "        self.update -= 1\n",
        "    elif self.model[0] == \"U\":\n",
        "      if (self.update - self.version) <= 4:\n",
        "        print(f\"Your phone Greenphone {self.model} is upgraded to Android Version: {self.update}.\")\n",
        "      else:\n",
        "        print(f\"Your phone Greenphone {self.model} is already up to date.\")\n",
        "        self.update -= 1\n",
        "\n",
        "print('1=======================')\n",
        "p1 = GreenPhone('A1', 12, 3)\n",
        "p2 = GreenPhone('M11', 12, 4)\n",
        "p3 = GreenPhone('U20', 12, 5)\n",
        "p1.showSpecification()\n",
        "print('2=======================')\n",
        "p2.showSpecification()\n",
        "print('3=======================')\n",
        "p1.updatePhone()\n",
        "print('4=======================')\n",
        "p1.updatePhone()\n",
        "p2.updatePhone()\n",
        "p3.updatePhone()\n",
        "print('5=======================')\n",
        "p1.updatePhone()\n",
        "p2.updatePhone()\n",
        "p3.updatePhone()\n",
        "print('6=======================')\n",
        "p2.updatePhone()\n",
        "p3.updatePhone()\n",
        "print('7=======================')\n",
        "p1.showSpecification()\n",
        "p3.showSpecification()"
      ]
    }
  ]
}
