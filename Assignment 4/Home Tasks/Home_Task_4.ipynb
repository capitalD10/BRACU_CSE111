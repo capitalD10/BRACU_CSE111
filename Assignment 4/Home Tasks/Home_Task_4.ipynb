{
  "nbformat": 4,
  "nbformat_minor": 0,
  "metadata": {
    "colab": {
      "provenance": []
    },
    "kernelspec": {
      "name": "python3",
      "display_name": "Python 3"
    },
    "language_info": {
      "name": "python"
    }
  },
  "cells": [
    {
      "cell_type": "code",
      "execution_count": 46,
      "metadata": {
        "colab": {
          "base_uri": "https://localhost:8080/"
        },
        "id": "oFLl3M4qK2Ab",
        "outputId": "eec43bf0-d532-4ecb-ac64-83465b23f4cf"
      },
      "outputs": [
        {
          "output_type": "stream",
          "name": "stdout",
          "text": [
            "Grades for Pietro\n",
            "{'Summer2020': {('CSE230', 'CSE220', 'MAT110'): 4.0}, 'Summer2021': {('CSE250', 'CSE330'): 3.85}}\n",
            "---------------------------------\n",
            "Name: Pietro\n",
            "ID: 10101222\n",
            "Courses taken in Summer2020:\n",
            "CSE230\n",
            "CSE220\n",
            "MAT110\n",
            "CGPA: 4.0\n",
            "Courses taken in Summer2021:\n",
            "CSE250\n",
            "CSE330\n",
            "CGPA: 3.85\n",
            "---------------------------------\n",
            "Grades for Wanda\n",
            "{'Summer2022': {('CSE111', 'CSE260', 'ENG101'): 3.8}}\n",
            "---------------------------------\n",
            "Name: Wanda\n",
            "ID: 10103332\n",
            "Courses taken in Summer2022:\n",
            "CSE111\n",
            "CSE260\n",
            "ENG101\n",
            "CGPA: 3.8\n"
          ]
        }
      ],
      "source": [
        "class StudentDatabase:\n",
        "  def __init__(self, name, id):\n",
        "    self.name = name\n",
        "    self.id = id\n",
        "    self.grades = {}\n",
        "  def calculateGPA(self, result, semester):\n",
        "    self.semester = semester\n",
        "    self.grades[semester] = {}\n",
        "    self.subjects = ()\n",
        "    total = 0\n",
        "    for sub in result:\n",
        "      sub = sub.split(\": \")\n",
        "      grade = (float(sub[1]) * 3)\n",
        "      self.subjects += (sub[0],)\n",
        "      total += grade\n",
        "    self.grades[semester][self.subjects] = round((total / (len(self.subjects) * 3)), 2)\n",
        "  def printDetails(self):\n",
        "    print(f\"Name: {self.name}\")\n",
        "    print(f\"ID: {self.id}\")\n",
        "    for key in self.grades.keys():\n",
        "      print(f\"Courses taken in {key}:\")\n",
        "      for sub in self.grades[key]:\n",
        "        for item in sub:\n",
        "          print(item)\n",
        "        print(f\"CGPA: {self.grades[key][sub]}\")\n",
        "\n",
        "s1 = StudentDatabase('Pietro', '10101222')\n",
        "s1.calculateGPA(['CSE230: 4.0', 'CSE220: 4.0', 'MAT110: 4.0'], 'Summer2020')\n",
        "s1.calculateGPA(['CSE250: 3.7', 'CSE330: 4.0'], 'Summer2021')\n",
        "print(f'Grades for {s1.name}\\n{s1.grades}')\n",
        "print('---------------------------------')\n",
        "s1.printDetails()\n",
        "s2 = StudentDatabase('Wanda', '10103332')\n",
        "s2.calculateGPA(['CSE111: 3.7', 'CSE260: 3.7', 'ENG101: 4.0'], 'Summer2022')\n",
        "print('---------------------------------')\n",
        "print(f'Grades for {s2.name}\\n{s2.grades}')\n",
        "print('---------------------------------')\n",
        "s2.printDetails()"
      ]
    }
  ]
}