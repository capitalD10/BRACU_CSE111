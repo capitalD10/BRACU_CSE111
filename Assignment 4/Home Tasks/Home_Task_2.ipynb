{
  "nbformat": 4,
  "nbformat_minor": 0,
  "metadata": {
    "colab": {
      "provenance": []
    },
    "kernelspec": {
      "name": "python3",
      "display_name": "Python 3"
    },
    "language_info": {
      "name": "python"
    }
  },
  "cells": [
    {
      "cell_type": "code",
      "execution_count": 44,
      "metadata": {
        "colab": {
          "base_uri": "https://localhost:8080/"
        },
        "id": "oFLl3M4qK2Ab",
        "outputId": "5c2772cb-86e5-47da-fd07-b0c3dbfa11d5"
      },
      "outputs": [
        {
          "output_type": "stream",
          "name": "stdout",
          "text": [
            "Kunfu is a Male Panda Bear who is 5 years old\n",
            "Pan Pan is a Female Panda Bear who is 3 years old\n",
            "Ming Ming is a Female Panda Bear who is 8 years old\n",
            "===========================\n",
            "Pan Pan sleeps 10 hours daily and should have Broccoli Chicken\n",
            "Kunfu sleeps 4 hours daily and should have Mixed Veggies\n",
            "Ming Ming's duration is 13 thus should have only bamboo leaves\n"
          ]
        }
      ],
      "source": [
        "class Panda:\n",
        "  def __init__(self, name, gender, age):\n",
        "    self.name = name\n",
        "    self.gender = gender\n",
        "    self.age = age\n",
        "  def sleep(self, hours):\n",
        "    self.hours = hours\n",
        "    if 3 <= self.hours <= 5:\n",
        "      self.statement = f\"{self.name} sleeps {self.hours} hours daily and should have Mixed Veggies\"\n",
        "    elif 6 <= self.hours <= 8:\n",
        "      self.statement = f\"{self.name} sleeps {self.hours} hours daily and should have Eggplant & Tofu\"\n",
        "    elif 9 <= self.hours <= 11:\n",
        "      self.statement = f\"{self.name} sleeps {self.hours} hours daily and should have Broccoli Chicken\"\n",
        "    else:\n",
        "      self.statement = f\"{self.name}'s duration is {self.hours} thus should have only bamboo leaves\"\n",
        "    return self.statement\n",
        "\n",
        "panda1 = Panda(\"Kunfu\", \"Male\", 5)\n",
        "panda2 = Panda(\"Pan Pan\", \"Female\",3)\n",
        "panda3 = Panda(\"Ming Ming\", \"Female\",8)\n",
        "print(\"{} is a {} Panda Bear who is {} years old\".format(panda1.name,panda1.gender,panda1.age))\n",
        "print(\"{} is a {} Panda Bear who is {} years old\".format(panda2.name,panda2.gender,panda2.age))\n",
        "print(\"{} is a {} Panda Bear who is {} years old\".format(panda3.name,panda3.gender,panda3.age))\n",
        "print(\"===========================\")\n",
        "print(panda2.sleep(10))\n",
        "print(panda1.sleep(4))\n",
        "print(panda3.sleep(13))"
      ]
    }
  ]
}
