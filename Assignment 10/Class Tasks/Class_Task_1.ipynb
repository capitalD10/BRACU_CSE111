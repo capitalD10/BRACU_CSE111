{
  "nbformat": 4,
  "nbformat_minor": 0,
  "metadata": {
    "colab": {
      "provenance": []
    },
    "kernelspec": {
      "name": "python3",
      "display_name": "Python 3"
    },
    "language_info": {
      "name": "python"
    }
  },
  "cells": [
    {
      "cell_type": "code",
      "execution_count": 72,
      "metadata": {
        "colab": {
          "base_uri": "https://localhost:8080/"
        },
        "collapsed": true,
        "id": "oFLl3M4qK2Ab",
        "outputId": "d5ff9ba8-1a90-422c-9ac9-bf1bfdce9236"
      },
      "outputs": [
        {
          "output_type": "stream",
          "name": "stdout",
          "text": [
            "Name: default Department: BBA\n",
            "Name: Humpty Dumpty Department: BBA\n",
            "Name: Little Bo Peep Department: BBA\n"
          ]
        }
      ],
      "source": [
        "class Student:\n",
        "  def __init__(self, name='Just a student', dept='nothing'):\n",
        "    self.__name = name\n",
        "    self.__department = dept\n",
        "  def set_department(self, dept):\n",
        "    self.__department = dept\n",
        "  def get_name(self):\n",
        "    return self.__name\n",
        "  def set_name(self, name):\n",
        "    self.__name = name\n",
        "  def detail(self):\n",
        "    return 'Name: '+self.__name+' Department: '+self.__department\n",
        "class BBA_Student(Student):\n",
        "  def __init__(self, name = \"default\"):\n",
        "    super().__init__(name, \"BBA\")\n",
        "\n",
        "print(BBA_Student().detail())\n",
        "print(BBA_Student('Humpty Dumpty').detail())\n",
        "print(BBA_Student('Little Bo Peep').detail())"
      ]
    }
  ]
}