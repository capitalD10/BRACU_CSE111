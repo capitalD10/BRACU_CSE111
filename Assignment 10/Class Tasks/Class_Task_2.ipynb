{
  "nbformat": 4,
  "nbformat_minor": 0,
  "metadata": {
    "colab": {
      "provenance": []
    },
    "kernelspec": {
      "name": "python3",
      "display_name": "Python 3"
    },
    "language_info": {
      "name": "python"
    }
  },
  "cells": [
    {
      "cell_type": "code",
      "execution_count": 74,
      "metadata": {
        "colab": {
          "base_uri": "https://localhost:8080/"
        },
        "collapsed": true,
        "id": "oFLl3M4qK2Ab",
        "outputId": "9b076c42-3ff8-4a54-dd0e-0160db628132"
      },
      "outputs": [
        {
          "output_type": "stream",
          "name": "stdout",
          "text": [
            "Part 1\n",
            "------\n",
            "(0 , 0)\n",
            "(0 , 1)\n",
            "(-1 , 1)\n",
            "(-1 , 0)\n",
            "(0 , 0)\n",
            "------\n",
            "Part 2\n",
            "------\n",
            "(0 , 0)\n",
            "(-1 , -1)\n",
            "False\n",
            "True\n"
          ]
        }
      ],
      "source": [
        "class Vehicle:\n",
        "  def __init__(self):\n",
        "    self.x = 0\n",
        "    self.y = 0\n",
        "  def moveUp(self):\n",
        "    self.y += 1\n",
        "  def moveDown(self):\n",
        "    self.y -= 1\n",
        "  def moveRight(self):\n",
        "    self.x += 1\n",
        "  def moveLeft(self):\n",
        "    self.x -= 1\n",
        "  def detail(self):\n",
        "    return '('+str(self.x)+' , '+str(self.y)+')'\n",
        "class Vehicle2010(Vehicle):\n",
        "  def __init__(self):\n",
        "    super().__init__()\n",
        "  def moveUpperRight(self):\n",
        "    super().moveUp()\n",
        "    super().moveRight()\n",
        "  def moveUpperLeft(self):\n",
        "    super().moveUp()\n",
        "    super().moveLeft()\n",
        "  def moveLowerRight(self):\n",
        "    super().moveDown()\n",
        "    super().moveRight()\n",
        "  def moveLowerLeft(self):\n",
        "    super().moveDown()\n",
        "    super().moveLeft()\n",
        "  def equals(self, obj):\n",
        "    if (self.x == obj.x) and (self.y == obj.y):\n",
        "      return True\n",
        "    else:\n",
        "      return False\n",
        "\n",
        "print('Part 1')\n",
        "print('------')\n",
        "car = Vehicle()\n",
        "print(car.detail())\n",
        "car.moveUp()\n",
        "print(car.detail())\n",
        "car.moveLeft()\n",
        "print(car.detail())\n",
        "car.moveDown()\n",
        "print(car.detail())\n",
        "car.moveRight()\n",
        "print(car.detail())\n",
        "print('------')\n",
        "print('Part 2')\n",
        "print('------')\n",
        "car1 = Vehicle2010()\n",
        "print(car1.detail())\n",
        "car1.moveLowerLeft()\n",
        "print(car1.detail())\n",
        "car2 = Vehicle2010()\n",
        "car2.moveLeft()\n",
        "print(car1.equals(car2))\n",
        "car2.moveDown()\n",
        "print(car1.equals(car2))"
      ]
    }
  ]
}