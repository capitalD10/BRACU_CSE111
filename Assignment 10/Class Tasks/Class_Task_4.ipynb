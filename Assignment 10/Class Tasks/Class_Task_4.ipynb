{
  "nbformat": 4,
  "nbformat_minor": 0,
  "metadata": {
    "colab": {
      "provenance": []
    },
    "kernelspec": {
      "name": "python3",
      "display_name": "Python 3"
    },
    "language_info": {
      "name": "python"
    }
  },
  "cells": [
    {
      "cell_type": "code",
      "execution_count": 76,
      "metadata": {
        "colab": {
          "base_uri": "https://localhost:8080/"
        },
        "collapsed": true,
        "id": "oFLl3M4qK2Ab",
        "outputId": "0d43ddce-36d0-4b71-dfe0-7c849fd6ac83"
      },
      "outputs": [
        {
          "output_type": "stream",
          "name": "stdout",
          "text": [
            "ID: 1 Title:The Alchemist Price: 500\n",
            "ISBN: 97806 Publisher: HarperCollins\n",
            "-----------------------\n",
            "ID: 2 Title:Shotto Price: 300\n",
            "Band: Warfaze Duration: 50 minutes\n",
            "Genre: Hard Rock\n"
          ]
        }
      ],
      "source": [
        "class Product:\n",
        "  def __init__(self,id, title, price):\n",
        "    self.__id = id\n",
        "    self.__title = title\n",
        "    self.__price = price\n",
        "  def get_id_title_price(self):\n",
        "    return \"ID: \"+str(self.__id)+\" Title:\"+self.__title+\" Price: \"+str(self.__price)\n",
        "class Book(Product):\n",
        "  def __init__(self, ID, name, price, isbn, publish):\n",
        "    super().__init__(ID, name, price)\n",
        "    self.__isbn = isbn\n",
        "    self.__publish = publish\n",
        "  def printDetail(self):\n",
        "    return f\"{super().get_id_title_price()}\\nISBN: {self.__isbn} Publisher: {self.__publish}\"\n",
        "class CD(Product):\n",
        "  def __init__(self, ID, name, price, band, time, genre):\n",
        "    super().__init__(ID, name, price)\n",
        "    self.__band = band\n",
        "    self.__time = time\n",
        "    self.__genre = genre\n",
        "  def printDetail(self):\n",
        "    return f\"{super().get_id_title_price()}\\nBand: {self.__band} Duration: {self.__time} minutes\\nGenre: {self.__genre}\"\n",
        "\n",
        "book = Book(1,\"The Alchemist\",500,\"97806\",\"HarperCollins\")\n",
        "print(book.printDetail())\n",
        "print(\"-----------------------\")\n",
        "cd = CD(2,\"Shotto\",300,\"Warfaze\",50,\"Hard Rock\")\n",
        "print(cd.printDetail())"
      ]
    }
  ]
}