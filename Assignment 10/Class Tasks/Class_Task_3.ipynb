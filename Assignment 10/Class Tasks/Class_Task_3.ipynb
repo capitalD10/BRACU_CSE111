{
  "nbformat": 4,
  "nbformat_minor": 0,
  "metadata": {
    "colab": {
      "provenance": []
    },
    "kernelspec": {
      "name": "python3",
      "display_name": "Python 3"
    },
    "language_info": {
      "name": "python"
    }
  },
  "cells": [
    {
      "cell_type": "code",
      "execution_count": 75,
      "metadata": {
        "colab": {
          "base_uri": "https://localhost:8080/"
        },
        "collapsed": true,
        "id": "oFLl3M4qK2Ab",
        "outputId": "15b36ec8-988a-4081-efd7-2b026f472ae3"
      },
      "outputs": [
        {
          "output_type": "stream",
          "name": "stdout",
          "text": [
            "Cricket Tournament Name: Default\n",
            "Number of Teams: 0\n",
            "Type: No Type\n",
            "-----------------------\n",
            "Cricket Tournament Name: IPL\n",
            "Number of Teams: 10\n",
            "Type: t20\n",
            "-----------------------\n",
            "Tennis Tournament Name: Roland Garros\n",
            "Number of Players: 128\n"
          ]
        }
      ],
      "source": [
        "class Tournament:\n",
        "    def __init__(self,name='Default'):\n",
        "        self.__name = name\n",
        "    def set_name(self,name):\n",
        "        self.__name = name\n",
        "    def get_name(self):\n",
        "        return self.__name\n",
        "class Cricket_Tournament(Tournament):\n",
        "  def __init__(self, tour_name = \"Default\", teams = 0, t_type = \"No Type\"):\n",
        "    super().__init__(tour_name)\n",
        "    self.__teams = teams\n",
        "    self.__t_type = t_type\n",
        "  def detail(self):\n",
        "    return f\"Cricket Tournament Name: {super().get_name()}\\nNumber of Teams: {self.__teams}\\nType: {self.__t_type}\"\n",
        "class Tennis_Tournament(Tournament):\n",
        "  def __init__(self, tour_name = \"Default\", players = 0):\n",
        "    super().__init__(tour_name)\n",
        "    self.__players = players\n",
        "  def detail(self):\n",
        "    return f\"Tennis Tournament Name: {super().get_name()}\\nNumber of Players: {self.__players}\"\n",
        "\n",
        "ct1 = Cricket_Tournament()\n",
        "print(ct1.detail())\n",
        "print(\"-----------------------\")\n",
        "ct2 = Cricket_Tournament(\"IPL\",10,\"t20\")\n",
        "print(ct2.detail())\n",
        "print(\"-----------------------\")\n",
        "tt = Tennis_Tournament(\"Roland Garros\",128)\n",
        "print(tt.detail())"
      ]
    }
  ]
}