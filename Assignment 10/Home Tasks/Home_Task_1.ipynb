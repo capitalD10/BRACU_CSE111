{
  "nbformat": 4,
  "nbformat_minor": 0,
  "metadata": {
    "colab": {
      "provenance": []
    },
    "kernelspec": {
      "name": "python3",
      "display_name": "Python 3"
    },
    "language_info": {
      "name": "python"
    }
  },
  "cells": [
    {
      "cell_type": "code",
      "execution_count": 78,
      "metadata": {
        "colab": {
          "base_uri": "https://localhost:8080/"
        },
        "collapsed": true,
        "id": "oFLl3M4qK2Ab",
        "outputId": "c7213860-397d-4aee-9002-ab38c946430c"
      },
      "outputs": [
        {
          "output_type": "stream",
          "name": "stdout",
          "text": [
            "Shape name: Default\n",
            "Height: 0, Base: 0\n",
            "Area: 0.0\n",
            "--------------------------\n",
            "Shape name: Triangle\n",
            "Height: 10, Base: 5\n",
            "Area: 25.0\n",
            "---------------------------\n",
            "Shape name: Trapezoid\n",
            "Height: 10, Base: 6, Side_A: 4\n",
            "Area: 50.0\n"
          ]
        }
      ],
      "source": [
        "class Shape:\n",
        "  def __init__(self, name='Default', height=0, base=0):\n",
        "    self.area = 0\n",
        "    self.name = name\n",
        "    self.height = height\n",
        "    self.base = base\n",
        "  def get_height_base(self):\n",
        "    return \"Height: \"+str(self.height)+\", Base: \"+str(self.base)\n",
        "class triangle(Shape):\n",
        "  def __init__(self, name = \"Default\", height = 0, base = 0):\n",
        "    super().__init__(name, height, base)\n",
        "  def calcArea(self):\n",
        "    self.area = 0.5 * self.height * self.base\n",
        "  def printDetail(self):\n",
        "    return f\"Shape name: {self.name}\\n{super().get_height_base()}\\nArea: {self.area}\"\n",
        "class trapezoid(Shape):\n",
        "  def __init__(self, name = \"Default\", height = 0, base = 0, side = 0):\n",
        "    super().__init__(name, height, base)\n",
        "    self.side = side\n",
        "  def calcArea(self):\n",
        "    ab = self.side + self.base\n",
        "    self.area = 0.5 * ab * self.height\n",
        "  def printDetail(self):\n",
        "    return f\"Shape name: {self.name}\\n{super().get_height_base()}, Side_A: {self.side}\\nArea: {self.area}\"\n",
        "\n",
        "tri_default = triangle()\n",
        "tri_default.calcArea()\n",
        "print(tri_default.printDetail())\n",
        "print('--------------------------')\n",
        "tri = triangle('Triangle', 10, 5)\n",
        "tri.calcArea()\n",
        "print(tri.printDetail())\n",
        "print('---------------------------')\n",
        "trap = trapezoid('Trapezoid', 10, 6, 4)\n",
        "trap.calcArea()\n",
        "print(trap.printDetail())"
      ]
    }
  ]
}