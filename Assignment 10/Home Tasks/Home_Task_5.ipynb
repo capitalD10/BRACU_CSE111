{
  "nbformat": 4,
  "nbformat_minor": 0,
  "metadata": {
    "colab": {
      "provenance": []
    },
    "kernelspec": {
      "name": "python3",
      "display_name": "Python 3"
    },
    "language_info": {
      "name": "python"
    }
  },
  "cells": [
    {
      "cell_type": "code",
      "execution_count": 82,
      "metadata": {
        "colab": {
          "base_uri": "https://localhost:8080/"
        },
        "collapsed": true,
        "id": "oFLl3M4qK2Ab",
        "outputId": "dbd4c294-2c74-45df-c1b0-0b5b2be340a7"
      },
      "outputs": [
        {
          "output_type": "stream",
          "name": "stdout",
          "text": [
            "-----------------1-----------------\n",
            "Name: KK Regular Tea, Weight: 100\n",
            "Tea Bags: 50, Price: 250\n",
            "Status: False\n",
            "-----------------2-----------------\n",
            "Total sales: {'KK Regular Tea': 0}\n",
            "-----------------3-----------------\n",
            "-----------------4-----------------\n",
            "Name: KK Regular Tea, Weight: 150\n",
            "Tea Bags: 75, Price: 360\n",
            "Status: True\n",
            "-----------------5-----------------\n",
            "Total sales: {'KK Regular Tea': 3}\n",
            "-----------------6-----------------\n",
            "-----------------7-----------------\n",
            "Name: KK Jasmine Tea, Weight: 100\n",
            "Tea Bags: 50, Price: 260\n",
            "Status: False\n",
            "-----------------8-----------------\n",
            "Name: KK Honey Lemon Tea, Weight: 90\n",
            "Tea Bags: 45, Price: 270\n",
            "Status: False\n",
            "-----------------9-----------------\n",
            "-----------------10-----------------\n",
            "Total sales: {'KK Regular Tea': 3, 'KK Jasmine Tea': 1, 'KK Honey Lemon Tea': 2}\n"
          ]
        }
      ],
      "source": [
        "class KK_tea:\n",
        "  sales = {\"KK Regular Tea\": 0}\n",
        "\n",
        "  def __init__(self, price, bags=50):\n",
        "    self.price = price\n",
        "    self.bags = bags\n",
        "    self.status = False\n",
        "    self.weight = self.bags * 2\n",
        "    self.name = \"KK Regular Tea\"\n",
        "\n",
        "  def set_name(self, name):\n",
        "    self.name = \"KK \" + name + \" Tea\"\n",
        "\n",
        "  def product_detail(self):\n",
        "    print(f\"Name: {self.name}, Weight: {self.weight}\")\n",
        "    print(f\"Tea Bags: {self.bags}, Price: {self.price}\")\n",
        "    print(f\"Status: {self.status}\")\n",
        "\n",
        "  @classmethod\n",
        "  def total_sales(cls):\n",
        "    print(f\"Total sales: {cls.sales}\")\n",
        "\n",
        "  @classmethod\n",
        "  def update_sold_status_regular(cls, *teas):\n",
        "    for tea in teas:\n",
        "      tea.status = True\n",
        "      if tea.status:\n",
        "        cls.sales[tea.name] = cls.sales.get(tea.name, 0) + 1\n",
        "\n",
        "\n",
        "class KK_flavoured_tea(KK_tea):\n",
        "  def __init__(self, name, price, bags):\n",
        "    super().__init__(price, bags)\n",
        "    super().set_name(name)\n",
        "\n",
        "  @classmethod\n",
        "  def update_sold_status_flavoured(cls, *prods):\n",
        "    super().update_sold_status_regular(*prods)\n",
        "\n",
        "\n",
        "t1 = KK_tea(250)\n",
        "print(\"-----------------1-----------------\")\n",
        "t1.product_detail()\n",
        "print(\"-----------------2-----------------\")\n",
        "KK_tea.total_sales()\n",
        "print(\"-----------------3-----------------\")\n",
        "t2 = KK_tea(470, 100)\n",
        "t3 = KK_tea(360, 75)\n",
        "KK_tea.update_sold_status_regular(t1, t2, t3)\n",
        "print(\"-----------------4-----------------\")\n",
        "t3.product_detail()\n",
        "print(\"-----------------5-----------------\")\n",
        "KK_tea.total_sales()\n",
        "print(\"-----------------6-----------------\")\n",
        "t4 = KK_flavoured_tea(\"Jasmine\", 260, 50)\n",
        "t5 = KK_flavoured_tea(\"Honey Lemon\", 270, 45)\n",
        "t6 = KK_flavoured_tea(\"Honey Lemon\", 270, 45)\n",
        "print(\"-----------------7-----------------\")\n",
        "t4.product_detail()\n",
        "print(\"-----------------8-----------------\")\n",
        "t6.product_detail()\n",
        "print(\"-----------------9-----------------\")\n",
        "KK_flavoured_tea.update_sold_status_flavoured(t4, t5, t6)\n",
        "print(\"-----------------10-----------------\")\n",
        "KK_tea.total_sales()\n"
      ]
    }
  ]
}