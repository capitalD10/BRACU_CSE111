{
  "nbformat": 4,
  "nbformat_minor": 0,
  "metadata": {
    "colab": {
      "provenance": []
    },
    "kernelspec": {
      "name": "python3",
      "display_name": "Python 3"
    },
    "language_info": {
      "name": "python"
    }
  },
  "cells": [
    {
      "cell_type": "code",
      "execution_count": 79,
      "metadata": {
        "colab": {
          "base_uri": "https://localhost:8080/"
        },
        "collapsed": true,
        "id": "oFLl3M4qK2Ab",
        "outputId": "f4d92069-e226-4f94-c21a-7efc70e27c43"
      },
      "outputs": [
        {
          "output_type": "stream",
          "name": "stdout",
          "text": [
            "Name: Ronaldo, Team Name: Al-Nassr\n",
            "Team Role: Striker\n",
            "Total Goal: 25, Total Played: 32\n",
            "Goal Ratio: 0.78125\n",
            "Match Earning: 25320K\n",
            "------------------------------------------\n",
            "Name: Zidane, Team Name: Real Madrid\n",
            "Team Role: Manager\n",
            "Team Win: 25\n",
            "Match Earning: 25000K\n"
          ]
        }
      ],
      "source": [
        "class SportsPerson:\n",
        "  def __init__(self, team_name, name, role):\n",
        "    self.__team = team_name\n",
        "    self.__name = name\n",
        "    self.role = role\n",
        "    self.earning_per_match = 0\n",
        "  def get_name_team(self):\n",
        "    return 'Name: '+self.__name+', Team Name: ' +self.__team\n",
        "class Player(SportsPerson):\n",
        "  def __init__(self, team, name, pos, goal, played):\n",
        "    super().__init__(team, name, pos)\n",
        "    self.goal = goal\n",
        "    self.played = played\n",
        "  def calculate_ratio(self):\n",
        "    self.ratio = self.goal / self.played\n",
        "    self.earning_per_match += (self.goal * 1000) + (self.played * 10)\n",
        "  def print_details(self):\n",
        "    print(f\"{super().get_name_team()}\\nTeam Role: {self.role}\\nTotal Goal: {self.goal}, Total Played: {self.played}\")\n",
        "    print(f\"Goal Ratio: {self.ratio}\\nMatch Earning: {self.earning_per_match}K\")\n",
        "class Manager(SportsPerson):\n",
        "  def __init__(self, team, name, role, wins):\n",
        "    super().__init__(team, name, role)\n",
        "    self.wins = wins\n",
        "    self.earning_per_match += self.wins * 1000\n",
        "  def print_details(self):\n",
        "    print(f\"{super().get_name_team()}\\nTeam Role: {self.role}\")\n",
        "    print(f\"Team Win: {self.wins}\\nMatch Earning: {self.earning_per_match}K\")\n",
        "\n",
        "player_one = Player('Al-Nassr', 'Ronaldo', 'Striker', 25, 32)\n",
        "player_one.calculate_ratio()\n",
        "player_one.print_details()\n",
        "print('------------------------------------------')\n",
        "manager_one = Manager('Real Madrid', 'Zidane', 'Manager', 25)\n",
        "manager_one.print_details()"
      ]
    }
  ]
}