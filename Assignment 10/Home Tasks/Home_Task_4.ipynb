{
  "nbformat": 4,
  "nbformat_minor": 0,
  "metadata": {
    "colab": {
      "provenance": []
    },
    "kernelspec": {
      "name": "python3",
      "display_name": "Python 3"
    },
    "language_info": {
      "name": "python"
    }
  },
  "cells": [
    {
      "cell_type": "code",
      "execution_count": 81,
      "metadata": {
        "colab": {
          "base_uri": "https://localhost:8080/"
        },
        "collapsed": true,
        "id": "oFLl3M4qK2Ab",
        "outputId": "c2e62b21-165d-4edc-d608-b7c535241205"
      },
      "outputs": [
        {
          "output_type": "stream",
          "name": "stdout",
          "text": [
            "===============\n",
            "9i + 21j\n",
            "===============\n",
            "===============\n",
            "14i + 17j -2k\n",
            "===============\n",
            "42i + 51j -6k\n",
            "===============\n",
            "66.34003316248794\n"
          ]
        }
      ],
      "source": [
        "class TwoDVector:\n",
        "  def __init__(self, x, y):\n",
        "    self.x = x\n",
        "    self.y = y\n",
        "  def add2DVectors(self, *vectors):\n",
        "    for i in vectors:\n",
        "      self.x += i.x\n",
        "      self.y += i.y\n",
        "  def print2DVector(self):\n",
        "    if self.y >= 0:\n",
        "      y = \"+ \"+str(self.y)\n",
        "    else:\n",
        "      y = str(self.y)\n",
        "    print(f\"{self.x}i {y}j\")\n",
        "class ThreeDVector(TwoDVector):\n",
        "  def __init__(self, x, y, z):\n",
        "    super().__init__(x, y)\n",
        "    self.z = z\n",
        "  def add3DVectors(self, *threeD):\n",
        "    for one in threeD:\n",
        "      super().add2DVectors(one)\n",
        "      self.z += one.z\n",
        "  def multiplyScalar(self, integer):\n",
        "    self.x *= integer\n",
        "    self.y *= integer\n",
        "    self.z *= integer\n",
        "  def calculateLength(self):\n",
        "    x = self.x ** 2\n",
        "    y = self.y ** 2\n",
        "    z = self.z ** 2\n",
        "    return (x + y + z) ** 0.5\n",
        "  def print3DVector(self):\n",
        "    if self.x >= 0:\n",
        "      x = str(self.x)\n",
        "    else:\n",
        "      x = str(self.x)\n",
        "    if self.y >= 0:\n",
        "      y = \"+ \" + str(self.y)\n",
        "    else:\n",
        "      y = str(self.y)\n",
        "    if self.z >= 0:\n",
        "      z = \"+ \" + str(self.z)\n",
        "    else:\n",
        "      z = str(self.z)\n",
        "    print(f\"{x}i {y}j {z}k\")\n",
        "\n",
        "TwoDV1 = TwoDVector(5, 6)\n",
        "TwoDV2 = TwoDVector(3, 7)\n",
        "TwoDV3 = TwoDVector(1, 8)\n",
        "print(\"===============\")\n",
        "TwoDV1.add2DVectors(TwoDV2, TwoDV3)\n",
        "TwoDV1.print2DVector()\n",
        "print(\"===============\")\n",
        "ThreeDV1 = ThreeDVector(5, 6, 1)\n",
        "ThreeDV2 = ThreeDVector(1, 9, -7)\n",
        "ThreeDV3 = ThreeDVector(8, 2, 4)\n",
        "print(\"===============\")\n",
        "ThreeDV1.add3DVectors(ThreeDV2,ThreeDV3)\n",
        "ThreeDV1.print3DVector()\n",
        "print(\"===============\")\n",
        "ThreeDV1.multiplyScalar(3)\n",
        "ThreeDV1.print3DVector()\n",
        "print(\"===============\")\n",
        "print(ThreeDV1.calculateLength())"
      ]
    }
  ]
}