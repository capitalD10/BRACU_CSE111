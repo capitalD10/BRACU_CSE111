{
  "nbformat": 4,
  "nbformat_minor": 0,
  "metadata": {
    "colab": {
      "provenance": []
    },
    "kernelspec": {
      "name": "python3",
      "display_name": "Python 3"
    },
    "language_info": {
      "name": "python"
    }
  },
  "cells": [
    {
      "cell_type": "code",
      "execution_count": 8,
      "metadata": {
        "colab": {
          "base_uri": "https://localhost:8080/"
        },
        "id": "oFLl3M4qK2Ab",
        "outputId": "559ff8e2-a6df-4e3e-f0e9-02ebe98e9fc3"
      },
      "outputs": [
        {
          "output_type": "stream",
          "name": "stdout",
          "text": [
            "10\n",
            "20\n",
            "20\n",
            "30\n",
            "10\n",
            "50\n",
            "90\n",
            "STOP\n",
            "10 - 2 times\n",
            "20 - 2 times\n",
            "30 - 1 times\n",
            "50 - 1 times\n",
            "90 - 1 times\n"
          ]
        }
      ],
      "source": [
        "numbers = []\n",
        "result = {}\n",
        "while True:\n",
        "  inp = input()\n",
        "  if inp == \"STOP\":\n",
        "    break\n",
        "  else:\n",
        "    num = int(inp)\n",
        "    numbers.append(num)\n",
        "\n",
        "for x in numbers:\n",
        "  if x in result:\n",
        "    result[x] += 1\n",
        "  else:\n",
        "    result[x] = 1\n",
        "for key, value in result.items():\n",
        "  print(f\"{key} - {value} times\")"
      ]
    }
  ]
}