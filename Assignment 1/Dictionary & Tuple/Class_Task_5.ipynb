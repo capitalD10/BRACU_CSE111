{
  "nbformat": 4,
  "nbformat_minor": 0,
  "metadata": {
    "colab": {
      "provenance": []
    },
    "kernelspec": {
      "name": "python3",
      "display_name": "Python 3"
    },
    "language_info": {
      "name": "python"
    }
  },
  "cells": [
    {
      "cell_type": "code",
      "execution_count": 11,
      "metadata": {
        "colab": {
          "base_uri": "https://localhost:8080/"
        },
        "id": "oFLl3M4qK2Ab",
        "outputId": "585d0b54-2ec9-435d-9681-13d35fdbf2ed"
      },
      "outputs": [
        {
          "output_type": "stream",
          "name": "stdout",
          "text": [
            "listen\n",
            "silent\n",
            "Those strings are anagrams\n"
          ]
        }
      ],
      "source": [
        "first = {}\n",
        "second = {}\n",
        "for x in input():\n",
        "  first[x] = 1\n",
        "for y in input():\n",
        "  second[y] = 1\n",
        "if len(first) == len(second):\n",
        "  if first == second:\n",
        "    print(\"Those strings are anagrams\")\n",
        "  else:\n",
        "    print(\"Those strings are not anagrams\")\n",
        "else:\n",
        "  print(\"Those strings are not anagrams\")"
      ]
    }
  ]
}