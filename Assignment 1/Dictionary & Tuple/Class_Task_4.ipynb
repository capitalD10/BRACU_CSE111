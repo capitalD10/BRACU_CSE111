{
  "nbformat": 4,
  "nbformat_minor": 0,
  "metadata": {
    "colab": {
      "provenance": []
    },
    "kernelspec": {
      "name": "python3",
      "display_name": "Python 3"
    },
    "language_info": {
      "name": "python"
    }
  },
  "cells": [
    {
      "cell_type": "code",
      "execution_count": 10,
      "metadata": {
        "colab": {
          "base_uri": "https://localhost:8080/"
        },
        "id": "oFLl3M4qK2Ab",
        "outputId": "060408c0-657f-4745-ae92-a33a0e48d02c"
      },
      "outputs": [
        {
          "output_type": "stream",
          "name": "stdout",
          "text": [
            "Python programming is fun\n",
            "{'p': 2, 'y': 1, 't': 1, 'h': 1, 'o': 2, 'n': 3, 'r': 2, 'g': 2, 'a': 1, 'm': 2, 'i': 2, 's': 1, 'f': 1, 'u': 1}\n"
          ]
        }
      ],
      "source": [
        "inp = input()\n",
        "final_dict = {}\n",
        "for x in inp:\n",
        "  if 65 <= ord(x) <= 90:\n",
        "     word = chr(ord(x) + 32)\n",
        "     final_dict[word] = 1\n",
        "  elif x in final_dict.keys():\n",
        "    final_dict[x] += 1\n",
        "  elif x == \" \":\n",
        "    continue\n",
        "  else:\n",
        "    final_dict[x] = 1\n",
        "print(final_dict)"
      ]
    }
  ]
}