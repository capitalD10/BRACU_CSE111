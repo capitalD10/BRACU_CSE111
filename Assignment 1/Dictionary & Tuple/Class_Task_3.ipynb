{
  "nbformat": 4,
  "nbformat_minor": 0,
  "metadata": {
    "colab": {
      "provenance": []
    },
    "kernelspec": {
      "name": "python3",
      "display_name": "Python 3"
    },
    "language_info": {
      "name": "python"
    }
  },
  "cells": [
    {
      "cell_type": "code",
      "execution_count": 9,
      "metadata": {
        "colab": {
          "base_uri": "https://localhost:8080/"
        },
        "id": "oFLl3M4qK2Ab",
        "outputId": "33a3ce1b-e7b4-4528-ea6f-23db22078c55"
      },
      "outputs": [
        {
          "output_type": "stream",
          "name": "stdout",
          "text": [
            "{'value1': ['key1', 'key3'], 'value2': ['key2']}\n"
          ]
        }
      ],
      "source": [
        "inp = {\"key1\":\"value1\", \"key2\":\"value2\", \"key3\":\"value1\"}\n",
        "final = {}\n",
        "for key, value in inp.items():\n",
        "  if value in final:\n",
        "    final[value] += [key]\n",
        "  else:\n",
        "    final[value] = [key]\n",
        "print(final)"
      ]
    }
  ]
}