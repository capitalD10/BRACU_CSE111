{
  "nbformat": 4,
  "nbformat_minor": 0,
  "metadata": {
    "colab": {
      "provenance": []
    },
    "kernelspec": {
      "name": "python3",
      "display_name": "Python 3"
    },
    "language_info": {
      "name": "python"
    }
  },
  "cells": [
    {
      "cell_type": "code",
      "execution_count": 12,
      "metadata": {
        "colab": {
          "base_uri": "https://localhost:8080/"
        },
        "id": "oFLl3M4qK2Ab",
        "outputId": "5cfc3bce-3e17-4c99-ff47-36a291284bfa"
      },
      "outputs": [
        {
          "output_type": "stream",
          "name": "stdout",
          "text": [
            "Hello, world!\n",
            "4433555555666110966677755531111"
          ]
        }
      ],
      "source": [
        "keys = {\".\":1, \",\":11, \"?\":111, \"!\":1111, \":\":11111,\n",
        "        \"A\": 2, \"B\": 22, \"C\": 222,\n",
        "        \"D\": 3, \"E\": 33, \"F\": 333,\n",
        "        \"G\": 4, \"H\": 44, \"I\": 444,\n",
        "        \"J\": 5, \"K\": 55, \"L\": 555,\n",
        "        \"M\": 6, \"N\": 66, \"O\": 666,\n",
        "        \"P\": 7, \"Q\": 77, \"R\": 777, \"S\": 7777,\n",
        "        \"T\": 8, \"U\": 88, \"V\": 888,\n",
        "        \"W\": 9, \"X\": 99, \"Y\": 999, \"Z\": 9999,\n",
        "        \" \": 0}\n",
        "string = input()\n",
        "new_string = \"\"\n",
        "for x in string:\n",
        "  if 97 <= ord(x) <= 122:\n",
        "    new_string += chr(ord(x) - 32)\n",
        "  else:\n",
        "    new_string += x\n",
        "for x in new_string:\n",
        "  result = f\"{keys[x]}\"\n",
        "  print(result, end=\"\")"
      ]
    }
  ]
}