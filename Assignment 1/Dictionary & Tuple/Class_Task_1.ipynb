{
  "nbformat": 4,
  "nbformat_minor": 0,
  "metadata": {
    "colab": {
      "provenance": []
    },
    "kernelspec": {
      "name": "python3",
      "display_name": "Python 3"
    },
    "language_info": {
      "name": "python"
    }
  },
  "cells": [
    {
      "cell_type": "code",
      "execution_count": 7,
      "metadata": {
        "colab": {
          "base_uri": "https://localhost:8080/"
        },
        "id": "oFLl3M4qK2Ab",
        "outputId": "165f6b0a-53ff-439a-fcb1-94644311c6c8"
      },
      "outputs": [
        {
          "output_type": "stream",
          "name": "stdout",
          "text": [
            "{'a': 400, 'b': 300, 'c': 200, 'd': 700, 'e': 200}\n",
            "values: (200, 200, 300, 400, 700)\n"
          ]
        }
      ],
      "source": [
        "a = {\"a\":100, \"b\":100, \"c\": 200, \"d\":300}\n",
        "b = {\"a\":300, \"b\":200, \"d\":400, \"e\":200}\n",
        "final = {}\n",
        "for key in a:\n",
        "  if key in b:\n",
        "    value = a[key] + b[key]\n",
        "  else:\n",
        "    value = a[key]\n",
        "  final[key] = value\n",
        "for key in b:\n",
        "  if key not in final:\n",
        "    final[key] = b[key]\n",
        "tuplee = ()\n",
        "for item in final:\n",
        "  tuplee += (final[item],)\n",
        "print(final)\n",
        "print(f\"values: {tuple(sorted(tuplee))}\")"
      ]
    }
  ]
}