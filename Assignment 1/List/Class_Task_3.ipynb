{
  "nbformat": 4,
  "nbformat_minor": 0,
  "metadata": {
    "colab": {
      "provenance": []
    },
    "kernelspec": {
      "name": "python3",
      "display_name": "Python 3"
    },
    "language_info": {
      "name": "python"
    }
  },
  "cells": [
    {
      "cell_type": "code",
      "execution_count": 3,
      "metadata": {
        "colab": {
          "base_uri": "https://localhost:8080/"
        },
        "id": "oFLl3M4qK2Ab",
        "outputId": "4588571b-4293-4cb3-db1f-1781aa9c9db9"
      },
      "outputs": [
        {
          "output_type": "stream",
          "name": "stdout",
          "text": [
            "2 3 6\n",
            "3 4 5\n",
            "[6, 8, 10, 9, 12, 15, 18, 24, 30]\n"
          ]
        }
      ],
      "source": [
        "list1 = input()\n",
        "list1 = list1.split()\n",
        "list2 = input()\n",
        "list2 = list2.split()\n",
        "result = []\n",
        "for x in range(len(list1)):\n",
        "  for y in range(len(list2)):\n",
        "    cross = int(list1[x]) * int(list2[y])\n",
        "    result.append(cross)\n",
        "print(result)"
      ]
    }
  ]
}