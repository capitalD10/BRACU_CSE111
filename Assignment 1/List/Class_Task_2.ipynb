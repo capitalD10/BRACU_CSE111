{
  "nbformat": 4,
  "nbformat_minor": 0,
  "metadata": {
    "colab": {
      "provenance": []
    },
    "kernelspec": {
      "name": "python3",
      "display_name": "Python 3"
    },
    "language_info": {
      "name": "python"
    }
  },
  "cells": [
    {
      "cell_type": "code",
      "execution_count": 2,
      "metadata": {
        "colab": {
          "base_uri": "https://localhost:8080/"
        },
        "id": "oFLl3M4qK2Ab",
        "outputId": "04760d24-6b1f-4410-dbe5-ef2906d530d1"
      },
      "outputs": [
        {
          "output_type": "stream",
          "name": "stdout",
          "text": [
            "4\n",
            "1 2 3\n",
            "4 5 6\n",
            "10 11 12\n",
            "7 8 9\n",
            "33\n",
            "[10, 11, 12]\n"
          ]
        }
      ],
      "source": [
        "inp = int(input())\n",
        "sum = 0\n",
        "max = float('-inf')\n",
        "for x in range(inp):\n",
        "  ins = input()\n",
        "  string = ins.split()\n",
        "  for y in range(len(string)):\n",
        "    sum += int(string[y])\n",
        "  if sum > max:\n",
        "    max = sum\n",
        "    max_list = string\n",
        "    for i in range(len(max_list)):\n",
        "      max_list[i] = int(max_list[i])\n",
        "    sum = 0\n",
        "  else:\n",
        "    sum = 0\n",
        "    continue\n",
        "print(max)\n",
        "print(max_list)"
      ]
    }
  ]
}