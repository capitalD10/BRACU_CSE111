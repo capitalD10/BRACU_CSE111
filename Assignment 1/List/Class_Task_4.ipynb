{
  "nbformat": 4,
  "nbformat_minor": 0,
  "metadata": {
    "colab": {
      "provenance": []
    },
    "kernelspec": {
      "name": "python3",
      "display_name": "Python 3"
    },
    "language_info": {
      "name": "python"
    }
  },
  "cells": [
    {
      "cell_type": "code",
      "execution_count": 4,
      "metadata": {
        "colab": {
          "base_uri": "https://localhost:8080/"
        },
        "id": "oFLl3M4qK2Ab",
        "outputId": "e3d20d90-8324-41f7-e5bd-12dd5fee3262"
      },
      "outputs": [
        {
          "output_type": "stream",
          "name": "stdout",
          "text": [
            "1 4 2 3\n",
            "2 1 4 6 10\n",
            "1 4 2 -1 6\n",
            "STOP\n",
            "UB Jumper\n",
            "UB Jumper\n",
            "Not UB Jumper\n"
          ]
        }
      ],
      "source": [
        "inp = input()\n",
        "result = []\n",
        "\n",
        "while inp != \"STOP\":\n",
        "  List = [int(x) for x in inp.split()]\n",
        "  order = [int(x) for x in range(1, len(List))]\n",
        "  difference = []\n",
        "\n",
        "  for x in range(len(List) - 1):\n",
        "    item = List[x] - List[x + 1]\n",
        "    item = abs(item)\n",
        "    difference.append(item)\n",
        "  if order == sorted(difference):\n",
        "    result.append(\"UB Jumper\")\n",
        "  else:\n",
        "    result.append(\"Not UB Jumper\")\n",
        "  inp = input()\n",
        "for x in result:\n",
        "  print(x)"
      ]
    }
  ]
}