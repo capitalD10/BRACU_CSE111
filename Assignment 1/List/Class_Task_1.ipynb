{
  "nbformat": 4,
  "nbformat_minor": 0,
  "metadata": {
    "colab": {
      "provenance": []
    },
    "kernelspec": {
      "name": "python3",
      "display_name": "Python 3"
    },
    "language_info": {
      "name": "python"
    }
  },
  "cells": [
    {
      "cell_type": "code",
      "execution_count": 1,
      "metadata": {
        "colab": {
          "base_uri": "https://localhost:8080/"
        },
        "id": "oFLl3M4qK2Ab",
        "outputId": "f9952dde-5da5-442b-8ba3-43e266eeda1c"
      },
      "outputs": [
        {
          "output_type": "stream",
          "name": "stdout",
          "text": [
            "10\n",
            "20\n",
            "20\n",
            "10\n",
            "30\n",
            "50\n",
            "90\n",
            "STOP\n",
            "10 - 2 times\n",
            "20 - 2 times\n",
            "30 - 1 times\n",
            "50 - 1 times\n",
            "90 - 1 times\n"
          ]
        }
      ],
      "source": [
        "numbers = []\n",
        "final = []\n",
        "while True:\n",
        "  inp = input()\n",
        "  if inp == \"STOP\":\n",
        "    break\n",
        "  else:\n",
        "    num = int(inp)\n",
        "    numbers.append(num)\n",
        "for x in numbers:\n",
        "  if x in final:\n",
        "    continue\n",
        "  else:\n",
        "    final.append(x)\n",
        "for x in final:\n",
        "  count = 0\n",
        "  for y in numbers:\n",
        "    if x == y:\n",
        "      count += 1\n",
        "    else:\n",
        "      continue\n",
        "  print(f\"{x} - {count} times\")"
      ]
    }
  ]
}