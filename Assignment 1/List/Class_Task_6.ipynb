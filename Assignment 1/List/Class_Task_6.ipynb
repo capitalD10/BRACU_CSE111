{
  "nbformat": 4,
  "nbformat_minor": 0,
  "metadata": {
    "colab": {
      "provenance": []
    },
    "kernelspec": {
      "name": "python3",
      "display_name": "Python 3"
    },
    "language_info": {
      "name": "python"
    }
  },
  "cells": [
    {
      "cell_type": "code",
      "execution_count": 6,
      "metadata": {
        "colab": {
          "base_uri": "https://localhost:8080/"
        },
        "id": "oFLl3M4qK2Ab",
        "outputId": "f4b4f28a-9119-4711-f7f4-653f33791004"
      },
      "outputs": [
        {
          "output_type": "stream",
          "name": "stdout",
          "text": [
            "6 4\n",
            "0 1 2 3 4 5\n",
            "0\n"
          ]
        }
      ],
      "source": [
        "inp = input()\n",
        "inp = [int(x) for x in inp.split()]\n",
        "inp2 = input()\n",
        "persons = [int(x) for x in inp2.split()]\n",
        "eligible = []\n",
        "if len(persons) == inp[0]:\n",
        "  for x in persons:\n",
        "    if x + inp[1] <= 5:\n",
        "      eligible.append(x)\n",
        "    else:\n",
        "      continue\n",
        "if len(eligible) < 3:\n",
        "  print(0)\n",
        "else:\n",
        "  if len(eligible) % 3 == 0:\n",
        "    print(len(eligible) // 3)\n",
        "  elif (len(eligible) - 1) % 3 == 0:\n",
        "    print((len(eligible) - 1) // 3)\n",
        "  elif (len(eligible) - 2) % 3 == 0:\n",
        "    print((len(eligible) - 2) // 3)"
      ]
    }
  ]
}