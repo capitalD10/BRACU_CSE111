{
  "nbformat": 4,
  "nbformat_minor": 0,
  "metadata": {
    "colab": {
      "provenance": []
    },
    "kernelspec": {
      "name": "python3",
      "display_name": "Python 3"
    },
    "language_info": {
      "name": "python"
    }
  },
  "cells": [
    {
      "cell_type": "code",
      "execution_count": 5,
      "metadata": {
        "colab": {
          "base_uri": "https://localhost:8080/"
        },
        "id": "oFLl3M4qK2Ab",
        "outputId": "12c4837c-011e-4223-9cdb-8748911ca2de"
      },
      "outputs": [
        {
          "output_type": "stream",
          "name": "stdout",
          "text": [
            "Bracu1234\n",
            "acruB1324\n"
          ]
        }
      ],
      "source": [
        "inp = input()\n",
        "lower = []\n",
        "upper = []\n",
        "odd = []\n",
        "even = []\n",
        "for x in range(len(inp)):\n",
        "  if ord(\"A\") <= ord(inp[x]) <= ord(\"Z\"):\n",
        "    upper.append(inp[x])\n",
        "  elif ord(\"a\") <= ord(inp[x]) <= ord(\"z\"):\n",
        "    lower.append(inp[x])\n",
        "  elif int(inp[x]) % 2 == 0:\n",
        "    even.append(inp[x])\n",
        "  elif int(inp[x]) % 2 != 0:\n",
        "    odd.append(inp[x])\n",
        "new_string = \"\"\n",
        "for x in sorted(lower):\n",
        "  new_string += x\n",
        "for x in sorted(upper):\n",
        "  new_string += x\n",
        "for x in sorted(odd):\n",
        "  new_string += x\n",
        "for x in sorted(even):\n",
        "  new_string += x\n",
        "print(new_string)"
      ]
    }
  ]
}