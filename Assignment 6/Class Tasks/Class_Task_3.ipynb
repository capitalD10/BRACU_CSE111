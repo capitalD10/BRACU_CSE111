{
  "nbformat": 4,
  "nbformat_minor": 0,
  "metadata": {
    "colab": {
      "provenance": []
    },
    "kernelspec": {
      "name": "python3",
      "display_name": "Python 3"
    },
    "language_info": {
      "name": "python"
    }
  },
  "cells": [
    {
      "cell_type": "code",
      "execution_count": 58,
      "metadata": {
        "colab": {
          "base_uri": "https://localhost:8080/"
        },
        "id": "oFLl3M4qK2Ab",
        "outputId": "d8ccf7a7-87b2-46b7-fcaf-37659a8b3737"
      },
      "outputs": [
        {
          "output_type": "stream",
          "name": "stdout",
          "text": [
            "=================================\n",
            "1st dose done for Bob\n",
            "=================================\n",
            "Name: Bob Age: 21 Type: Student\n",
            "Vaccine name: AstraZeneca\n",
            "1st dose: Given\n",
            "2nd dose: Please come after 60 days\n",
            "=================================\n",
            "Sorry Bob, you can’t take 2 different vaccines\n",
            "=================================\n",
            "2nd dose done for Bob\n",
            "=================================\n",
            "Name: Bob Age: 21 Type: Student\n",
            "Vaccine name: AstraZeneca\n",
            "1st dose: Given\n",
            "2nd dose: Given\n",
            "=================================\n",
            "=================================\n",
            "Sorry Carol, Minimum age for taking vaccines is 25 years now.\n",
            "=================================\n",
            "=================================\n",
            "1st dose done for David\n",
            "=================================\n",
            "Name: David Age: 34 Type: General Citizen\n",
            "Vaccine name: Moderna\n",
            "1st dose: Given\n",
            "2nd dose: Please come after 30 days\n",
            "=================================\n",
            "2nd dose done for David\n"
          ]
        }
      ],
      "source": [
        "class Vaccine:\n",
        "  def __init__(self, vaccine, country, days):\n",
        "    self.vaccine = vaccine\n",
        "    self.country = country\n",
        "    self.days = days\n",
        "class Person:\n",
        "  def __init__(self, name, age, job = \"General Citizen\"):\n",
        "    self.name = name\n",
        "    self.age = age\n",
        "    self.job = job\n",
        "  def pushVaccine(self, vacc, dose = \"1st\"):\n",
        "    if dose == \"2nd Dose\":\n",
        "      if self.vacc_given == vacc.vaccine:\n",
        "        print(f\"2nd dose done for {self.name}\")\n",
        "        self.second = \"Given\"\n",
        "      else:\n",
        "        print(f\"Sorry {self.name}, you can’t take 2 different vaccines\")\n",
        "    else:\n",
        "      if self.job == \"Student\":\n",
        "        self.vacc_given = vacc.vaccine\n",
        "        self.first = \"Given\"\n",
        "        self.second = f\"Please come after {vacc.days} days\"\n",
        "        print(f\"1st dose done for {self.name}\")\n",
        "      else:\n",
        "        if self.age >= 25:\n",
        "          self.vacc_given = vacc.vaccine\n",
        "          self.first = \"Given\"\n",
        "          self.second = f\"Please come after {vacc.days} days\"\n",
        "          print(f\"1st dose done for {self.name}\")\n",
        "        else:\n",
        "          print(f\"Sorry {self.name}, Minimum age for taking vaccines is 25 years now.\")\n",
        "  def showDetail(self):\n",
        "    print(f\"Name: {self.name} Age: {self.age} Type: {self.job}\")\n",
        "    print(f\"Vaccine name: {self.vacc_given}\")\n",
        "    print(f\"1st dose: {self.first}\")\n",
        "    print(f\"2nd dose: {self.second}\")\n",
        "\n",
        "astra = Vaccine(\"AstraZeneca\", \"UK\", 60)\n",
        "modr = Vaccine(\"Moderna\", \"UK\", 30)\n",
        "sin = Vaccine(\"Sinopharm\", \"China\", 30)\n",
        "p1 = Person(\"Bob\", 21, \"Student\")\n",
        "print(\"=================================\")\n",
        "p1.pushVaccine(astra)\n",
        "print(\"=================================\")\n",
        "p1.showDetail()\n",
        "print(\"=================================\")\n",
        "p1.pushVaccine(sin, \"2nd Dose\")\n",
        "print(\"=================================\")\n",
        "p1.pushVaccine(astra, \"2nd Dose\")\n",
        "print(\"=================================\")\n",
        "p1.showDetail()\n",
        "print(\"=================================\")\n",
        "p2 = Person(\"Carol\", 23, \"Actor\")\n",
        "print(\"=================================\")\n",
        "p2.pushVaccine(sin)\n",
        "print(\"=================================\")\n",
        "p3 = Person(\"David\", 34)\n",
        "print(\"=================================\")\n",
        "p3.pushVaccine(modr)\n",
        "print(\"=================================\")\n",
        "p3.showDetail()\n",
        "print(\"=================================\")\n",
        "p3.pushVaccine(modr, \"2nd Dose\")"
      ]
    }
  ]
}
