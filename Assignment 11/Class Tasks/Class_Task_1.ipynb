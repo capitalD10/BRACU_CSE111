{
  "nbformat": 4,
  "nbformat_minor": 0,
  "metadata": {
    "colab": {
      "provenance": []
    },
    "kernelspec": {
      "name": "python3",
      "display_name": "Python 3"
    },
    "language_info": {
      "name": "python"
    }
  },
  "cells": [
    {
      "cell_type": "code",
      "execution_count": 83,
      "metadata": {
        "colab": {
          "base_uri": "https://localhost:8080/"
        },
        "collapsed": true,
        "id": "oFLl3M4qK2Ab",
        "outputId": "84d64827-6a07-4b43-837f-cd71446e6195"
      },
      "outputs": [
        {
          "output_type": "stream",
          "name": "stdout",
          "text": [
            "----Printing Detail----\n",
            "Do not eat the Mango .\n",
            "Mangos are bad for you\n",
            "----Printing Detail----\n",
            "Eat the Jackfruit .\n",
            "Jackfruits are good for you\n"
          ]
        }
      ],
      "source": [
        "class Fruit:\n",
        "  def __init__(self, formalin=False, name=''):\n",
        "    self.__formalin = formalin\n",
        "    self.name = name\n",
        "  def getName(self):\n",
        "    return self.name\n",
        "  def hasFormalin(self):\n",
        "    return self.__formalin\n",
        "class testFruit:\n",
        "  def test(self, f):\n",
        "    print('----Printing Detail----')\n",
        "    if f.hasFormalin():\n",
        "      print('Do not eat the',f.getName(),'.')\n",
        "      print(f)\n",
        "    else:\n",
        "      print('Eat the',f.getName(),'.')\n",
        "      print(f)\n",
        "class Mango(Fruit):\n",
        "  def __init__(self, formalin = True, name = \"Mango\"):\n",
        "    super().__init__(formalin, name)\n",
        "  def __str__(self):\n",
        "    if self.hasFormalin():\n",
        "      return self.getName() + \"s are bad for you\"\n",
        "    else:\n",
        "      return self.getName() + \"s are good for you\"\n",
        "class Jackfruit(Fruit):\n",
        "  def __init__(self, formalin = False, name = \"Jackfruit\"):\n",
        "    super().__init__(formalin, name)\n",
        "  def __str__(self):\n",
        "    if self.hasFormalin():\n",
        "      return self.getName() + \"s are bad for you\"\n",
        "    else:\n",
        "      return self.getName() + \"s are good for you\"\n",
        "\n",
        "m = Mango()\n",
        "j = Jackfruit()\n",
        "t1 = testFruit()\n",
        "t1.test(m)\n",
        "t1.test(j)"
      ]
    }
  ]
}