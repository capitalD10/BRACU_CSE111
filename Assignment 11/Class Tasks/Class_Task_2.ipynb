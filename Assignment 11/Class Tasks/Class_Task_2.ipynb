{
  "nbformat": 4,
  "nbformat_minor": 0,
  "metadata": {
    "colab": {
      "provenance": []
    },
    "kernelspec": {
      "name": "python3",
      "display_name": "Python 3"
    },
    "language_info": {
      "name": "python"
    }
  },
  "cells": [
    {
      "cell_type": "code",
      "execution_count": 83,
      "metadata": {
        "colab": {
          "base_uri": "https://localhost:8080/"
        },
        "collapsed": true,
        "id": "oFLl3M4qK2Ab",
        "outputId": "84d64827-6a07-4b43-837f-cd71446e6195"
      },
      "outputs": [
        {
          "output_type": "stream",
          "name": "stdout",
          "text": [
            "----Printing Detail----\n",
            "Do not eat the Mango .\n",
            "Mangos are bad for you\n",
            "----Printing Detail----\n",
            "Eat the Jackfruit .\n",
            "Jackfruits are good for you\n"
          ]
        }
      ],
      "source": [
        "class Point:\n",
        "  def __init__(self, x=0, y=0):\n",
        "    self.x = x\n",
        "    self.y = y\n",
        "    self.area = 0\n",
        "  def calculate_area(self):\n",
        "    return self.area\n",
        "  def print_details(self):\n",
        "    print(\"--------- Printing details ----------\")\n",
        "    print(f'Co-ordinate: ({self.x},{self.y})')\n",
        "    print(f'Area: {self.area}')\n",
        "class Circle(Point):\n",
        "  def __init__(self, radius, x = 0, y = 0):\n",
        "    super().__init__(x, y)\n",
        "    self.radius = radius\n",
        "  def calculate_area(self):\n",
        "    self.area = 3.1416 * (self.radius ** 2)\n",
        "    return self.area\n",
        "  def print_details(self):\n",
        "    super().print_details()\n",
        "    print(f\"Radius: {self.radius}\")\n",
        "class Sphere(Circle):\n",
        "  def __init__(self, radius, x = 0, y = 0):\n",
        "    super().__init__(radius, x, y)\n",
        "  def calculate_area(self):\n",
        "    self.area = 4 * super().calculate_area()\n",
        "    return self.area\n",
        "  def print_details(self):\n",
        "    super().print_details()\n",
        "\n",
        "print(\"--------------1---------------\")\n",
        "p1 = Point(2,3)\n",
        "print(f'Area of p1: {p1.calculate_area()}')\n",
        "print(\"--------------2---------------\")\n",
        "p1.print_details()\n",
        "print(\"--------------3---------------\")\n",
        "p2 = Point()\n",
        "p2.print_details()\n",
        "print(\"--------------4---------------\")\n",
        "c1 = Circle(4,0,3)\n",
        "print(f'Area of c1: {c1.calculate_area()}')\n",
        "print(\"--------------5---------------\")\n",
        "c1.print_details()\n",
        "print(\"--------------6---------------\")\n",
        "c2 = Circle(7)\n",
        "print(f'Area of c2: {c2.calculate_area()}')\n",
        "print(\"--------------7---------------\")\n",
        "sph1 = Sphere(3,0,2)\n",
        "print(f'Area of sph1: {sph1.calculate_area()}')\n",
        "print(\"--------------8---------------\")\n",
        "sph1.print_details()\n",
        "print(\"--------------9---------------\")\n",
        "sph2 = Sphere(6)\n",
        "print(f'Area of sph2: {sph2.calculate_area()}')"
      ]
    }
  ]
}