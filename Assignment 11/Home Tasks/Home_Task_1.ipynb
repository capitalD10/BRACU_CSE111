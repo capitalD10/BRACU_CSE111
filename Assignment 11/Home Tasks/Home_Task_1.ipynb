{
  "nbformat": 4,
  "nbformat_minor": 0,
  "metadata": {
    "colab": {
      "provenance": []
    },
    "kernelspec": {
      "name": "python3",
      "display_name": "Python 3"
    },
    "language_info": {
      "name": "python"
    }
  },
  "cells": [
    {
      "cell_type": "code",
      "execution_count": 85,
      "metadata": {
        "colab": {
          "base_uri": "https://localhost:8080/"
        },
        "collapsed": true,
        "id": "oFLl3M4qK2Ab",
        "outputId": "9353bd21-11da-4595-e2d5-eebad6378d7d"
      },
      "outputs": [
        {
          "output_type": "stream",
          "name": "stdout",
          "text": [
            "1------------------------------------------\n",
            "2------------------------------------------\n",
            "Name: Nawaz Ali, Dept Marketing\n",
            "Employee id: 102, Salary: 30000\n",
            "3------------------------------------------\n",
            "Collect work distribution loads from the HR department.\n",
            "4------------------------------------------\n",
            "Name: Nawaz Ali, Dept Marketing\n",
            "Employee id: 102, Salary: 33000.0\n",
            "5------------------------------------------\n",
            "Name: Nadvi, Dept Human Resource\n",
            "Employee id: 311, Salary: 30000\n",
            "Employee Type: Foreign\n",
            "6------------------------------------------\n",
            "Collect work distribution details from the manager.\n",
            "7------------------------------------------\n",
            "Name: Nadvi, Dept Human Resource\n",
            "Employee id: 311, Salary: 34500.0\n",
            "Employee Type: Foreign\n",
            "8------------------------------------------\n",
            "9------------------------------------------\n",
            "Name: Asif, Dept Sales\n",
            "Employee id: 210, Salary: 15000\n",
            "Employee Type: Part Time\n",
            "10------------------------------------------\n",
            "Collect work distribution loads from the HR department.\n",
            "11------------------------------------------\n",
            "Sadly, there is no increment for the part time employees!!\n",
            "12------------------------------------------\n",
            "Name: Olive, Dept Accounts\n",
            "Employee id: 223, Salary: 15000\n",
            "Employee Type: Part Time\n"
          ]
        }
      ],
      "source": [
        "class Employee:\n",
        "  def __init__(self, name, id, dept, salary = 30000):\n",
        "    self.name = name\n",
        "    self.id = id\n",
        "    self.dept = dept\n",
        "    self.salary = salary\n",
        "  def workDistribution(self, dept):\n",
        "    if dept == \"Human Resource\":\n",
        "      print(\"Collect work distribution details from the manager.\")\n",
        "    else:\n",
        "      print(\"Collect work distribution loads from the HR department.\")\n",
        "  def increment(self):\n",
        "    if str(self.id)[0] == \"1\":\n",
        "      incr = (self.salary * 10) / 100\n",
        "      self.salary += incr\n",
        "    elif str(self.id)[0] == \"2\":\n",
        "      print(\"Sadly, there is no increment for the part time employees!!\")\n",
        "    elif str(self.id)[0] == \"3\":\n",
        "      incr = (self.salary * 15) / 100\n",
        "      self.salary += incr\n",
        "  def employeeDetails(self):\n",
        "    print(f\"Name: {self.name}, Dept {self.dept}\")\n",
        "    print(f\"Employee id: {self.id}, Salary: {self.salary}\")\n",
        "class Foreign_employee(Employee):\n",
        "  def __init__(self, name, id, dept):\n",
        "    super().__init__(name, id, dept)\n",
        "  def employeeDetails(self):\n",
        "    super().employeeDetails()\n",
        "    print(\"Employee Type: Foreign\")\n",
        "class Part_time_employee(Employee):\n",
        "  def __init__(self, name, id, dept):\n",
        "    super().__init__(name, id, dept)\n",
        "    self.salary = 15000\n",
        "  def employeeDetails(self):\n",
        "    super().employeeDetails()\n",
        "    print(\"Employee Type: Part Time\")\n",
        "\n",
        "print(\"1------------------------------------------\")\n",
        "emp1=Employee(\"Nawaz Ali\", 102, \"Marketing\")\n",
        "print(\"2------------------------------------------\")\n",
        "emp1.employeeDetails()\n",
        "print(\"3------------------------------------------\")\n",
        "emp1.workDistribution(\"Marketing\")\n",
        "print(\"4------------------------------------------\")\n",
        "emp1.increment()\n",
        "emp1.employeeDetails()\n",
        "print(\"5------------------------------------------\")\n",
        "f_emp=Foreign_employee(\"Nadvi\", 311, \"Human Resource\")\n",
        "f_emp.employeeDetails()\n",
        "print(\"6------------------------------------------\")\n",
        "f_emp.workDistribution(\"Human Resource\")\n",
        "print(\"7------------------------------------------\")\n",
        "f_emp.increment()\n",
        "f_emp.employeeDetails()\n",
        "print(\"8------------------------------------------\")\n",
        "p1_emp=Part_time_employee(\"Asif\", 210, \"Sales\")\n",
        "p2_emp=Part_time_employee(\"Olive\", 223, \"Accounts\")\n",
        "print(\"9------------------------------------------\")\n",
        "p1_emp.employeeDetails()\n",
        "print(\"10------------------------------------------\")\n",
        "p1_emp.workDistribution(\"Sales\")\n",
        "print(\"11------------------------------------------\")\n",
        "p2_emp.increment()\n",
        "print(\"12------------------------------------------\")\n",
        "p2_emp.employeeDetails()"
      ]
    }
  ]
}