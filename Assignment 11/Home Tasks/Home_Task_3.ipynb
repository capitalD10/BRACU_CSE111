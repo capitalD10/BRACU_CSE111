{
  "nbformat": 4,
  "nbformat_minor": 0,
  "metadata": {
    "colab": {
      "provenance": []
    },
    "kernelspec": {
      "name": "python3",
      "display_name": "Python 3"
    },
    "language_info": {
      "name": "python"
    }
  },
  "cells": [
    {
      "cell_type": "code",
      "execution_count": 87,
      "metadata": {
        "colab": {
          "base_uri": "https://localhost:8080/"
        },
        "collapsed": true,
        "id": "oFLl3M4qK2Ab",
        "outputId": "62764e16-aab2-4759-c844-d05e9ff9d802"
      },
      "outputs": [
        {
          "output_type": "stream",
          "name": "stdout",
          "text": [
            "\n",
            "------------Basic Info:--------------\n",
            "Name: Default, HP: 0, Weakness: None\n",
            "Main type: Unknown\n",
            "Basic move: Quick Attack\n",
            "\n",
            "------------Pokemon 1 Info:-------------\n",
            "Name: Charmander, HP: 39, Weakness: Water\n",
            "Main type: Fire\n",
            "Basic move: Quick Attack\n",
            "\n",
            "------------Pokemon 2 Info:-------------\n",
            "Name: Charizard, HP: 78, Weakness: Water\n",
            "Main type: Fire, Secondary type: Flying\n",
            "Basic move: Quick Attack\n",
            "Other move: Fire Spin, Fire Blaze\n"
          ]
        }
      ],
      "source": [
        "class PokemonBasic:\n",
        "  def __init__(self, name = 'Default', hp = 0, weakness = 'None', type = 'Unknown'):\n",
        "    self.name = name\n",
        "    self.hit_point = hp\n",
        "    self.weakness = weakness\n",
        "    self.type = type\n",
        "  def get_type(self):\n",
        "    return 'Main type: ' + self.type\n",
        "  def get_move(self):\n",
        "    return 'Basic move: ' + 'Quick Attack'\n",
        "  def __str__(self):\n",
        "    return \"Name: \" + self.name + \", HP: \" + str(self.hit_point) + \", Weakness: \" + self.weakness\n",
        "class PokemonExtra(PokemonBasic):\n",
        "  def __init__(self, name, hp, weak, *type):\n",
        "    self.main, self.secondary, self.other = None, None, None\n",
        "    if len(type) == 1:\n",
        "      super().__init__(name, hp, weak, type[0])\n",
        "    else:\n",
        "      self.main, self.secondary, self.other = type\n",
        "      super().__init__(name, hp, weak)\n",
        "  def get_type(self):\n",
        "    if self.secondary is not None:\n",
        "      return f\"Main type: {self.main}, Secondary type: {self.secondary}\"\n",
        "    else:\n",
        "      return super().get_type()\n",
        "  def get_move(self):\n",
        "    if self.other is not None:\n",
        "      return f\"{super().get_move()}\\nOther move: {', '.join(self.other)}\"\n",
        "    else:\n",
        "      return super().get_move()\n",
        "\n",
        "print('\\n------------Basic Info:--------------')\n",
        "pk = PokemonBasic()\n",
        "print(pk)\n",
        "print(pk.get_type())\n",
        "print(pk.get_move())\n",
        "\n",
        "print('\\n------------Pokemon 1 Info:-------------')\n",
        "charmander = PokemonExtra('Charmander', 39, 'Water', 'Fire')\n",
        "print(charmander)\n",
        "print(charmander.get_type())\n",
        "print(charmander.get_move())\n",
        "\n",
        "print('\\n------------Pokemon 2 Info:-------------')\n",
        "charizard = PokemonExtra('Charizard', 78, 'Water', 'Fire', 'Flying', ('Fire Spin', 'Fire Blaze'))\n",
        "print(charizard)\n",
        "print(charizard.get_type())\n",
        "print(charizard.get_move())"
      ]
    }
  ]
}