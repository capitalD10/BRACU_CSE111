{
  "nbformat": 4,
  "nbformat_minor": 0,
  "metadata": {
    "colab": {
      "provenance": []
    },
    "kernelspec": {
      "name": "python3",
      "display_name": "Python 3"
    },
    "language_info": {
      "name": "python"
    }
  },
  "cells": [
    {
      "cell_type": "code",
      "execution_count": 86,
      "metadata": {
        "colab": {
          "base_uri": "https://localhost:8080/"
        },
        "collapsed": true,
        "id": "oFLl3M4qK2Ab",
        "outputId": "81716517-f3bf-4f36-cc01-c27a51618975"
      },
      "outputs": [
        {
          "output_type": "stream",
          "name": "stdout",
          "text": [
            "Marks: 100 Time: 90 minutes Number of Parts: 4\n",
            "----------------------------------\n",
            "Maths , English, Physics, HigherMaths\n",
            "Part 1 - Maths\n",
            "Part 2 - English\n",
            "Part 3 - Physics\n",
            "Part 4 - HigherMaths\n",
            "==================================\n",
            "Marks: 100 Time: 120 minutes Number of Parts: 5\n",
            "----------------------------------\n",
            "Maths , English, Physics, HigherMaths, Drawing\n",
            "Part 1 - Maths\n",
            "Part 2 - English\n",
            "Part 3 - Physics\n",
            "Part 4 - HigherMaths\n",
            "Part 5 - Drawing\n"
          ]
        }
      ],
      "source": [
        "class Exam:\n",
        "  def __init__(self,marks):\n",
        "    self.marks = marks\n",
        "    self.time = 60\n",
        "  def examSyllabus(self):\n",
        "    return \"Maths , English\"\n",
        "  def examParts(self):\n",
        "    return \"Part 1 - Maths\\nPart 2 - English\\n\"\n",
        "class ScienceExam(Exam):\n",
        "  def __init__(self, marks, time, *subs):\n",
        "    super().__init__(marks)\n",
        "    self.time = time\n",
        "    self.subject = \", \".join(subs)\n",
        "    self.sub = subs\n",
        "    self.parts = 2 + len(subs)\n",
        "  def examSyllabus(self):\n",
        "    subs = super().examSyllabus() + \", \" + self.subject\n",
        "    return subs\n",
        "  def examParts(self):\n",
        "    part = \"\"\n",
        "    for subs in range(len(self.sub)):\n",
        "      part += f\"Part {subs + 3} - {self.sub[subs]}\\n\"\n",
        "    parts = (super().examParts() + part).strip()\n",
        "    return parts\n",
        "  def __str__(self):\n",
        "    return f\"Marks: {self.marks} Time: {self.time} minutes Number of Parts: {self.parts}\"\n",
        "\n",
        "engineering = ScienceExam(100,90,\"Physics\",\"HigherMaths\")\n",
        "print(engineering)\n",
        "print('----------------------------------')\n",
        "print(engineering.examSyllabus())\n",
        "print(engineering.examParts())\n",
        "print('==================================')\n",
        "architecture = ScienceExam(100,120,\"Physics\",\"HigherMaths\",\"Drawing\")\n",
        "print(architecture)\n",
        "print('----------------------------------')\n",
        "print(architecture.examSyllabus())\n",
        "print(architecture.examParts())"
      ]
    }
  ]
}