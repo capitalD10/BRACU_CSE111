{
  "nbformat": 4,
  "nbformat_minor": 0,
  "metadata": {
    "colab": {
      "provenance": []
    },
    "kernelspec": {
      "name": "python3",
      "display_name": "Python 3"
    },
    "language_info": {
      "name": "python"
    }
  },
  "cells": [
    {
      "cell_type": "code",
      "execution_count": 35,
      "metadata": {
        "colab": {
          "base_uri": "https://localhost:8080/"
        },
        "id": "oFLl3M4qK2Ab",
        "outputId": "0bfdbf59-b36e-476a-a4f4-dc2133617ae3"
      },
      "outputs": [
        {
          "output_type": "stream",
          "name": "stdout",
          "text": [
            "All the best, Clark, for the upcoming semester.\n",
            "Name: Clark\n",
            "CGPA: 3.45\n",
            "Courses Taken: 4\n",
            "Student Status: Regular\n",
            "Advising Status: Approved\n",
            "--------------------------------------------------------------------------------\n",
            "Study hard this time, Barry.\n",
            "Name: Barry\n",
            "Student Status: Probation\n",
            "Advising Status: Approved\n",
            "--------------------------------------------------------------------------------\n",
            "Hello Diana, You are a regular student and have to take between 3 to 5 courses.\n",
            "Advising Status: Denied\n",
            "Courses Taken: 0\n",
            "--------------------------------------------------------------------------------\n",
            "Sorry, Bruce, you are on probation and cannot take more than 2 courses.\n",
            "Advising Status: Denied\n",
            "Courses Taken: 0\n"
          ]
        }
      ],
      "source": [
        "class Student:\n",
        "  def __init__(self, name, cgpa, courses_taken):\n",
        "    self.name = name\n",
        "    self.cgpa = cgpa\n",
        "    self.courses_taken = courses_taken\n",
        "    self.student_status = None\n",
        "    self.advising_status = None\n",
        "    if cgpa < 2.00:\n",
        "      self.student_status = \"Probation\"\n",
        "      if 1 <= courses_taken <= 2:\n",
        "        self.advising_status = \"Approved\"\n",
        "        print(f\"Study hard this time, {name}.\")\n",
        "      else:\n",
        "        self.advising_status = \"Denied\"\n",
        "        print(f\"Sorry, {name}, you are on probation and cannot take more than 2 courses.\")\n",
        "        self.courses_taken = 0\n",
        "\n",
        "    elif cgpa >= 2.00:\n",
        "      self.student_status = \"Regular\"\n",
        "      if 3 <= courses_taken <= 5 :\n",
        "        self.advising_status = \"Approved\"\n",
        "        print(f\"All the best, {name}, for the upcoming semester.\")\n",
        "      else:\n",
        "        self.advising_status = \"Denied\"\n",
        "        self.courses_taken = 0\n",
        "        print(f\"Hello {name}, You are a regular student and have to take between 3 to 5 courses.\")\n",
        "\n",
        "\n",
        "\n",
        "s1 = Student(\"Clark\", 3.45, 4)\n",
        "print(f\"Name: {s1.name}\\nCGPA: {s1.cgpa}\\nCourses Taken: {s1.courses_taken}\")\n",
        "print(f\"Student Status: {s1.student_status}\\nAdvising Status: {s1.advising_status}\")\n",
        "print(\"--------------------------------------------------------------------------------\")\n",
        "s2 = Student(\"Barry\", 1.93, 2)\n",
        "print(f\"Name: {s2.name}\")\n",
        "print(f\"Student Status: {s2.student_status}\\nAdvising Status: {s2.advising_status}\")\n",
        "print(\"--------------------------------------------------------------------------------\")\n",
        "s3 = Student(\"Diana\", 2.91, 2)\n",
        "print(f\"Advising Status: {s3.advising_status}\\nCourses Taken: {s3.courses_taken}\")\n",
        "print(\"--------------------------------------------------------------------------------\")\n",
        "s4 = Student(\"Bruce\", 1.52, 5)\n",
        "print(f\"Advising Status: {s4.advising_status}\\nCourses Taken: {s4.courses_taken}\")"
      ]
    }
  ]
}