{
  "nbformat": 4,
  "nbformat_minor": 0,
  "metadata": {
    "colab": {
      "provenance": []
    },
    "kernelspec": {
      "name": "python3",
      "display_name": "Python 3"
    },
    "language_info": {
      "name": "python"
    }
  },
  "cells": [
    {
      "cell_type": "code",
      "execution_count": 34,
      "metadata": {
        "colab": {
          "base_uri": "https://localhost:8080/"
        },
        "id": "oFLl3M4qK2Ab",
        "outputId": "def4daea-31a9-44ae-e434-86003f2aac83"
      },
      "outputs": [
        {
          "output_type": "stream",
          "name": "stdout",
          "text": [
            "Contacts cannot be saved. Length Mismatch!\n",
            "Saved Contacts: {}\n",
            "---------------------------------------------\n",
            "Contacts saved successfully.\n",
            "Saved Contacts: {'Emergency': '999', 'Father': '01xx23', 'Bestie': '01xx87', 'Mother': '01xx65'}\n",
            "---------------------------------------------\n",
            "Saved Contacts: {}\n",
            "---------------------------------------------\n",
            "Contacts saved successfully.\n",
            "Saved Contacts: {'Emergency': '999', 'Father': '01xx23', 'Bestie': '01xx87', 'Mother': '01xx65'}\n",
            "---------------------------------------------\n"
          ]
        }
      ],
      "source": [
        "class Contacts:\n",
        "  def __init__(self, list1, list2):\n",
        "    contactDict = {}\n",
        "    if len(list1) == len(list2):\n",
        "      for items in range(len(list1)):\n",
        "        contactDict[list1[items]] = list2[items]\n",
        "      print(\"Contacts saved successfully.\")\n",
        "    else:\n",
        "      print(\"Contacts cannot be saved. Length Mismatch!\")\n",
        "    self.contactDict = contactDict\n",
        "\n",
        "\n",
        "\n",
        "names = [\"Emergency\", \"Father\", \"Bestie\"]\n",
        "numbers = [\"999\", \"01xx23\", \"01xx87\", \"01xx65\", \"01xx43\"]\n",
        "\n",
        "m1 = Contacts(names, numbers)\n",
        "print(\"Saved Contacts:\", m1.contactDict)\n",
        "print(\"---------------------------------------------\")\n",
        "\n",
        "names.append(\"Mother\")\n",
        "numbers.pop()\n",
        "\n",
        "m2 = Contacts(names, numbers)\n",
        "print(\"Saved Contacts:\", m2.contactDict)\n",
        "print(\"---------------------------------------------\")\n",
        "prev_m1 = m1\n",
        "print(\"Saved Contacts:\", prev_m1.contactDict)\n",
        "print(\"---------------------------------------------\")\n",
        "m1 = Contacts(names, numbers)\n",
        "print(\"Saved Contacts:\", m1.contactDict)\n",
        "print(\"---------------------------------------------\")"
      ]
    }
  ]
}