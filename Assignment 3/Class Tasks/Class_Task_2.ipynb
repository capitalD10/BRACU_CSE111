{
  "nbformat": 4,
  "nbformat_minor": 0,
  "metadata": {
    "colab": {
      "provenance": []
    },
    "kernelspec": {
      "name": "python3",
      "display_name": "Python 3"
    },
    "language_info": {
      "name": "python"
    }
  },
  "cells": [
    {
      "cell_type": "code",
      "execution_count": 33,
      "metadata": {
        "colab": {
          "base_uri": "https://localhost:8080/"
        },
        "id": "oFLl3M4qK2Ab",
        "outputId": "7f85ae5a-3240-4ee4-abb3-df024a676586"
      },
      "outputs": [
        {
          "output_type": "stream",
          "name": "stdout",
          "text": [
            "=====================================\n",
            "Mango Tree Details:\n",
            "Variety: Gopalbhog\n",
            "Height: 1 meter(s)\n",
            "Number of mangoes on the tree: 0\n",
            "=====================================\n",
            "Mango Tree Details:\n",
            "Variety: Amrapali\n",
            "Height: 1 meter(s)\n",
            "Number of mangoes on the tree: 0\n",
            "=====================================\n",
            "Updated details after 5 years:\n",
            "=====================================\n",
            "Variety: Gopalbhog\n",
            "Height: 16 meter(s)\n",
            "Number of mangoes on the tree: 160\n",
            "=====================================\n",
            "Mango Tree Details:\n",
            "Variety: Amrapali\n",
            "Height: 16 meter(s)\n",
            "Number of mangoes on the tree: 240\n",
            "=====================================\n"
          ]
        }
      ],
      "source": [
        "class MangoTree:\n",
        "  def __init__(self, variety, height = 1, number_of_mangoes = 0):\n",
        "    self.variety = variety\n",
        "    self.height = height\n",
        "    self.number_of_mangoes = number_of_mangoes\n",
        "\n",
        "\n",
        "mangoTree1= MangoTree(\"Gopalbhog\")\n",
        "# Display the details of the mango tree\n",
        "print(\"=====================================\")\n",
        "print(\"Mango Tree Details:\")\n",
        "print(f\"Variety: {mangoTree1.variety}\")\n",
        "print(f\"Height: {mangoTree1.height} meter(s)\")\n",
        "print(f\"Number of mangoes on the tree: {mangoTree1.number_of_mangoes}\")\n",
        "print(\"=====================================\")\n",
        "mangoTree2= MangoTree(\"Amrapali\")\n",
        "# Display the details of the mango tree\n",
        "print(\"Mango Tree Details:\")\n",
        "print(f\"Variety: {mangoTree2.variety}\")\n",
        "print(f\"Height: {mangoTree2.height} meter(s)\")\n",
        "print(f\"Number of mangoes on the tree: {mangoTree2.number_of_mangoes}\")\n",
        "print(\"=====================================\")\n",
        "#mangoTree1= MangoTree(\"Gopalbhog\")\n",
        "if mangoTree1.variety == \"Gopalbhog\":\n",
        "  mangoTree1.height += (3 * 5)\n",
        "  mangoTree1.number_of_mangoes = (mangoTree1.height * 10)\n",
        "#mangoTree2= MangoTree(\"Amrapali\")\n",
        "if mangoTree2.variety == \"Amrapali\":\n",
        "  mangoTree2.height += (3 * 5)\n",
        "  mangoTree2.number_of_mangoes = (mangoTree2.height * 15)\n",
        "print(\"Updated details after 5 years:\")\n",
        "print(\"=====================================\")\n",
        "print(f\"Variety: {mangoTree1.variety}\")\n",
        "print(f\"Height: {mangoTree1.height} meter(s)\")\n",
        "print(f\"Number of mangoes on the tree: {mangoTree1.number_of_mangoes}\")\n",
        "print(\"=====================================\")\n",
        "print(\"Mango Tree Details:\")\n",
        "print(f\"Variety: {mangoTree2.variety}\")\n",
        "print(f\"Height: {mangoTree2.height} meter(s)\")\n",
        "print(f\"Number of mangoes on the tree: {mangoTree2.number_of_mangoes}\")\n",
        "print(\"=====================================\")"
      ]
    }
  ]
}