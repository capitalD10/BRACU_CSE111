{
  "nbformat": 4,
  "nbformat_minor": 0,
  "metadata": {
    "colab": {
      "provenance": []
    },
    "kernelspec": {
      "name": "python3",
      "display_name": "Python 3"
    },
    "language_info": {
      "name": "python"
    }
  },
  "cells": [
    {
      "cell_type": "code",
      "execution_count": 37,
      "metadata": {
        "colab": {
          "base_uri": "https://localhost:8080/"
        },
        "id": "oFLl3M4qK2Ab",
        "outputId": "eb4036e5-d0bf-4d09-c01c-036367729482"
      },
      "outputs": [
        {
          "output_type": "stream",
          "name": "stdout",
          "text": [
            "Checking the book.\n",
            "Ferguson wrote the book 'The Act'.\n",
            "This book was published in 1924.\n",
            "This book is Rejected. The book is not antique enough.\n",
            "-------------------------------------\n",
            "Checking the book.\n",
            "Nolan wrote the book 'Flame'.\n",
            "This book was published in 1932.\n",
            "This book is Rejected. The book is not antique enough.\n",
            "-------------------------------------\n",
            "Checking the book.\n",
            "Alfred wrote the book 'Norms'.\n",
            "This book was published in 1832.\n",
            "This book is Accepted. The book is stored on floor: 0.\n",
            "-------------------------------------\n",
            "Checking the book.\n",
            "Samson wrote the book 'Apex'.\n",
            "This book was published in 1923.\n",
            "This book is Accepted. The book is stored on floor: 0.\n",
            "-------------------------------------\n",
            "Checking the book.\n",
            "Eden wrote the book 'Habitat'.\n",
            "This book was published in 1723.\n",
            "This book is Accepted. The book is stored on floor: 1.\n",
            "-------------------------------------\n",
            "Checking the book.\n",
            "Menez wrote the book 'Apocalypto'.\n",
            "This book was published in 1603.\n",
            "This book is Accepted. The book is stored on floor: 2.\n"
          ]
        }
      ],
      "source": [
        "import datetime\n",
        "year = datetime.date.today().year\n",
        "\n",
        "class Book:\n",
        "  def __init__(self, name, author, year_of_publication):\n",
        "    self.name = name\n",
        "    self.author = author\n",
        "    self.year_of_publication = year_of_publication\n",
        "    self.status = \"\"\n",
        "    print(\"Checking the book.\")\n",
        "    if 100 < (year - self.year_of_publication) < 200:\n",
        "      self.status = \"Accepted. The book is stored on floor: 0.\"\n",
        "    elif 200 <= (year - self.year_of_publication) < 400:\n",
        "      self.status = \"Accepted. The book is stored on floor: 1.\"\n",
        "    elif 400 <= (year - self.year_of_publication):\n",
        "      self.status = \"Accepted. The book is stored on floor: 2.\"\n",
        "    else:\n",
        "      self.status = \"Rejected. The book is not antique enough.\"\n",
        "\n",
        "\n",
        "book1= Book('The Act', 'Ferguson', 1924)\n",
        "print(f\"{book1.author} wrote the book '{book1.name}'.\")\n",
        "print(f\"This book was published in {book1.year_of_publication}.\")\n",
        "print(f\"This book is {book1.status}\")\n",
        "print(\"-------------------------------------\")\n",
        "book2= Book('Flame', 'Nolan', 1932)\n",
        "print(f\"{book2.author} wrote the book '{book2.name}'.\")\n",
        "print(f\"This book was published in {book2.year_of_publication}.\")\n",
        "print(f\"This book is {book2.status}\")\n",
        "print(\"-------------------------------------\")\n",
        "book3= Book('Norms', 'Alfred', 1832)\n",
        "print(f\"{book3.author} wrote the book '{book3.name}'.\")\n",
        "print(f\"This book was published in {book3.year_of_publication}.\")\n",
        "print(f\"This book is {book3.status}\")\n",
        "print(\"-------------------------------------\")\n",
        "book4= Book('Apex', 'Samson', 1923)\n",
        "print(f\"{book4.author} wrote the book '{book4.name}'.\")\n",
        "print(f\"This book was published in {book4.year_of_publication}.\")\n",
        "print(f\"This book is {book4.status}\")\n",
        "print(\"-------------------------------------\")\n",
        "book5= Book('Habitat', 'Eden', 1723)\n",
        "print(f\"{book5.author} wrote the book '{book5.name}'.\")\n",
        "print(f\"This book was published in {book5.year_of_publication}.\")\n",
        "print(f\"This book is {book5.status}\")\n",
        "print(\"-------------------------------------\")\n",
        "book6= Book('Apocalypto', 'Menez', 1603)\n",
        "print(f\"{book6.author} wrote the book '{book6.name}'.\")\n",
        "print(f\"This book was published in {book6.year_of_publication}.\")\n",
        "print(f\"This book is {book6.status}\")"
      ]
    }
  ]
}