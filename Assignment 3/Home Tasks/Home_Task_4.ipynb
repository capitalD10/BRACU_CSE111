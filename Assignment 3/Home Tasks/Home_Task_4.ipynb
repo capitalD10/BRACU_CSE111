{
  "nbformat": 4,
  "nbformat_minor": 0,
  "metadata": {
    "colab": {
      "provenance": []
    },
    "kernelspec": {
      "name": "python3",
      "display_name": "Python 3"
    },
    "language_info": {
      "name": "python"
    }
  },
  "cells": [
    {
      "cell_type": "code",
      "execution_count": 40,
      "metadata": {
        "colab": {
          "base_uri": "https://localhost:8080/"
        },
        "id": "oFLl3M4qK2Ab",
        "outputId": "06172d1a-f8fa-4e6d-c343-b346ede1df8d"
      },
      "outputs": [
        {
          "output_type": "stream",
          "name": "stdout",
          "text": [
            "['Chicken_Cheeseburger', 2, 498, 'Fries', 3, 417, 'Soft_Drinks', 3, 150]\n",
            "\n",
            "-----------------------------------\n",
            "Item           x Quantity :   Price\n",
            "--------------   --------   -------\n",
            "Chicken_Cheeseburger x  2 :  498.00\n",
            "Fries                x  3 :  417.00\n",
            "Soft_Drinks          x  3 :  150.00\n",
            "-----------------------------------\n",
            "Total:                      1065.00\n",
            "-----------------------------------\n"
          ]
        }
      ],
      "source": [
        "class Order:\n",
        "  def __init__(self, prices_menu, order):\n",
        "    order = order.split(\",\")\n",
        "    orders = []\n",
        "    for food in order:\n",
        "      food = food.split(\"-\")\n",
        "      orders.append(food)\n",
        "    foods = [x.strip() for order in orders for x in order]\n",
        "    items = []\n",
        "    for food in range(len(foods)):\n",
        "      for key in prices_menu.keys():\n",
        "        if key == foods[food]:\n",
        "          items.append(foods[food])\n",
        "          items.append(int(foods[food + 1]))\n",
        "          items.append((prices_menu[key] * int(foods[food + 1])))\n",
        "    self.items = items\n",
        "\n",
        "\n",
        "menu = {\n",
        "    'Chicken_Cheeseburger' : 249,\n",
        "    'Mega_Cheeseburger' : 289,\n",
        "    'Fries' : 139,\n",
        "    'Hot_Wings' : 99,\n",
        "    'Rice_Bowl' : 299,\n",
        "    'Soft_Drinks' : 50\n",
        "}\n",
        "\n",
        "order1 = Order(menu, \"Chicken_Cheeseburger-2, Fries-3, Soft_Drinks-3\")\n",
        "print(order1.items)\n",
        "print()\n",
        "\n",
        "print('-'*35)\n",
        "print('Item           x Quantity :   Price')\n",
        "print('--------------   --------   -------')\n",
        "\n",
        "index = 0\n",
        "total = 0\n",
        "while index < len(order1.items):\n",
        "  item = order1.items[index]\n",
        "  quantity = order1.items[index+1]\n",
        "  price = order1.items[index+2]\n",
        "\n",
        "  print(f'{item:20} x {quantity:2} : {price:7.2f}')\n",
        "  total += price\n",
        "  index += 3 # Going to next item\n",
        "\n",
        "print('-'*35)\n",
        "print(f'Total:                      {total:7.2f}')\n",
        "print('-'*35)"
      ]
    }
  ]
}