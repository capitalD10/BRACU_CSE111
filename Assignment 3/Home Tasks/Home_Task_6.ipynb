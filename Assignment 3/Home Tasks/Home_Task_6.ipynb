{
  "nbformat": 4,
  "nbformat_minor": 0,
  "metadata": {
    "colab": {
      "provenance": []
    },
    "kernelspec": {
      "name": "python3",
      "display_name": "Python 3"
    },
    "language_info": {
      "name": "python"
    }
  },
  "cells": [
    {
      "cell_type": "code",
      "execution_count": 41,
      "metadata": {
        "colab": {
          "base_uri": "https://localhost:8080/"
        },
        "id": "oFLl3M4qK2Ab",
        "outputId": "95c6590a-6e5f-4b82-b58b-4e1cd0a7c802"
      },
      "outputs": [
        {
          "output_type": "stream",
          "name": "stdout",
          "text": [
            "New Student\n",
            "Student Two\n",
            "New Student\n",
            "2.3\n",
            "3.3\n",
            "2.3\n",
            "old student\n",
            "oldest student\n",
            "oldest student\n",
            "2.3\n",
            "3.5\n",
            "3.5\n"
          ]
        }
      ],
      "source": [
        "class Student:\n",
        "    def __init__(self):\n",
        "        self.name = None\n",
        "        self.cgpa = 0.0\n",
        "s1 = Student()\n",
        "s2 = Student()\n",
        "s3 = None\n",
        "s1.name = \"Student One\"\n",
        "s1.cgpa = 2.3\n",
        "s3 = s1\n",
        "s2.name = \"Student Two\"\n",
        "s2.cgpa = s3.cgpa + 1\n",
        "s3.name = \"New Student\"\n",
        "print(s1.name)\n",
        "print(s2.name)\n",
        "print(s3.name)\n",
        "print(s1.cgpa)\n",
        "print(s2.cgpa)\n",
        "print(s3.cgpa)\n",
        "s3 = s2\n",
        "s1.name = \"old student\"\n",
        "s2.name = \"older student\"\n",
        "s3.name = \"oldest student\"\n",
        "s2.cgpa = s1.cgpa - s3.cgpa + 4.5\n",
        "print(s1.name)\n",
        "print(s2.name)\n",
        "print(s3.name)\n",
        "print(s1.cgpa)\n",
        "print(s2.cgpa)\n",
        "print(s3.cgpa)"
      ]
    }
  ]
}