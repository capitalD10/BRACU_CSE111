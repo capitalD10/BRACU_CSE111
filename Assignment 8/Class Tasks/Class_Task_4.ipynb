{
  "nbformat": 4,
  "nbformat_minor": 0,
  "metadata": {
    "colab": {
      "provenance": []
    },
    "kernelspec": {
      "name": "python3",
      "display_name": "Python 3"
    },
    "language_info": {
      "name": "python"
    }
  },
  "cells": [
    {
      "cell_type": "code",
      "execution_count": 68,
      "metadata": {
        "colab": {
          "base_uri": "https://localhost:8080/"
        },
        "collapsed": true,
        "id": "oFLl3M4qK2Ab",
        "outputId": "7f77a0e3-bd85-484d-90ad-06bb24fb87ff"
      },
      "outputs": [
        {
          "output_type": "stream",
          "name": "stdout",
          "text": [
            "Total Student(s): 0\n",
            "BRAC University Student(s): 0\n",
            "Other Institution Students(s): 0\n",
            "#########################\n",
            "Name: Mikasa Ackerman\n",
            "Department: CSE\n",
            "Institution: BRAC University\n",
            "------------------------------------------\n",
            "Total Student(s): 1\n",
            "BRAC University Student(s): 1\n",
            "Other Institution Students(s): 0\n",
            "========================\n",
            "Name: Harry Potter\n",
            "Department: Defence Against Dark Arts\n",
            "Institution: Hogwarts School\n",
            "-------------------------------------------\n",
            "Total Student(s): 2\n",
            "BRAC University Student(s): 1\n",
            "Other Institution Students(s): 1\n",
            "=========================\n",
            "Name: Levi Ackerman\n",
            "Department: CSE\n",
            "Institution: BRAC University\n",
            "--------------------------------------------\n",
            "Total Student(s): 3\n",
            "BRAC University Student(s): 2\n",
            "Other Institution Students(s): 1\n"
          ]
        }
      ],
      "source": [
        "class Student:\n",
        "  total = 0\n",
        "  bracu_stud = 0\n",
        "  other_stud = 0\n",
        "  def __init__(self, name, dept, institute = \"BRAC University\"):\n",
        "    self.name = name\n",
        "    self.dept = dept\n",
        "    self.institute = institute\n",
        "    Student.total += 1\n",
        "    if institute == \"BRAC University\":\n",
        "      Student.bracu_stud += 1\n",
        "    else:\n",
        "      Student.other_stud += 1\n",
        "  def individualDetail(self):\n",
        "    print(f\"Name: {self.name}\")\n",
        "    print(f\"Department: {self.dept}\")\n",
        "    print(f\"Institution: {self.institute}\")\n",
        "  @classmethod\n",
        "  def createStudent(cls, name, dept, institute = \"BRAC University\"):\n",
        "    new_obj = cls(name, dept, institute)\n",
        "    return new_obj\n",
        "  @classmethod\n",
        "  def printDetails(cls):\n",
        "    print(f\"Total Student(s): {cls.total}\")\n",
        "    print(f\"BRAC University Student(s): {cls.bracu_stud}\")\n",
        "    print(f\"Other Institution Students(s): {cls.other_stud}\")\n",
        "\n",
        "Student.printDetails()\n",
        "print('#########################')\n",
        "\n",
        "mikasa = Student('Mikasa Ackerman', \"CSE\")\n",
        "mikasa.individualDetail()\n",
        "print('------------------------------------------')\n",
        "Student.printDetails()\n",
        "\n",
        "print('========================')\n",
        "\n",
        "harry = Student.createStudent('Harry Potter', \"Defence Against Dark Arts\", \"Hogwarts School\")\n",
        "harry.individualDetail()\n",
        "print('-------------------------------------------')\n",
        "Student.printDetails()\n",
        "\n",
        "print('=========================')\n",
        "\n",
        "levi = Student.createStudent(\"Levi Ackerman\", \"CSE\")\n",
        "levi.individualDetail()\n",
        "print('--------------------------------------------')\n",
        "Student.printDetails()"
      ]
    }
  ]
}