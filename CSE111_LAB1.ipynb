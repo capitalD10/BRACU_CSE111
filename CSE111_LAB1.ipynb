{
  "nbformat": 4,
  "nbformat_minor": 0,
  "metadata": {
    "colab": {
      "provenance": []
    },
    "kernelspec": {
      "name": "python3",
      "display_name": "Python 3"
    },
    "language_info": {
      "name": "python"
    }
  },
  "cells": [
    {
      "cell_type": "markdown",
      "source": [
        "# **List**"
      ],
      "metadata": {
        "id": "7Q4KXTYMdKHv"
      }
    },
    {
      "cell_type": "code",
      "execution_count": null,
      "metadata": {
        "colab": {
          "base_uri": "https://localhost:8080/"
        },
        "id": "UZJ4aryYdIGg",
        "outputId": "2c6e3dc8-6f3e-4669-d2ff-7af481a71526"
      },
      "outputs": [
        {
          "output_type": "stream",
          "name": "stdout",
          "text": [
            "10\n",
            "20\n",
            "20\n",
            "10\n",
            "30\n",
            "50\n",
            "90\n",
            "STOP\n",
            "10 - 2 times\n",
            "20 - 2 times\n",
            "30 - 1 times\n",
            "50 - 1 times\n",
            "90 - 1 times\n"
          ]
        }
      ],
      "source": [
        "#1\n",
        "numbers = []\n",
        "final = []\n",
        "while True:\n",
        "  inp = input()\n",
        "  if inp == \"STOP\":\n",
        "    break\n",
        "  else:\n",
        "    num = int(inp)\n",
        "    numbers.append(num)\n",
        "for x in numbers:\n",
        "  if x in final:\n",
        "    continue\n",
        "  else:\n",
        "    final.append(x)\n",
        "for x in final:\n",
        "  count = 0\n",
        "  for y in numbers:\n",
        "    if x == y:\n",
        "      count += 1\n",
        "    else:\n",
        "      continue\n",
        "  print(f\"{x} - {count} times\")"
      ]
    },
    {
      "cell_type": "code",
      "source": [
        "#2\n",
        "inp = int(input())\n",
        "sum = 0\n",
        "max = float('-inf')\n",
        "for x in range(inp):\n",
        "  ins = input()\n",
        "  string = ins.split()\n",
        "  for y in range(len(string)):\n",
        "    sum += int(string[y])\n",
        "  if sum > max:\n",
        "    max = sum\n",
        "    max_list = string\n",
        "    for i in range(len(max_list)):\n",
        "      max_list[i] = int(max_list[i])\n",
        "    sum = 0\n",
        "  else:\n",
        "    sum = 0\n",
        "    continue\n",
        "print(max)\n",
        "print(max_list)"
      ],
      "metadata": {
        "colab": {
          "base_uri": "https://localhost:8080/"
        },
        "id": "xVLOffjxnVLQ",
        "outputId": "550fe7ce-3b9e-47f8-ebe2-d7a47187ab51"
      },
      "execution_count": null,
      "outputs": [
        {
          "output_type": "stream",
          "name": "stdout",
          "text": [
            "4\n",
            "1 2 3\n",
            "4 5 6\n",
            "10 11 12\n",
            "7 8 9\n",
            "33\n",
            "[10, 11, 12]\n"
          ]
        }
      ]
    },
    {
      "cell_type": "code",
      "source": [
        "#3\n",
        "list1 = input()\n",
        "list1 = list1.split()\n",
        "list2 = input()\n",
        "list2 = list2.split()\n",
        "result = []\n",
        "for x in range(len(list1)):\n",
        "  for y in range(len(list2)):\n",
        "    cross = int(list1[x]) * int(list2[y])\n",
        "    result.append(cross)\n",
        "print(result)"
      ],
      "metadata": {
        "colab": {
          "base_uri": "https://localhost:8080/"
        },
        "id": "Q2v0jpwTrXgP",
        "outputId": "1fbe30ac-fe0f-4c58-de91-bb6c8870d029"
      },
      "execution_count": null,
      "outputs": [
        {
          "output_type": "stream",
          "name": "stdout",
          "text": [
            "2 3 6\n",
            "3 4 5\n",
            "[6, 8, 10, 9, 12, 15, 18, 24, 30]\n"
          ]
        }
      ]
    },
    {
      "cell_type": "code",
      "source": [
        "#4\n",
        "inp = input()\n",
        "result = []\n",
        "\n",
        "while inp != \"STOP\":\n",
        "  List = [int(x) for x in inp.split()]\n",
        "  order = [int(x) for x in range(1, len(List))]\n",
        "  difference = []\n",
        "\n",
        "  for x in range(len(List) - 1):\n",
        "    item = List[x] - List[x + 1]\n",
        "    item = abs(item)\n",
        "    difference.append(item)\n",
        "  if order == sorted(difference):\n",
        "    result.append(\"UB Jumper\")\n",
        "  else:\n",
        "    result.append(\"Not UB Jumper\")\n",
        "  inp = input()\n",
        "for x in result:\n",
        "  print(x)"
      ],
      "metadata": {
        "colab": {
          "base_uri": "https://localhost:8080/"
        },
        "id": "dlFo2F1Lo2q-",
        "outputId": "b37d20a6-f3c8-4a09-d935-5b3756af53cb"
      },
      "execution_count": null,
      "outputs": [
        {
          "output_type": "stream",
          "name": "stdout",
          "text": [
            "1 4 2 3\n",
            "2 1 4 6 10\n",
            "1 4 2 -1 6\n",
            "STOP\n",
            "UB Jumper\n",
            "UB Jumper\n",
            "Not UB Jumper\n"
          ]
        }
      ]
    },
    {
      "cell_type": "code",
      "source": [
        "#5\n",
        "inp = input()\n",
        "lower = []\n",
        "upper = []\n",
        "odd = []\n",
        "even = []\n",
        "for x in range(len(inp)):\n",
        "  if ord(\"A\") <= ord(inp[x]) <= ord(\"Z\"):\n",
        "    upper.append(inp[x])\n",
        "  elif ord(\"a\") <= ord(inp[x]) <= ord(\"z\"):\n",
        "    lower.append(inp[x])\n",
        "  elif int(inp[x]) % 2 == 0:\n",
        "    even.append(inp[x])\n",
        "  elif int(inp[x]) % 2 != 0:\n",
        "    odd.append(inp[x])\n",
        "new_string = \"\"\n",
        "for x in sorted(lower):\n",
        "  new_string += x\n",
        "for x in sorted(upper):\n",
        "  new_string += x\n",
        "for x in sorted(odd):\n",
        "  new_string += x\n",
        "for x in sorted(even):\n",
        "  new_string += x\n",
        "print(new_string)"
      ],
      "metadata": {
        "id": "hxjMqeX5uHKA",
        "colab": {
          "base_uri": "https://localhost:8080/"
        },
        "outputId": "479a4076-16fb-4cf9-f19f-e28a7496b0db"
      },
      "execution_count": 2,
      "outputs": [
        {
          "output_type": "stream",
          "name": "stdout",
          "text": [
            "Bracu1234\n",
            "acruB1324\n"
          ]
        }
      ]
    },
    {
      "cell_type": "code",
      "source": [
        "#6\n",
        "inp = input()\n",
        "inp = [int(x) for x in inp.split()]\n",
        "inp2 = input()\n",
        "persons = [int(x) for x in inp2.split()]\n",
        "eligible = []\n",
        "if len(persons) == inp[0]:\n",
        "  for x in persons:\n",
        "    if x + inp[1] <= 5:\n",
        "      eligible.append(x)\n",
        "    else:\n",
        "      continue\n",
        "if len(eligible) < 3:\n",
        "  print(0)\n",
        "else:\n",
        "  if len(eligible) % 3 == 0:\n",
        "    print(len(eligible) // 3)\n",
        "  elif (len(eligible) - 1) % 3 == 0:\n",
        "    print((len(eligible) - 1) // 3)\n",
        "  elif (len(eligible) - 2) % 3 == 0:\n",
        "    print((len(eligible) - 2) // 3)"
      ],
      "metadata": {
        "colab": {
          "base_uri": "https://localhost:8080/"
        },
        "id": "e5Qp7U19w-WT",
        "outputId": "12cd7854-21e7-49c4-9fdb-ddb0e9204c90"
      },
      "execution_count": null,
      "outputs": [
        {
          "output_type": "stream",
          "name": "stdout",
          "text": [
            "6 4\n",
            "0 1 2 3 4 5\n",
            "0\n"
          ]
        }
      ]
    },
    {
      "cell_type": "markdown",
      "source": [
        "# **Dictionary & Tuple**"
      ],
      "metadata": {
        "id": "JALukNI_x53P"
      }
    },
    {
      "cell_type": "code",
      "source": [
        "#1\n",
        "a = {\"a\":100, \"b\":100, \"c\": 200, \"d\":300}\n",
        "b = {\"a\":300, \"b\":200, \"d\":400, \"e\":200}\n",
        "final = {}\n",
        "for key in a:\n",
        "  if key in b:\n",
        "    value = a[key] + b[key]\n",
        "  else:\n",
        "    value = a[key]\n",
        "  final[key] = value\n",
        "for key in b:\n",
        "  if key not in final:\n",
        "    final[key] = b[key]\n",
        "tuplee = ()\n",
        "for item in final:\n",
        "  tuplee += (final[item],)\n",
        "print(final)\n",
        "print(f\"values: {tuple(sorted(tuplee))}\")"
      ],
      "metadata": {
        "colab": {
          "base_uri": "https://localhost:8080/"
        },
        "id": "cmza002bF7jF",
        "outputId": "66575984-8235-4ed8-d623-6d3ad2c6b4c8"
      },
      "execution_count": null,
      "outputs": [
        {
          "output_type": "stream",
          "name": "stdout",
          "text": [
            "{'a': 400, 'b': 300, 'c': 200, 'd': 700, 'e': 200}\n",
            "values: (200, 200, 300, 400, 700)\n"
          ]
        }
      ]
    },
    {
      "cell_type": "code",
      "source": [
        "#2\n",
        "numbers = []\n",
        "result = {}\n",
        "while True:\n",
        "  inp = input()\n",
        "  if inp == \"STOP\":\n",
        "    break\n",
        "  else:\n",
        "    num = int(inp)\n",
        "    numbers.append(num)\n",
        "\n",
        "for x in numbers:\n",
        "  if x in result:\n",
        "    result[x] += 1\n",
        "  else:\n",
        "    result[x] = 1\n",
        "for key, value in result.items():\n",
        "  print(f\"{key} - {value} times\")"
      ],
      "metadata": {
        "colab": {
          "base_uri": "https://localhost:8080/"
        },
        "id": "7f5CZ63mJtt3",
        "outputId": "99b03ba1-a456-4cf3-d2ae-60885d3133af"
      },
      "execution_count": null,
      "outputs": [
        {
          "output_type": "stream",
          "name": "stdout",
          "text": [
            "10\n",
            "20\n",
            "20\n",
            "30\n",
            "10\n",
            "50\n",
            "90\n",
            "STOP\n",
            "10 - 2 times\n",
            "20 - 2 times\n",
            "30 - 1 times\n",
            "50 - 1 times\n",
            "90 - 1 times\n"
          ]
        }
      ]
    },
    {
      "cell_type": "code",
      "source": [
        "#3\n",
        "inp = {\"key1\":\"value1\", \"key2\":\"value2\", \"key3\":\"value1\"}\n",
        "final = {}\n",
        "for key, value in inp.items():\n",
        "  if value in final:\n",
        "    final[value] += [key]\n",
        "  else:\n",
        "    final[value] = [key]\n",
        "print(final)"
      ],
      "metadata": {
        "colab": {
          "base_uri": "https://localhost:8080/"
        },
        "id": "QX5E4eLYMVEF",
        "outputId": "4d1aff7e-f0c0-4f54-fe6e-4f5da2f94242"
      },
      "execution_count": null,
      "outputs": [
        {
          "output_type": "stream",
          "name": "stdout",
          "text": [
            "{'value1': ['key1', 'key3'], 'value2': ['key2']}\n"
          ]
        }
      ]
    },
    {
      "cell_type": "code",
      "source": [
        "#4\n",
        "inp = input()\n",
        "final_dict = {}\n",
        "for x in inp:\n",
        "  if 65 <= ord(x) <= 90:\n",
        "     word = chr(ord(x) + 32)\n",
        "     final_dict[word] = 1\n",
        "  elif x in final_dict.keys():\n",
        "    final_dict[x] += 1\n",
        "  elif x == \" \":\n",
        "    continue\n",
        "  else:\n",
        "    final_dict[x] = 1\n",
        "print(final_dict)"
      ],
      "metadata": {
        "id": "a0vxe2tXx9RZ",
        "colab": {
          "base_uri": "https://localhost:8080/"
        },
        "outputId": "03368560-7e7b-4e33-f910-64ce385b1d50"
      },
      "execution_count": 5,
      "outputs": [
        {
          "output_type": "stream",
          "name": "stdout",
          "text": [
            "Python programming is fun\n",
            "{'p': 2, 'y': 1, 't': 1, 'h': 1, 'o': 2, 'n': 3, 'r': 2, 'g': 2, 'a': 1, 'm': 2, 'i': 2, 's': 1, 'f': 1, 'u': 1}\n"
          ]
        }
      ]
    },
    {
      "cell_type": "code",
      "source": [
        "#5\n",
        "first = {}\n",
        "second = {}\n",
        "for x in input():\n",
        "  first[x] = 1\n",
        "for y in input():\n",
        "  second[y] = 1\n",
        "if len(first) == len(second):\n",
        "  if first == second:\n",
        "    print(\"Those strings are anagrams\")\n",
        "  else:\n",
        "    print(\"Those strings are not anagrams\")\n",
        "else:\n",
        "  print(\"Those strings are not anagrams\")"
      ],
      "metadata": {
        "colab": {
          "base_uri": "https://localhost:8080/"
        },
        "id": "WRFLT3W4VMvd",
        "outputId": "4dbd9839-a655-4203-fb07-ca16baa92ebd"
      },
      "execution_count": null,
      "outputs": [
        {
          "output_type": "stream",
          "name": "stdout",
          "text": [
            "listen\n",
            "silent\n",
            "Those strings are anagrams\n"
          ]
        }
      ]
    },
    {
      "cell_type": "code",
      "source": [
        "#6\n",
        "keys = {\".\":1, \",\":11, \"?\":111, \"!\":1111, \":\":11111,\n",
        "        \"A\": 2, \"B\": 22, \"C\": 222,\n",
        "        \"D\": 3, \"E\": 33, \"F\": 333,\n",
        "        \"G\": 4, \"H\": 44, \"I\": 444,\n",
        "        \"J\": 5, \"K\": 55, \"L\": 555,\n",
        "        \"M\": 6, \"N\": 66, \"O\": 666,\n",
        "        \"P\": 7, \"Q\": 77, \"R\": 777, \"S\": 7777,\n",
        "        \"T\": 8, \"U\": 88, \"V\": 888,\n",
        "        \"W\": 9, \"X\": 99, \"Y\": 999, \"Z\": 9999,\n",
        "        \" \": 0}\n",
        "string = input()\n",
        "new_string = \"\"\n",
        "for x in string:\n",
        "  if 97 <= ord(x) <= 122:\n",
        "    new_string += chr(ord(x) - 32)\n",
        "  else:\n",
        "    new_string += x\n",
        "for x in new_string:\n",
        "  result = f\"{keys[x]}\"\n",
        "  print(result, end=\"\")"
      ],
      "metadata": {
        "colab": {
          "base_uri": "https://localhost:8080/"
        },
        "id": "fJSDJPf1ZWjm",
        "outputId": "c0285f3f-20e9-44dd-f861-58861281356c"
      },
      "execution_count": null,
      "outputs": [
        {
          "output_type": "stream",
          "name": "stdout",
          "text": [
            "Hello, world!\n",
            "4433555555666110966677755531111"
          ]
        }
      ]
    }
  ]
}