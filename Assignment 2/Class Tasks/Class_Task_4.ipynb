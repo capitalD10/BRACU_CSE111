{
  "nbformat": 4,
  "nbformat_minor": 0,
  "metadata": {
    "colab": {
      "provenance": []
    },
    "kernelspec": {
      "name": "python3",
      "display_name": "Python 3"
    },
    "language_info": {
      "name": "python"
    }
  },
  "cells": [
    {
      "cell_type": "code",
      "execution_count": 16,
      "metadata": {
        "colab": {
          "base_uri": "https://localhost:8080/"
        },
        "id": "oFLl3M4qK2Ab",
        "outputId": "e8ed6d21-4cf3-49e1-88bb-3393b6a0279f"
      },
      "outputs": [
        {
          "output_type": "stream",
          "name": "stdout",
          "text": [
            "Palindrome\n"
          ]
        }
      ],
      "source": [
        "def palindrome(text):\n",
        "  reverse = text[-1::-1]\n",
        "  list1 = []\n",
        "  list2 = []\n",
        "  for x in text:\n",
        "    if x == \" \":\n",
        "      continue\n",
        "    else:\n",
        "      list1.append(x)\n",
        "  for x in reverse:\n",
        "    if x == \" \":\n",
        "      continue\n",
        "    else:\n",
        "      list2.append(x)\n",
        "  if list1 == list2:\n",
        "    print(\"Palindrome\")\n",
        "  else:\n",
        "    print(\"Not a palindrome\")\n",
        "palindrome(\"nurses run\")"
      ]
    }
  ]
}