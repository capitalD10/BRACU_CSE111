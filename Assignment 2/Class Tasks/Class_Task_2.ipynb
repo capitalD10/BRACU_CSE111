{
  "nbformat": 4,
  "nbformat_minor": 0,
  "metadata": {
    "colab": {
      "provenance": []
    },
    "kernelspec": {
      "name": "python3",
      "display_name": "Python 3"
    },
    "language_info": {
      "name": "python"
    }
  },
  "cells": [
    {
      "cell_type": "code",
      "execution_count": 14,
      "metadata": {
        "colab": {
          "base_uri": "https://localhost:8080/"
        },
        "id": "oFLl3M4qK2Ab",
        "outputId": "71c32717-473b-4528-a945-253cee08524a"
      },
      "outputs": [
        {
          "output_type": "stream",
          "name": "stdout",
          "text": [
            "243.6\n"
          ]
        }
      ],
      "source": [
        "def price(food, location = \"Mohakhali\"):\n",
        "  meal = {\"BBQ Chicken Cheese Burger\":250, \"Beef Burger\":170, \"Naga Drums\":200}\n",
        "  if location != \"Mohakhali\":\n",
        "    if food == \"BBQ Chicken Cheese Burger\":\n",
        "      total = meal[\"BBQ Chicken Cheese Burger\"] + 60 + ((meal[\"BBQ Chicken Cheese Burger\"] * 8) / 100)\n",
        "    elif food == \"Beef Burger\":\n",
        "      total = meal[\"Beef Burger\"] + 60 + ((meal[\"Beef Burger\"] * 8) / 100)\n",
        "    elif food == \"Naga Drums\":\n",
        "      total = meal[\"Naga Drums\"] + 60 + ((meal[\"Naga Drums\"] * 8) / 100)\n",
        "  else:\n",
        "    if food == \"BBQ Chicken Cheese Burger\":\n",
        "      total = meal[\"BBQ Chicken Cheese Burger\"] + 40 + ((meal[\"BBQ Chicken Cheese Burger\"] * 8) / 100)\n",
        "    elif food == \"Beef Burger\":\n",
        "      total = meal[\"Beef Burger\"] + 40 + ((meal[\"Beef Burger\"] * 8) / 100)\n",
        "    elif food == \"Naga Drums\":\n",
        "      total = meal[\"Naga Drums\"] + 40 + ((meal[\"Naga Drums\"] * 8) / 100)\n",
        "  print(total)\n",
        "price(\"Beef Burger\", \"Dhanmondi\")"
      ]
    }
  ]
}