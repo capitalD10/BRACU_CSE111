{
  "nbformat": 4,
  "nbformat_minor": 0,
  "metadata": {
    "colab": {
      "provenance": []
    },
    "kernelspec": {
      "name": "python3",
      "display_name": "Python 3"
    },
    "language_info": {
      "name": "python"
    }
  },
  "cells": [
    {
      "cell_type": "code",
      "execution_count": 13,
      "metadata": {
        "colab": {
          "base_uri": "https://localhost:8080/"
        },
        "id": "oFLl3M4qK2Ab",
        "outputId": "d15b800d-8c31-4fde-d6e9-ab3faaa9ed87"
      },
      "outputs": [
        {
          "output_type": "stream",
          "name": "stdout",
          "text": [
            "175\n",
            "96\n",
            "Score is 31.3. You are Obese\n"
          ]
        }
      ],
      "source": [
        "def BMI_index(height, weight):\n",
        "  height = (height / 100)\n",
        "  BMI = (weight / (height ** 2))\n",
        "  if BMI < 18.5:\n",
        "    print(f\"Score is {round(BMI, 1)}. You are Underweight\")\n",
        "  elif 18.5 <= BMI <= 24.9:\n",
        "    print(f\"Score is {round(BMI, 1)}. You are Normal\")\n",
        "  elif 25 <= BMI <= 30:\n",
        "    print(f\"Score is {round(BMI,1)}. You are Overweight\")\n",
        "  elif BMI > 30:\n",
        "    print(f\"Score is {round(BMI, 1)}. You are Obese\")\n",
        "BMI_index(int(input()), int(input()))"
      ]
    }
  ]
}