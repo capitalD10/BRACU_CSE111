{
  "nbformat": 4,
  "nbformat_minor": 0,
  "metadata": {
    "colab": {
      "provenance": []
    },
    "kernelspec": {
      "name": "python3",
      "display_name": "Python 3"
    },
    "language_info": {
      "name": "python"
    }
  },
  "cells": [
    {
      "cell_type": "code",
      "execution_count": 18,
      "metadata": {
        "colab": {
          "base_uri": "https://localhost:8080/"
        },
        "id": "oFLl3M4qK2Ab",
        "outputId": "f6be4392-cc12-4cbb-d47b-f7224489281d"
      },
      "outputs": [
        {
          "output_type": "stream",
          "name": "stdout",
          "text": [
            "My favorite animal is a dog. A dog has sharp teeth so that it can eat flesh very easily. Do you know my pet's name? I love my pet very much.\n"
          ]
        }
      ],
      "source": [
        "def correction(text):\n",
        "  final = \"\"\n",
        "  for x in range(len(text)):\n",
        "    if text[x] == \".\" or text[x] == \"!\" or text[x] == \"?\":\n",
        "      final += text[x]\n",
        "    elif x == 0:\n",
        "      final += text[x].upper()\n",
        "    elif text[x] == \" \":\n",
        "      final += text[x]\n",
        "    elif text[x] == \"i\" and (text[x-1] == \" \" and text[x+1] == \" \"):\n",
        "      final += text[x].upper()\n",
        "    elif text[x - 1] == \" \" and (text[x-2] == \".\" or text[x-2] == \"!\" or text[x-2] == \"?\"):\n",
        "      final += text[x].upper()\n",
        "    else:\n",
        "      final += text[x]\n",
        "  print(final)\n",
        "correction(\"my favorite animal is a dog. a dog has sharp teeth so that it can eat flesh very easily. do you know my pet's name? i love my pet very much.\")"
      ]
    }
  ]
}