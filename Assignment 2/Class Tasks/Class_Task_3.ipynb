{
  "nbformat": 4,
  "nbformat_minor": 0,
  "metadata": {
    "colab": {
      "provenance": []
    },
    "kernelspec": {
      "name": "python3",
      "display_name": "Python 3"
    },
    "language_info": {
      "name": "python"
    }
  },
  "cells": [
    {
      "cell_type": "code",
      "execution_count": 15,
      "metadata": {
        "colab": {
          "base_uri": "https://localhost:8080/"
        },
        "id": "oFLl3M4qK2Ab",
        "outputId": "ab3429c8-64ea-47af-8faf-c292c7691ccd"
      },
      "outputs": [
        {
          "output_type": "stream",
          "name": "stdout",
          "text": [
            "Changed: alice@sheba.xyz\n"
          ]
        }
      ],
      "source": [
        "def domain(email, address, old):\n",
        "  address = \"sheba.xyz\"\n",
        "  email_split = email.split(\"@\")\n",
        "  change = \"\"\n",
        "  if email_split[1] == address:\n",
        "    print(f\"Unchanged: {email}\")\n",
        "  else:\n",
        "    change += email_split[0] + \"@\" + address\n",
        "    print(f\"Changed: {change}\")\n",
        "domain(\"alice@kaaj.com\", \"sheba.xyz\", \"kaaj.com\")"
      ]
    }
  ]
}