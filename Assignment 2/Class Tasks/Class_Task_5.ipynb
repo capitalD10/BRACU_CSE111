{
  "nbformat": 4,
  "nbformat_minor": 0,
  "metadata": {
    "colab": {
      "provenance": []
    },
    "kernelspec": {
      "name": "python3",
      "display_name": "Python 3"
    },
    "language_info": {
      "name": "python"
    }
  },
  "cells": [
    {
      "cell_type": "code",
      "execution_count": 17,
      "metadata": {
        "colab": {
          "base_uri": "https://localhost:8080/"
        },
        "id": "oFLl3M4qK2Ab",
        "outputId": "16bcbb53-0117-4c2e-a6da-4d9732bb65ed"
      },
      "outputs": [
        {
          "output_type": "stream",
          "name": "stdout",
          "text": [
            "10 years, 11 months and 20 days\n"
          ]
        }
      ],
      "source": [
        "def time(day):\n",
        "  years = (day // 365)\n",
        "  months = (day - (years * 365)) // 30\n",
        "  days = (day - (years * 365) - (months * 30))\n",
        "  print(f\"{years} years, {months} months and {days} days\")\n",
        "time(4000)"
      ]
    }
  ]
}