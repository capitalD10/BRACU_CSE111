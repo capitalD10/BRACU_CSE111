{
  "nbformat": 4,
  "nbformat_minor": 0,
  "metadata": {
    "colab": {
      "provenance": []
    },
    "kernelspec": {
      "name": "python3",
      "display_name": "Python 3"
    },
    "language_info": {
      "name": "python"
    }
  },
  "cells": [
    {
      "cell_type": "code",
      "execution_count": 31,
      "metadata": {
        "colab": {
          "base_uri": "https://localhost:8080/"
        },
        "id": "oFLl3M4qK2Ab",
        "outputId": "e40815bc-2bf9-409f-e978-45b95f6848c1"
      },
      "outputs": [
        {
          "output_type": "stream",
          "name": "stdout",
          "text": [
            "rock\n",
            "Computer: rock\n",
            "rock\n",
            "Computer: scissor\n",
            "paper\n",
            "Computer: paper\n",
            "Your score: 1\n",
            "Computer's score: 0\n",
            "You have won the game!\n"
          ]
        }
      ],
      "source": [
        "import random\n",
        "def playRockPaperScissor(rounds):\n",
        "  my_score = 0\n",
        "  com_score = 0\n",
        "  no_score = 0\n",
        "  for x in range(rounds):\n",
        "    inp = input()\n",
        "    computer = random.choice([\"rock\", \"paper\", \"scissor\"])\n",
        "    if inp == \"rock\" and computer == \"scissor\":\n",
        "      my_score += 1\n",
        "    elif inp == \"rock\" and computer == \"paper\":\n",
        "      com_score += 1\n",
        "    elif inp == \"rock\" and computer == \"rock\":\n",
        "      no_score += 1\n",
        "    if inp == \"paper\" and computer == \"scissor\":\n",
        "      com_score += 1\n",
        "    elif inp == \"paper\" and computer == \"paper\":\n",
        "      no_score += 1\n",
        "    elif inp == \"paper\" and computer == \"rock\":\n",
        "      my_score += 1\n",
        "    if inp == \"scissor\" and computer == \"scissor\":\n",
        "      no_score += 1\n",
        "    elif inp == \"scissor\" and computer == \"paper\":\n",
        "      my_score += 1\n",
        "    elif inp == \"scissor\" and computer == \"rock\":\n",
        "      com_score += 1\n",
        "    print(f\"Computer: {computer}\")\n",
        "  if my_score > com_score:\n",
        "    result = \"You have won the game!\"\n",
        "  elif my_score == com_score:\n",
        "    result = \"It's a draw!\"\n",
        "  else:\n",
        "    result = \"Computer has won the game!\"\n",
        "  me = f\"Your score: {my_score}\"\n",
        "  com = f\"Computer's score: {com_score}\"\n",
        "  final = f\"{me} \\n{com} \\n{result}\"\n",
        "  return final\n",
        "print(playRockPaperScissor(3))"
      ]
    }
  ]
}