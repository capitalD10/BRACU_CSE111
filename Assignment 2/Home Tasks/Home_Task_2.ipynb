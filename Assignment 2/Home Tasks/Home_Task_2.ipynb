{
  "nbformat": 4,
  "nbformat_minor": 0,
  "metadata": {
    "colab": {
      "provenance": []
    },
    "kernelspec": {
      "name": "python3",
      "display_name": "Python 3"
    },
    "language_info": {
      "name": "python"
    }
  },
  "cells": [
    {
      "cell_type": "code",
      "execution_count": 20,
      "metadata": {
        "colab": {
          "base_uri": "https://localhost:8080/"
        },
        "id": "oFLl3M4qK2Ab",
        "outputId": "b99a50ad-eb17-4a01-f99e-4c42cb3bb433"
      },
      "outputs": [
        {
          "output_type": "execute_result",
          "data": {
            "text/plain": [
              "True"
            ]
          },
          "metadata": {},
          "execution_count": 20
        }
      ],
      "source": [
        "def is_james_bond(values):\n",
        "  zero_zero_seven = []\n",
        "  for x in values:\n",
        "    if x == 0 or x == 7:\n",
        "      zero_zero_seven.append(x)\n",
        "  sample = [0, 0, 7]\n",
        "  if zero_zero_seven == sample:\n",
        "    return True\n",
        "  else:\n",
        "    return False\n",
        "is_james_bond( [1, 0, 2, 0, 4, 7, 5] )"
      ]
    }
  ]
}