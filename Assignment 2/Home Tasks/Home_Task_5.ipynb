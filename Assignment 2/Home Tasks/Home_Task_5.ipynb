{
  "nbformat": 4,
  "nbformat_minor": 0,
  "metadata": {
    "colab": {
      "provenance": []
    },
    "kernelspec": {
      "name": "python3",
      "display_name": "Python 3"
    },
    "language_info": {
      "name": "python"
    }
  },
  "cells": [
    {
      "cell_type": "code",
      "execution_count": 24,
      "metadata": {
        "colab": {
          "base_uri": "https://localhost:8080/"
        },
        "id": "oFLl3M4qK2Ab",
        "outputId": "ec5c8b7c-e535-402d-ed49-015033b52421"
      },
      "outputs": [
        {
          "output_type": "stream",
          "name": "stdout",
          "text": [
            "Encrypted Keys: ['a101108X', 'b111B', 't100117114Y']\n"
          ]
        }
      ],
      "source": [
        "def key_generator(*names):\n",
        "  keys = []\n",
        "  for name in names:\n",
        "    first = name[0].lower()\n",
        "    last = name[-1].upper()\n",
        "    ascii = []\n",
        "    for x in range(len(name)):\n",
        "      if x == 0:\n",
        "        continue\n",
        "      elif x == len(name) - 1:\n",
        "        continue\n",
        "      else:\n",
        "        ascii.append(str(ord(name[x])))\n",
        "    ascii = ascii[-1::-1]\n",
        "    ascii_ord = \"\"\n",
        "    for items in ascii:\n",
        "      ascii_ord += items\n",
        "    final = first + ascii_ord + last\n",
        "    keys.append(final)\n",
        "  result = f\"Encrypted Keys: {keys}\"\n",
        "  print(result)\n",
        "key_list = key_generator(\"Alex\", \"Bob\", \"Trudy\")"
      ]
    }
  ]
}