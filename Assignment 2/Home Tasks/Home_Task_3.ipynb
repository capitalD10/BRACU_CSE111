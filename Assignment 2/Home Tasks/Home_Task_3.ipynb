{
  "nbformat": 4,
  "nbformat_minor": 0,
  "metadata": {
    "colab": {
      "provenance": []
    },
    "kernelspec": {
      "name": "python3",
      "display_name": "Python 3"
    },
    "language_info": {
      "name": "python"
    }
  },
  "cells": [
    {
      "cell_type": "code",
      "execution_count": 21,
      "metadata": {
        "colab": {
          "base_uri": "https://localhost:8080/"
        },
        "id": "oFLl3M4qK2Ab",
        "outputId": "9372ed45-d0bb-4d09-b5a5-ccbaaf75ffae"
      },
      "outputs": [
        {
          "output_type": "execute_result",
          "data": {
            "text/plain": [
              "{'A': ['Bob'],\n",
              " 'B': ['Charlie'],\n",
              " 'C': ['Grace'],\n",
              " 'D': ['Alice', 'David', 'Eve', 'Frank'],\n",
              " 'E': []}"
            ]
          },
          "metadata": {},
          "execution_count": 21
        }
      ],
      "source": [
        "def assign_students_to_sections(sections, *students):\n",
        "  assigned = {\"A\":[], \"B\":[], \"C\":[], \"D\":[], \"E\":[]}\n",
        "  for each in students:\n",
        "    ascii_student = 0\n",
        "    for ascii in each:\n",
        "      ascii_student += ord(ascii)\n",
        "    if ascii_student % 5 == 0:\n",
        "      assigned[\"A\"].append(each)\n",
        "    elif ascii_student % 5 == 1:\n",
        "      assigned[\"B\"].append(each)\n",
        "    elif ascii_student % 5 == 2:\n",
        "      assigned[\"C\"].append(each)\n",
        "    elif ascii_student % 5 == 3:\n",
        "      assigned[\"D\"].append(each)\n",
        "    elif ascii_student % 5 == 4:\n",
        "      assigned[\"E\"].append(each)\n",
        "  return assigned\n",
        "assign_students_to_sections ('ABCDE', 'Alice', 'Bob', 'Charlie', 'David', 'Eve', 'Frank', 'Grace')"
      ]
    }
  ]
}