{
  "nbformat": 4,
  "nbformat_minor": 0,
  "metadata": {
    "colab": {
      "provenance": []
    },
    "kernelspec": {
      "name": "python3",
      "display_name": "Python 3"
    },
    "language_info": {
      "name": "python"
    }
  },
  "cells": [
    {
      "cell_type": "code",
      "execution_count": 23,
      "metadata": {
        "colab": {
          "base_uri": "https://localhost:8080/"
        },
        "id": "oFLl3M4qK2Ab",
        "outputId": "38593920-68f3-4893-8d60-c79b86a7f6dc"
      },
      "outputs": [
        {
          "output_type": "stream",
          "name": "stdout",
          "text": [
            "First Name: Shakib\n",
            "Middle Name: Bin\n",
            "Last Name: Hasan\n",
            "Student ID: 17305165\n",
            "SHABinsan_5165\n"
          ]
        }
      ],
      "source": [
        "def username_generator(*attributes):\n",
        "  ID = str(student_id)\n",
        "  username = first_name[0:3].upper() + middle_name + last_name[-3:] + \"_\" + ID[-4:]\n",
        "  return username\n",
        "\n",
        "\n",
        "first_name, middle_name, last_name, student_id = input(\"First Name: \"), input(\"Middle Name: \"), input(\"Last Name: \"), int(input(\"Student ID: \"))\n",
        "print(username_generator(first_name, last_name, student_id))"
      ]
    }
  ]
}