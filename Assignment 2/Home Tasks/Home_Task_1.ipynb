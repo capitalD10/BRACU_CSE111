{
  "nbformat": 4,
  "nbformat_minor": 0,
  "metadata": {
    "colab": {
      "provenance": []
    },
    "kernelspec": {
      "name": "python3",
      "display_name": "Python 3"
    },
    "language_info": {
      "name": "python"
    }
  },
  "cells": [
    {
      "cell_type": "code",
      "execution_count": 19,
      "metadata": {
        "colab": {
          "base_uri": "https://localhost:8080/"
        },
        "id": "oFLl3M4qK2Ab",
        "outputId": "9b33e3f5-3bcb-4048-931d-94759c27589b"
      },
      "outputs": [
        {
          "output_type": "stream",
          "name": "stdout",
          "text": [
            "Highest fee was 1000 tk which was paid by Neymar, Bale.\n"
          ]
        }
      ],
      "source": [
        "def hospital_fee(**people):\n",
        "  maximum_fee = 0\n",
        "  fee_payer = []\n",
        "  for value in people.values():\n",
        "    if value > maximum_fee:\n",
        "      maximum_fee = value\n",
        "  fee_payer = [person for person in people.keys() if people[person] == maximum_fee]\n",
        "  payer = \"\"\n",
        "  for x in fee_payer:\n",
        "    payer += x + \", \"\n",
        "  payer = payer[0:-2]\n",
        "\n",
        "  return maximum_fee, payer\n",
        "\n",
        "max_amount, max_payer = hospital_fee(Neymar = 1000, Dembele = 600, Reus = 500, Bale = 1000)\n",
        "print(f\"Highest fee was {max_amount} tk which was paid by {max_payer}.\")"
      ]
    }
  ]
}