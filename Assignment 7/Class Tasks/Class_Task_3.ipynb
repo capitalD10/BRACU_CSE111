{
  "nbformat": 4,
  "nbformat_minor": 0,
  "metadata": {
    "colab": {
      "provenance": []
    },
    "kernelspec": {
      "name": "python3",
      "display_name": "Python 3"
    },
    "language_info": {
      "name": "python"
    }
  },
  "cells": [
    {
      "cell_type": "code",
      "execution_count": 61,
      "metadata": {
        "colab": {
          "base_uri": "https://localhost:8080/"
        },
        "id": "oFLl3M4qK2Ab",
        "outputId": "0ff0a1ad-c70e-4fdc-fd43-c041a3a70036"
      },
      "outputs": [
        {
          "output_type": "stream",
          "name": "stdout",
          "text": [
            "=====================\n",
            "Team: Bangladesh\n",
            "List of players\n",
            "['Mashrafi', 'Tamim']\n",
            "=====================\n",
            "=====================\n",
            "Team: Australia\n",
            "List of players\n",
            "['Ponting', 'Lee']\n",
            "=====================\n"
          ]
        }
      ],
      "source": [
        "class Team:\n",
        "  def __init__(self, team = \"Country\"):\n",
        "    print(\"=====================\")\n",
        "    self.__team = team\n",
        "    self.__list_of_players = []\n",
        "  def setName(self, name):\n",
        "    self.__team = name\n",
        "  def addPlayer(self, player):\n",
        "    self.__list_of_players.append(player.name)\n",
        "  def printDetail(self):\n",
        "    print(f\"Team: {self.__team}\")\n",
        "    print(\"List of players\")\n",
        "    print(self.__list_of_players)\n",
        "    print(\"=====================\")\n",
        "class Player:\n",
        "  def __init__(self, name):\n",
        "    self.name = name\n",
        "\n",
        "b = Team()\n",
        "b.setName('Bangladesh')\n",
        "mashrafi = Player(\"Mashrafi\")\n",
        "b.addPlayer(mashrafi)\n",
        "tamim = Player(\"Tamim\")\n",
        "b.addPlayer(tamim)\n",
        "b.printDetail()\n",
        "a = Team(\"Australia\")\n",
        "ponting = Player(\"Ponting\")\n",
        "a.addPlayer(ponting)\n",
        "lee = Player(\"Lee\")\n",
        "a.addPlayer(lee)\n",
        "a.printDetail()"
      ]
    }
  ]
}