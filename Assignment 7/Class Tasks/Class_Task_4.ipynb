{
  "nbformat": 4,
  "nbformat_minor": 0,
  "metadata": {
    "colab": {
      "provenance": []
    },
    "kernelspec": {
      "name": "python3",
      "display_name": "Python 3"
    },
    "language_info": {
      "name": "python"
    }
  },
  "cells": [
    {
      "cell_type": "code",
      "execution_count": 62,
      "metadata": {
        "colab": {
          "base_uri": "https://localhost:8080/"
        },
        "id": "oFLl3M4qK2Ab",
        "outputId": "92d89e9a-b90f-432e-fb22-d7ccd047de98"
      },
      "outputs": [
        {
          "output_type": "stream",
          "name": "stdout",
          "text": [
            "1.===================================\n",
            "2.===================================\n",
            "Spaceship Name: Falcon\n",
            "Capacity: 50000\n",
            "Current Cargo Weight: 45000\n",
            "Cargo: ['Gold', 'Platinum']\n",
            "3.===================================\n",
            "Spaceship Name: Apollo\n",
            "Capacity: 100000\n",
            "Current Cargo Weight: 20000\n",
            "Cargo: ['Gold']\n",
            "4.===================================\n",
            "Warning: Unable to load Neutronium inside Falcon exceeds capacity by 75000.\n",
            "5.===================================\n",
            "Spaceship Name: Enterprise\n",
            "Capacity: 220000\n",
            "Current Cargo Weight: 200000\n",
            "Cargo: ['Dilithium', 'Trilithium', 'Neutronium']\n"
          ]
        }
      ],
      "source": [
        "class Spaceship:\n",
        "  def __init__(self, name, capacity):\n",
        "    self.name = name\n",
        "    self.capacity = capacity\n",
        "    self.current_weight = 0\n",
        "    self.cargo = []\n",
        "  def load_cargo(self, cargo):\n",
        "    weight = cargo.getWeight()\n",
        "    name = cargo.getName()\n",
        "    if (self.current_weight + weight) <= self.capacity:\n",
        "      self.cargo.append(name)\n",
        "      self.current_weight += weight\n",
        "    else:\n",
        "      print(f\"Warning: Unable to load {name} inside {self.name} exceeds capacity by {(self.current_weight + weight) - self.capacity}.\")\n",
        "  def display_details(self):\n",
        "    print(f\"Spaceship Name: {self.name}\")\n",
        "    print(f\"Capacity: {self.capacity}\")\n",
        "    print(f\"Current Cargo Weight: {self.current_weight}\")\n",
        "    print(f\"Cargo: {self.cargo}\")\n",
        "class Cargo:\n",
        "  def __init__(self, name, weight):\n",
        "    self.__name = name\n",
        "    self.__weight = weight\n",
        "  def setName(self, name):\n",
        "    self.__name = name\n",
        "  def getName(self):\n",
        "    return self.__name\n",
        "  def setWeight(self, weight):\n",
        "    self.__weight = weight\n",
        "  def getWeight(self):\n",
        "    return self.__weight\n",
        "\n",
        "falcon = Spaceship(\"Falcon\", 50000)\n",
        "apollo = Spaceship(\"Apollo\", 100000)\n",
        "enterprise = Spaceship(\"Enterprise\", 220000)\n",
        "print(\"1.===================================\")\n",
        "# Creating cargo\n",
        "gold = Cargo(\"Gold\", 20000)\n",
        "platinum = Cargo(\"Platinum\", 25000)\n",
        "dilithium = Cargo(\"Dilithium\", 50000)\n",
        "trilithium = Cargo(\"Trilithium\", 70000)\n",
        "neutronium = Cargo(\"Neutronium\", 80000)\n",
        "print(\"2.===================================\")\n",
        "# Loading cargo onto spaceships\n",
        "falcon.load_cargo(gold)\n",
        "falcon.load_cargo(platinum)\n",
        "falcon.display_details()\n",
        "print(\"3.===================================\")\n",
        "apollo.load_cargo(gold)  # Apollo will not reach its total capacity\n",
        "apollo.display_details()\n",
        "print(\"4.===================================\")\n",
        "falcon.load_cargo(neutronium)  # This should exceed Falcon's capacity\n",
        "print(\"5.===================================\")\n",
        "enterprise.load_cargo(dilithium)\n",
        "enterprise.load_cargo(trilithium)\n",
        "enterprise.load_cargo(neutronium)  # This should not exceed Enterprise's capacity\n",
        "enterprise.display_details()"
      ]
    }
  ]
}