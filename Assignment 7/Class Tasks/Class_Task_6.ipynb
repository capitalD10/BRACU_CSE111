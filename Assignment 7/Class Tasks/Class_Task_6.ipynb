{
  "nbformat": 4,
  "nbformat_minor": 0,
  "metadata": {
    "colab": {
      "provenance": []
    },
    "kernelspec": {
      "name": "python3",
      "display_name": "Python 3"
    },
    "language_info": {
      "name": "python"
    }
  },
  "cells": [
    {
      "cell_type": "code",
      "execution_count": 64,
      "metadata": {
        "colab": {
          "base_uri": "https://localhost:8080/"
        },
        "id": "oFLl3M4qK2Ab",
        "outputId": "a2d2650c-f92f-4881-b439-d2ea40bc083d"
      },
      "outputs": [
        {
          "output_type": "stream",
          "name": "stdout",
          "text": [
            "Dhaka Library details\n",
            "Borrower details:\n",
            "{}\n",
            "Books availability:\n",
            "{'Arts': 15, 'Fiction': 135, 'Politics': 2, 'Science': 11, 'Poetry': 15}\n",
            "1----------------------\n",
            "Arts book is borrowed successfully.\n",
            "Fiction book is borrowed successfully.\n",
            "Fiction book is borrowed successfully.\n",
            "Politics book is borrowed successfully.\n",
            "2----------------------\n",
            "Politics book is borrowed successfully.\n",
            "You cannot borrow more than 5 books.\n",
            "3----------------------\n",
            "Aladdin, you have 5 book(s) with you.\n",
            "Books on Arts: 1\n",
            "Books on Fiction: 2\n",
            "Books on Politics: 2\n",
            "4----------------------\n",
            "Aladdin you have 2 Fiction books(s) with you.\n",
            "5----------------------\n",
            "Dhaka Library details\n",
            "Borrower details:\n",
            "{'Aladdin': 5}\n",
            "Books availability:\n",
            "{'Arts': 14, 'Fiction': 133, 'Politics': 0, 'Science': 11, 'Poetry': 15}\n",
            "6----------------------\n",
            "Politics books are not available at the moment.\n",
            "Poetry book is borrowed successfully.\n",
            "7----------------------\n",
            "Jasmine, you have 1 book(s) with you.\n",
            "Books on Poetry: 1\n",
            "8----------------------\n",
            "Dhaka Library details\n",
            "Borrower details:\n",
            "{'Aladdin': 5, 'Jasmine': 1}\n",
            "Books availability:\n",
            "{'Arts': 14, 'Fiction': 133, 'Politics': 0, 'Science': 11, 'Poetry': 14}\n"
          ]
        }
      ],
      "source": [
        "class Library:\n",
        "  def __init__(self, location, available_books, borrower = {}):\n",
        "    self.location = location\n",
        "    self.borrower = borrower\n",
        "    self.available_books = available_books\n",
        "  def details(self):\n",
        "    print(f\"{self.location} Library details\")\n",
        "    print(f\"Borrower details:\\n{self.borrower}\")\n",
        "    print(f\"Books availability:\\n{self.available_books}\")\n",
        "class Reader:\n",
        "  def __init__(self, name):\n",
        "    self.name = name\n",
        "    self.borrowed = 0\n",
        "    self.borrowed_books = {}\n",
        "  def borrow(self, library, *types):\n",
        "    for book in types:\n",
        "      if library.available_books[book] != 0:\n",
        "        if (self.borrowed + 1) <= 5:\n",
        "          self.borrowed += 1\n",
        "          if book in self.borrowed_books:\n",
        "            self.borrowed_books[book] += 1\n",
        "            print(f\"{book} book is borrowed successfully.\")\n",
        "            library.available_books[book] -= 1\n",
        "          else:\n",
        "            self.borrowed_books[book] = 1\n",
        "            print(f\"{book} book is borrowed successfully.\")\n",
        "            library.available_books[book] -= 1\n",
        "        else:\n",
        "          print(\"You cannot borrow more than 5 books.\")\n",
        "      else:\n",
        "        print(f\"{book} books are not available at the moment.\")\n",
        "    library.borrower[self.name] = self.borrowed\n",
        "  def readerInfo(self, book = None):\n",
        "    if book == None:\n",
        "      print(f\"{self.name}, you have {self.borrowed} book(s) with you.\")\n",
        "      for stuff in self.borrowed_books:\n",
        "        print(f\"Books on {stuff}: {self.borrowed_books[stuff]}\")\n",
        "    else:\n",
        "      if book in self.borrowed_books:\n",
        "        print(f\"{self.name} you have {self.borrowed_books[book]} {book} books(s) with you.\")\n",
        "\n",
        "L1=Library('Dhaka', {'Arts':15,'Fiction':135,'Politics':2,'Science':11,'Poetry':15})\n",
        "L1.details()\n",
        "print(\"1----------------------\")\n",
        "r1=Reader('Aladdin')\n",
        "r1.borrow(L1,'Arts','Fiction','Fiction','Politics')\n",
        "print(\"2----------------------\")\n",
        "r1.borrow(L1,'Politics','Fiction')\n",
        "print(\"3----------------------\")\n",
        "r1.readerInfo()\n",
        "print(\"4----------------------\")\n",
        "r1.readerInfo('Fiction')\n",
        "print(\"5----------------------\")\n",
        "L1.details()\n",
        "print(\"6----------------------\")\n",
        "r2=Reader('Jasmine')\n",
        "r2.borrow(L1,'Politics','Poetry')\n",
        "print(\"7----------------------\")\n",
        "r2.readerInfo()\n",
        "print(\"8----------------------\")\n",
        "L1.details()"
      ]
    }
  ]
}