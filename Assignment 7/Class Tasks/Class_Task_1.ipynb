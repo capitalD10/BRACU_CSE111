{
  "nbformat": 4,
  "nbformat_minor": 0,
  "metadata": {
    "colab": {
      "provenance": []
    },
    "kernelspec": {
      "name": "python3",
      "display_name": "Python 3"
    },
    "language_info": {
      "name": "python"
    }
  },
  "cells": [
    {
      "cell_type": "code",
      "execution_count": 59,
      "metadata": {
        "colab": {
          "base_uri": "https://localhost:8080/"
        },
        "id": "oFLl3M4qK2Ab",
        "outputId": "65e5e674-6bed-4c35-f22d-2b0ef7fa416b"
      },
      "outputs": [
        {
          "output_type": "stream",
          "name": "stdout",
          "text": [
            "First circle radius: 4\n",
            "First circle area: 50.26548245743669\n",
            "Second circle radius: 5\n",
            "Second circle area: 78.53981633974483\n"
          ]
        }
      ],
      "source": [
        "import math\n",
        "class Circle:\n",
        "  def __init__(self, radius):\n",
        "    self.__radius = radius\n",
        "  def setRadius(self, r):\n",
        "    self.__radius = r\n",
        "  def area(self):\n",
        "    self.__area = (self.__radius ** 2) * math.pi\n",
        "    return self.__area\n",
        "  def getRadius(self):\n",
        "    return self.__radius\n",
        "\n",
        "c1 = Circle(4)\n",
        "print(\"First circle radius:\" , c1.getRadius())\n",
        "print(\"First circle area:\" , c1.area())\n",
        "\n",
        "\n",
        "c2 = Circle(5)\n",
        "print(\"Second circle radius:\" , c2.getRadius())\n",
        "print(\"Second circle area:\" , c2.area())"
      ]
    }
  ]
}