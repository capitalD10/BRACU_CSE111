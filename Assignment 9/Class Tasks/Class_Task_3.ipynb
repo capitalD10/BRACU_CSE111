{
  "nbformat": 4,
  "nbformat_minor": 0,
  "metadata": {
    "colab": {
      "provenance": []
    },
    "kernelspec": {
      "name": "python3",
      "display_name": "Python 3"
    },
    "language_info": {
      "name": "python"
    }
  },
  "cells": [
    {
      "cell_type": "code",
      "execution_count": 71,
      "metadata": {
        "colab": {
          "base_uri": "https://localhost:8080/"
        },
        "collapsed": true,
        "id": "oFLl3M4qK2Ab",
        "outputId": "bc723fe2-ec66-4290-98dd-30a82a86b1f5"
      },
      "outputs": [
        {
          "output_type": "stream",
          "name": "stdout",
          "text": [
            "Total Number of branch(s): 0\n",
            "Total Sell: 0\n",
            "########################\n",
            "Branch Name: Dhanmondi\n",
            "Branch Sell: 10000 Taka\n",
            "-----------------------------------------\n",
            "Total Number of branch(s): 1\n",
            "Total Sell: 10000\n",
            "Branch Name: Dhanmondi, Branch Sell: 10000 Taka\n",
            "Branch consists of total sell's: 100.0%\n",
            "========================\n",
            "Branch Name: Baily Road\n",
            "Branch Sell: 5250 Taka\n",
            "-----------------------------------------\n",
            "Total Number of branch(s): 2\n",
            "Total Sell: 15250\n",
            "Branch Name: Dhanmondi, Branch Sell: 10000 Taka\n",
            "Branch consists of total sell's: 100.0%\n",
            "Branch Name: Baily Road, Branch Sell: 5250 Taka\n",
            "Branch consists of total sell's: 34.43%\n",
            "========================\n",
            "Branch Name: Gulshan\n",
            "Branch Sell: 2700 Taka\n",
            "-----------------------------------------\n",
            "Total Number of branch(s): 3\n",
            "Total Sell: 17950\n",
            "Branch Name: Dhanmondi, Branch Sell: 10000 Taka\n",
            "Branch consists of total sell's: 100.0%\n",
            "Branch Name: Baily Road, Branch Sell: 5250 Taka\n",
            "Branch consists of total sell's: 34.43%\n",
            "Branch Name: Gulshan, Branch Sell: 2700 Taka\n",
            "Branch consists of total sell's: 15.04%\n"
          ]
        }
      ],
      "source": [
        "class SultansDine:\n",
        "  branches = 0\n",
        "  total_branch = []\n",
        "  sell = 0\n",
        "  def __init__(self, branch):\n",
        "    self.branch = branch\n",
        "    SultansDine.total_branch.append(self)\n",
        "    SultansDine.branches += 1\n",
        "  def sellQuantity(self, sold):\n",
        "    if sold < 10:\n",
        "      self.branch_sell = sold * 300\n",
        "    elif sold < 20:\n",
        "      self.branch_sell = sold * 350\n",
        "    else:\n",
        "      self.branch_sell = sold * 400\n",
        "    SultansDine.sell += self.branch_sell\n",
        "    self.sell_percent = (self.branch_sell / SultansDine.sell) * 100\n",
        "  def branchInformation(self):\n",
        "    print(f\"Branch Name: {self.branch}\")\n",
        "    print(f\"Branch Sell: {self.branch_sell} Taka\")\n",
        "  @classmethod\n",
        "  def details(cls):\n",
        "    print(f\"Total Number of branch(s): {cls.branches}\")\n",
        "    print(f\"Total Sell: {cls.sell}\")\n",
        "    if len(cls.total_branch) == 0:\n",
        "      pass\n",
        "    else:\n",
        "      for obj in cls.total_branch:\n",
        "        print(f\"Branch Name: {obj.branch}, Branch Sell: {obj.branch_sell} Taka\")\n",
        "        print(f\"Branch consists of total sell's: {round(obj.sell_percent, 2)}%\")\n",
        "\n",
        "SultansDine.details()\n",
        "print('########################')\n",
        "dhanmondi = SultansDine('Dhanmondi')\n",
        "dhanmondi.sellQuantity(25)\n",
        "dhanmondi.branchInformation()\n",
        "print('-----------------------------------------')\n",
        "SultansDine.details()\n",
        "\n",
        "print('========================')\n",
        "\n",
        "baily_road = SultansDine('Baily Road')\n",
        "baily_road.sellQuantity(15)\n",
        "baily_road.branchInformation()\n",
        "print('-----------------------------------------')\n",
        "SultansDine.details()\n",
        "\n",
        "print('========================')\n",
        "\n",
        "gulshan = SultansDine('Gulshan')\n",
        "gulshan.sellQuantity(9)\n",
        "gulshan.branchInformation()\n",
        "print('-----------------------------------------')\n",
        "SultansDine.details()"
      ]
    }
  ]
}