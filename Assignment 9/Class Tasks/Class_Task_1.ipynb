{
  "nbformat": 4,
  "nbformat_minor": 0,
  "metadata": {
    "colab": {
      "provenance": []
    },
    "kernelspec": {
      "name": "python3",
      "display_name": "Python 3"
    },
    "language_info": {
      "name": "python"
    }
  },
  "cells": [
    {
      "cell_type": "code",
      "execution_count": 69,
      "metadata": {
        "colab": {
          "base_uri": "https://localhost:8080/"
        },
        "collapsed": true,
        "id": "oFLl3M4qK2Ab",
        "outputId": "d537fcde-7083-450c-b95e-08dbe6efe4f6"
      },
      "outputs": [
        {
          "output_type": "stream",
          "name": "stdout",
          "text": [
            "xxxxxxxxxxxxxx1xxxxxxxxxxxxxxxx\n",
            "Nike Bangladesh Status:\n",
            "Branches Opened: []\n",
            "Currently Stocked\n",
            "{'Air Jordan': 0, 'Cortez': 0, 'Zoom Kobe': 0}\n",
            "Sold: 0\n",
            "xxxxxxxxxxxxxx2xxxxxxxxxxxxxxxx\n",
            "Nike Dhaka Banani outlet:\n",
            "Products Currently Stocked:\n",
            "{'Air Jordan': 0, 'Cortez': 0, 'Zoom Kobe': 0}\n",
            "Sold: 0\n",
            "xxxxxxxxxxxxxx3xxxxxxxxxxxxxxxx\n",
            "Nike Chittagong GEC outlet:\n",
            "Products Currently Stocked:\n",
            "{'Air Jordan': 0, 'Cortez': 0, 'Zoom Kobe': 0}\n",
            "Sold: 0\n",
            "xxxxxxxxxxxxxx4xxxxxxxxxxxxxxxx\n",
            "xxxxxxxxxxxxxx5xxxxxxxxxxxxxxxx\n",
            "Nike Bangladesh Status:\n",
            "Branches Opened: ['Dhaka Banani', 'Chittagong GEC']\n",
            "Currently Stocked\n",
            "{'Air Jordan': 2200, 'Cortez': 450, 'Zoom Kobe': 300}\n",
            "Sold: 0\n",
            "xxxxxxxxxxxxxx6xxxxxxxxxxxxxxxx\n",
            "xxxxxxxxxxxxxx7xxxxxxxxxxxxxxxx\n",
            "Nike Bangladesh Status:\n",
            "Branches Opened: ['Dhaka Banani', 'Chittagong GEC']\n",
            "Currently Stocked\n",
            "{'Air Jordan': 920, 'Cortez': 360, 'Zoom Kobe': 230}\n",
            "Sold: 1440\n"
          ]
        }
      ],
      "source": [
        "class NikeBangladesh:\n",
        "  branches = []\n",
        "  stocked = {\"Air Jordan\":0, \"Cortez\":0, \"Zoom Kobe\":0}\n",
        "  sold = 0\n",
        "  def __init__(self, branch):\n",
        "    self.branch = branch\n",
        "    self.products = {\"Air Jordan\":0, \"Cortez\":0, \"Zoom Kobe\":0}\n",
        "    NikeBangladesh.branches.append(branch)\n",
        "  def restockProducts(self, prod):\n",
        "    self.products = prod\n",
        "    for item in self.products:\n",
        "      for item1 in NikeBangladesh.stocked:\n",
        "        if item == item1:\n",
        "          NikeBangladesh.stocked[item1] += self.products[item]\n",
        "        else:\n",
        "          continue\n",
        "  def productSold(self, sold_prod):\n",
        "    for item in NikeBangladesh.stocked:\n",
        "      for item1 in self.products:\n",
        "        for item2 in sold_prod:\n",
        "          if (item2 == item) and (item1 == item2):\n",
        "            if NikeBangladesh.stocked[item] == 0 and self.products[item1] == 0:\n",
        "              continue\n",
        "            else:\n",
        "              NikeBangladesh.stocked[item] -= sold_prod[item2]\n",
        "              self.products[item1] -= sold_prod[item2]\n",
        "              NikeBangladesh.sold += sold_prod[item2]\n",
        "          else:\n",
        "            continue\n",
        "  def details(self):\n",
        "    print(f\"Nike {self.branch} outlet:\")\n",
        "    print(\"Products Currently Stocked:\")\n",
        "    print(self.products)\n",
        "    print(f\"Sold: {NikeBangladesh.sold}\")\n",
        "  @classmethod\n",
        "  def status(cls):\n",
        "    print(\"Nike Bangladesh Status:\")\n",
        "    print(f\"Branches Opened: {cls.branches}\")\n",
        "    print(f\"Currently Stocked\\n{cls.stocked}\")\n",
        "    print(f\"Sold: {cls.sold}\")\n",
        "\n",
        "print(\"xxxxxxxxxxxxxx1xxxxxxxxxxxxxxxx\")\n",
        "NikeBangladesh.status()\n",
        "dhaka = NikeBangladesh(\"Dhaka Banani\")\n",
        "chittagong = NikeBangladesh(\"Chittagong GEC\")\n",
        "print(\"xxxxxxxxxxxxxx2xxxxxxxxxxxxxxxx\")\n",
        "dhaka.details()\n",
        "print(\"xxxxxxxxxxxxxx3xxxxxxxxxxxxxxxx\")\n",
        "chittagong.details()\n",
        "print(\"xxxxxxxxxxxxxx4xxxxxxxxxxxxxxxx\")\n",
        "dhaka.restockProducts(\n",
        "{\"Air Jordan\":1200,\"Cortez\":200,\"Zoom Kobe\":200})\n",
        "chittagong.restockProducts(\n",
        "{\"Air Jordan\":1000,\"Cortez\":250,\"Zoom Kobe\":100})\n",
        "print(\"xxxxxxxxxxxxxx5xxxxxxxxxxxxxxxx\")\n",
        "NikeBangladesh.status()\n",
        "print(\"xxxxxxxxxxxxxx6xxxxxxxxxxxxxxxx\")\n",
        "dhaka.productSold({\"Air Jordan\":760,\"Cortez\":90})\n",
        "chittagong.productSold({\"Air Jordan\":520,\"Zoom Kobe\":70})\n",
        "print(\"xxxxxxxxxxxxxx7xxxxxxxxxxxxxxxx\")\n",
        "NikeBangladesh.status()"
      ]
    }
  ]
}