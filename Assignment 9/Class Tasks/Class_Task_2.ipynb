{
  "nbformat": 4,
  "nbformat_minor": 0,
  "metadata": {
    "colab": {
      "provenance": []
    },
    "kernelspec": {
      "name": "python3",
      "display_name": "Python 3"
    },
    "language_info": {
      "name": "python"
    }
  },
  "cells": [
    {
      "cell_type": "code",
      "execution_count": 70,
      "metadata": {
        "colab": {
          "base_uri": "https://localhost:8080/"
        },
        "collapsed": true,
        "id": "oFLl3M4qK2Ab",
        "outputId": "bd7ee029-c34c-4c3b-9eea-3d976ad0e9ed"
      },
      "outputs": [
        {
          "output_type": "stream",
          "name": "stdout",
          "text": [
            "Total number of players: 0\n",
            "---------------------------\n",
            "Player Name: Neymar\n",
            "Jersey Number: 10\n",
            "Country: Brazil\n",
            "========================\n",
            "Total number of players: 1\n",
            "Players enlisted so far: Neymar\n",
            "---------------------------\n",
            "Player Name: Ronaldo\n",
            "Jersey Number: 7\n",
            "Country: Portugal\n",
            "========================\n",
            "Total number of players: 2\n",
            "Players enlisted so far: Neymar, Ronaldo\n",
            "---------------------------\n",
            "Player Name: Messi\n",
            "Jersey Number: 10\n",
            "Country: Argentina\n",
            "========================\n",
            "Total number of players: 3\n",
            "Players enlisted so far: Neymar, Ronaldo, Messi\n",
            "---------------------------\n",
            "Player Name: Mbappe\n",
            "Jersey Number: 10\n",
            "Country: France\n",
            "========================\n",
            "Total number of players: 4\n",
            "Players enlisted so far: Neymar, Ronaldo, Messi, Mbappe\n"
          ]
        }
      ],
      "source": [
        "class Player:\n",
        "  total = 0\n",
        "  players = []\n",
        "  def __init__(self, player = \"Default\", jersey = 10, country = \"Country\"):\n",
        "    self.player = player\n",
        "    self.jersey = jersey\n",
        "    self.country = country\n",
        "    Player.total += 1\n",
        "    if player == \"Default\":\n",
        "      pass\n",
        "    else:\n",
        "      Player.players.append(player)\n",
        "  def set_name(self, name):\n",
        "    self.player = name\n",
        "    Player.players.append(name)\n",
        "  def set_number(self, num):\n",
        "    self.jersey = num\n",
        "  def set_team(self, team):\n",
        "    self.country = team\n",
        "  def player_detail(self):\n",
        "    return f\"Player Name: {self.player}\\nJersey Number: {self.jersey}\\nCountry: {self.country}\"\n",
        "  @classmethod\n",
        "  def info(cls):\n",
        "    print(f\"Total number of players: {cls.total}\")\n",
        "    print(f\"Players enlisted so far: {', '.join(cls.players)}\")\n",
        "\n",
        "print(\"Total number of players:\", Player.total)\n",
        "print(\"---------------------------\")\n",
        "p1 = Player()\n",
        "p1.set_name(\"Neymar\")\n",
        "p1.set_team(\"Brazil\")\n",
        "print(p1.player_detail())\n",
        "print('========================')\n",
        "Player.info()\n",
        "print(\"---------------------------\")\n",
        "p2 = Player(\"Ronaldo\")\n",
        "p2.set_number(7)\n",
        "p2.set_team(\"Portugal\")\n",
        "print(p2.player_detail())\n",
        "print('========================')\n",
        "Player.info()\n",
        "print(\"---------------------------\")\n",
        "p3 = Player(\"Messi\")\n",
        "p3.set_team(\"Argentina\")\n",
        "print(p3.player_detail())\n",
        "print('========================')\n",
        "Player.info()\n",
        "print(\"---------------------------\")\n",
        "p4 = Player(\"Mbappe\", 10, \"France\")\n",
        "print(p4.player_detail())\n",
        "print('========================')\n",
        "Player.info()"
      ]
    }
  ]
}